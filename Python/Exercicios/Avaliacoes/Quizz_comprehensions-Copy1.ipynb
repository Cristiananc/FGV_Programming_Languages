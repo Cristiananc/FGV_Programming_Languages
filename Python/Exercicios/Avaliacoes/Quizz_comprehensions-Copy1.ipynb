{
 "cells": [
  {
   "cell_type": "markdown",
   "metadata": {},
   "source": [
    "1 - Dada a string abaixo:"
   ]
  },
  {
   "cell_type": "code",
   "execution_count": 6,
   "metadata": {},
   "outputs": [],
   "source": [
    "jgr = 'Só se pode viver perto de outro, e conhecer outra pessoa, \\\n",
    "sem perigo de ódio, se a gente tem amor. Qualquer amor já é um pouquinho \\\n",
    "de saúde, um descanso na loucura.'"
   ]
  },
  {
   "cell_type": "markdown",
   "metadata": {},
   "source": [
    "Use uma list comprehension para criar uma lista de tuplas na forma:\n",
    "(palavra em maiúscula, palavra em minúscula, tamanho da palavra)"
   ]
  },
  {
   "cell_type": "code",
   "execution_count": 61,
   "metadata": {},
   "outputs": [
    {
     "data": {
      "text/plain": [
       "[('Só', 'só', 2),\n",
       " ('Se', 'se', 2),\n",
       " ('Pode', 'pode', 4),\n",
       " ('Viver', 'viver', 5),\n",
       " ('Perto', 'perto', 5),\n",
       " ('De', 'de', 2),\n",
       " ('Outro,', 'outro,', 6),\n",
       " ('E', 'e', 1),\n",
       " ('Conhecer', 'conhecer', 8),\n",
       " ('Outra', 'outra', 5),\n",
       " ('Pessoa,', 'pessoa,', 7),\n",
       " ('Sem', 'sem', 3),\n",
       " ('Perigo', 'perigo', 6),\n",
       " ('De', 'de', 2),\n",
       " ('Ódio,', 'ódio,', 5),\n",
       " ('Se', 'se', 2),\n",
       " ('A', 'a', 1),\n",
       " ('Gente', 'gente', 5),\n",
       " ('Tem', 'tem', 3),\n",
       " ('Amor.', 'amor.', 5),\n",
       " ('Qualquer', 'qualquer', 8),\n",
       " ('Amor', 'amor', 4),\n",
       " ('Já', 'já', 2),\n",
       " ('É', 'é', 1),\n",
       " ('Um', 'um', 2),\n",
       " ('Pouquinho', 'pouquinho', 9),\n",
       " ('De', 'de', 2),\n",
       " ('Saúde,', 'saúde,', 6),\n",
       " ('Um', 'um', 2),\n",
       " ('Descanso', 'descanso', 8),\n",
       " ('Na', 'na', 2),\n",
       " ('Loucura.', 'loucura.', 8)]"
      ]
     },
     "execution_count": 61,
     "metadata": {},
     "output_type": "execute_result"
    }
   ],
   "source": [
    "import string\n",
    "\n",
    "mini= [words.lower() for words in jgr.split()]\n",
    "mai = [words.title() for words in jgr.split()]\n",
    "tam = [len(palavra) for palavra in jgr.split()]\n",
    "\n",
    "list(zip(mai,mini,tam))\n"
   ]
  },
  {
   "cell_type": "markdown",
   "metadata": {},
   "source": [
    "2 - Extraia, do texto abaixo, um dicionário de frequências de palavras na forma {palavra: frequência}. Limpe as palavras no quanto for possível."
   ]
  },
  {
   "cell_type": "code",
   "execution_count": 19,
   "metadata": {},
   "outputs": [],
   "source": [
    "texto = '''\n",
    "Cansaço\n",
    "O que há em mim é sobretudo cansaço —\n",
    "Não disto nem daquilo,\n",
    "Nem sequer de tudo ou de nada:\n",
    "Cansaço assim mesmo, ele mesmo,\n",
    "Cansaço.\n",
    "\n",
    "A subtileza das sensações inúteis,\n",
    "As paixões violentas por coisa nenhuma,\n",
    "Os amores intensos por o suposto em alguém,\n",
    "Essas coisas todas —\n",
    "Essas e o que falta nelas eternamente —;\n",
    "Tudo isso faz um cansaço,\n",
    "Este cansaço,\n",
    "Cansaço. \n",
    "\n",
    "'''"
   ]
  },
  {
   "cell_type": "code",
   "execution_count": 62,
   "metadata": {},
   "outputs": [
    {
     "name": "stdout",
     "output_type": "stream",
     "text": [
      "{'mesmo': 2, 'suposto': 1, 'coisa': 1, 'falta': 1, 'tudo': 2, 'de': 2, 'subtileza': 1, 'isso': 1, 'as': 1, 'este': 1, 'amores': 1, 'os': 1, 'violentas': 1, 'sequer': 1, 'coisas': 1, 'todas': 1, 'não': 1, 'mim': 1, 'ele': 1, 'que': 2, 'nenhuma': 1, '—': 3, 'essas': 2, 'nada': 1, 'em': 2, 'das': 1, 'por': 2, 'sensações': 1, 'nem': 2, 'disto': 1, 'o': 3, 'cansaço': 7, 'intensos': 1, 'é': 1, 'sobretudo': 1, 'a': 1, 'daquilo': 1, 'nelas': 1, 'e': 1, 'inúteis': 1, 'assim': 1, 'paixões': 1, 'faz': 1, 'alguém': 1, 'um': 1, 'há': 1, 'eternamente': 1, 'ou': 1}\n"
     ]
    }
   ],
   "source": [
    "import string\n",
    "\n",
    "poesia = [words.lower().strip(string.punctuation) for words in texto.split()]\n",
    "\n",
    "def conta_palavras(poesia):\n",
    "    count = dict()\n",
    "    for palavra in poesia:\n",
    "        if palavra in count:\n",
    "            count[palavra] = count[palavra] + 1\n",
    "        else:\n",
    "            count[palavra] = 1\n",
    "    return count\n",
    "print(conta_palavras(poesia))"
   ]
  },
  {
   "cell_type": "code",
   "execution_count": 59,
   "metadata": {},
   "outputs": [
    {
     "data": {
      "text/plain": [
       "{'oi': 1}"
      ]
     },
     "execution_count": 59,
     "metadata": {},
     "output_type": "execute_result"
    }
   ],
   "source": [
    "\n",
    "c = dict()\n",
    "c['oi'] = 1\n",
    "c"
   ]
  },
  {
   "cell_type": "markdown",
   "metadata": {},
   "source": [
    "3- Dadas as características do Calendário Gregoriano:  \n",
    "\n",
    " + Janeiro, Março, Maio, Julho, Agosto, Outubro e Dezembro têm trinta e um dias;\n",
    " + Abril, Junho, Setembro e Novembro têm trinta dias;\n",
    " + Fevereiro tem 28 dias, exceto em anos bissextos, quando tem 29.\n",
    " + Anos bissextos ocorrem quando o ano for divisível por 4, mas não quando for divisível por 100, exceto quando for divisível também por 400.\n",
    " \n",
    " + 1o de Janeiro de 1900 caiu em uma segunda-feira.\n",
    "\n",
    "Responda: Quantos sábados cairam no dia primeiro do mês durante o século XX? (1o de Janeiro de 1901 até 31 Dezembro de 2000)?\n"
   ]
  },
  {
   "cell_type": "code",
   "execution_count": 118,
   "metadata": {},
   "outputs": [],
   "source": [
    "import calendar\n",
    "\n",
    "def conta_fevereiro():\n",
    "    lista = []\n",
    "    for ano in list(range(1901,2001)):\n",
    "        if ano % 4== 0 and (ano % 100 != 0 or ano % 400 == 0):\n",
    "            lista.append(29) \n",
    "        else:\n",
    "            lista.append(28)\n",
    "    return lista\n",
    "        \n",
    "fev = conta_fevereiro()\n",
    "\n",
    "def meses():\n",
    "    lista = []\n",
    "    for mes in list(range(1,13)):\n",
    "        if mes in [1,3,5,7,8,10,12]:\n",
    "            lista.append(31)\n",
    "        else:\n",
    "            lista.append(30)\n",
    "    return lista\n",
    "list_meses = meses()\n"
   ]
  },
  {
   "cell_type": "code",
   "execution_count": 116,
   "metadata": {},
   "outputs": [
    {
     "name": "stdout",
     "output_type": "stream",
     "text": [
      "171\n"
     ]
    }
   ],
   "source": [
    "def conta_sabadosB():\n",
    "    conta = 0\n",
    "    for ano in list(range(1901,2001)):\n",
    "        for mes in list(range(1,13)):\n",
    "            if calendar.weekday(ano,mes,1) == 5:\n",
    "                conta = conta + 1\n",
    "    return conta\n",
    "print(conta_sabadosB())\n",
    "    "
   ]
  },
  {
   "cell_type": "code",
   "execution_count": 96,
   "metadata": {},
   "outputs": [
    {
     "data": {
      "text/plain": [
       "[31, 30, 31, 30, 31, 30, 31, 31, 30, 31, 30, 31]"
      ]
     },
     "execution_count": 96,
     "metadata": {},
     "output_type": "execute_result"
    }
   ],
   "source": [
    "l =list(range(1901,2001))\n",
    "list_meses"
   ]
  },
  {
   "cell_type": "code",
   "execution_count": 119,
   "metadata": {},
   "outputs": [
    {
     "ename": "ValueError",
     "evalue": "day is out of range for month",
     "output_type": "error",
     "traceback": [
      "\u001b[0;31m---------------------------------------------------------------------------\u001b[0m",
      "\u001b[0;31mValueError\u001b[0m                                Traceback (most recent call last)",
      "\u001b[0;32m<ipython-input-119-5b4b99f2ebf6>\u001b[0m in \u001b[0;36m<module>\u001b[0;34m()\u001b[0m\n\u001b[1;32m      1\u001b[0m \u001b[0;32mimport\u001b[0m \u001b[0mcalendar\u001b[0m\u001b[0;34m\u001b[0m\u001b[0m\n\u001b[0;32m----> 2\u001b[0;31m \u001b[0mcalendar\u001b[0m\u001b[0;34m.\u001b[0m\u001b[0mweekday\u001b[0m\u001b[0;34m(\u001b[0m\u001b[0;36m2001\u001b[0m\u001b[0;34m,\u001b[0m\u001b[0;36m2\u001b[0m\u001b[0;34m,\u001b[0m\u001b[0;36m29\u001b[0m\u001b[0;34m)\u001b[0m\u001b[0;34m\u001b[0m\u001b[0m\n\u001b[0m",
      "\u001b[0;32m/usr/lib/python3.5/calendar.py\u001b[0m in \u001b[0;36mweekday\u001b[0;34m(year, month, day)\u001b[0m\n\u001b[1;32m    111\u001b[0m     \"\"\"Return weekday (0-6 ~ Mon-Sun) for year (1970-...), month (1-12),\n\u001b[1;32m    112\u001b[0m        day (1-31).\"\"\"\n\u001b[0;32m--> 113\u001b[0;31m     \u001b[0;32mreturn\u001b[0m \u001b[0mdatetime\u001b[0m\u001b[0;34m.\u001b[0m\u001b[0mdate\u001b[0m\u001b[0;34m(\u001b[0m\u001b[0myear\u001b[0m\u001b[0;34m,\u001b[0m \u001b[0mmonth\u001b[0m\u001b[0;34m,\u001b[0m \u001b[0mday\u001b[0m\u001b[0;34m)\u001b[0m\u001b[0;34m.\u001b[0m\u001b[0mweekday\u001b[0m\u001b[0;34m(\u001b[0m\u001b[0;34m)\u001b[0m\u001b[0;34m\u001b[0m\u001b[0m\n\u001b[0m\u001b[1;32m    114\u001b[0m \u001b[0;34m\u001b[0m\u001b[0m\n\u001b[1;32m    115\u001b[0m \u001b[0;34m\u001b[0m\u001b[0m\n",
      "\u001b[0;31mValueError\u001b[0m: day is out of range for month"
     ]
    }
   ],
   "source": [
    "import calendar\n",
    "calendar.weekday(2001,2,29)"
   ]
  },
  {
   "cell_type": "markdown",
   "metadata": {},
   "source": [
    "4- Procure gerar um número (pseudo-)aleatório entre 0 e 9 de forma criativa, usando funções geradoras e o módulo time. \n",
    "Não utilize o módulo random."
   ]
  },
  {
   "cell_type": "code",
   "execution_count": 4,
   "metadata": {},
   "outputs": [],
   "source": [
    "## exemplo para inspirar vocês. Há que se verificar se os números gerados parecem ser aleatórios.\n",
    "import time\n",
    "\n",
    "def numero_aleatorio():\n",
    "    x = time.time()\n",
    "    while True:\n",
    "        num = time.time() - x\n",
    "        #print(num)\n",
    "        num = [n for n in str(num) if n.isdigit()]\n",
    "        num = num[6]\n",
    "        yield int(num)\n",
    "\n",
    "gen = numero_aleatorio()"
   ]
  },
  {
   "cell_type": "code",
   "execution_count": 8,
   "metadata": {},
   "outputs": [
    {
     "name": "stdout",
     "output_type": "stream",
     "text": [
      "7\n"
     ]
    }
   ],
   "source": [
    "print(next(gen))"
   ]
  },
  {
   "cell_type": "code",
   "execution_count": null,
   "metadata": {
    "collapsed": true
   },
   "outputs": [],
   "source": []
  }
 ],
 "metadata": {
  "kernelspec": {
   "display_name": "Python 3",
   "language": "python",
   "name": "python3"
  },
  "language_info": {
   "codemirror_mode": {
    "name": "ipython",
    "version": 3
   },
   "file_extension": ".py",
   "mimetype": "text/x-python",
   "name": "python",
   "nbconvert_exporter": "python",
   "pygments_lexer": "ipython3",
   "version": "3.5.2"
  }
 },
 "nbformat": 4,
 "nbformat_minor": 2
}
