{
 "cells": [
  {
   "cell_type": "markdown",
   "metadata": {},
   "source": [
    "A2 de Linguagens de Programação – 26/11/2018\n",
    "--\n",
    "Professor: Renato Rocha Souza  \n",
    "--"
   ]
  },
  {
   "cell_type": "markdown",
   "metadata": {},
   "source": [
    "Nome do Aluno(a):"
   ]
  },
  {
   "cell_type": "code",
   "execution_count": 6,
   "metadata": {},
   "outputs": [
    {
     "name": "stdout",
     "output_type": "stream",
     "text": [
      "Entre com o seu nome completo: Cristiana Aparecida Nogueira Couto\n",
      "Olá, Cristiana Aparecida Nogueira Couto!\n",
      "Bom trabalho!\n"
     ]
    }
   ],
   "source": [
    "meu_nome = input('Entre com o seu nome completo: ')\n",
    "print('Olá, {}!'.format(meu_nome))\n",
    "print('Bom trabalho!')"
   ]
  },
  {
   "cell_type": "code",
   "execution_count": 284,
   "metadata": {},
   "outputs": [],
   "source": [
    "import numpy as np\n",
    "import pandas as pd\n",
    "import matplotlib.pyplot as plt\n",
    "import requests\n",
    "import random\n",
    "import operator\n",
    "\n",
    "\n",
    "from collections import Counter\n",
    "import re\n",
    "import string\n",
    "import time\n",
    "\n",
    "import pymysql\n",
    "import sqlite3\n",
    "import getpass\n",
    "import pandas.io.sql as psql\n",
    "import networkx as nx\n",
    "from IPython.display import clear_output\n",
    "%matplotlib inline"
   ]
  },
  {
   "cell_type": "markdown",
   "metadata": {},
   "source": [
    "Questão 1 (1,0 ponto):  \n",
    "\n",
    "Utilizando Python + SQL, crie uma tabela \"aluno\" em banco de dados no sqlite que tenha os seguintes campos:\n",
    "\n",
    "+ id \n",
    "+ nome\n",
    "+ data_nascimento\n",
    "+ matricula\n",
    "\n",
    "Escolha os tipos de dados apropriados. O campo id é chave primária, e deve ser autoincrementável. \n",
    "\n",
    "Veja:  \n",
    "https://sqlite.org/datatype3.html    \n",
    "https://sqlite.org/autoinc.html  \n",
    "https://www.tutorialspoint.com/sqlite/sqlite_update_query.htm  "
   ]
  },
  {
   "cell_type": "code",
   "execution_count": 309,
   "metadata": {},
   "outputs": [],
   "source": [
    "conn = sqlite3.connect('../../Dados/meudatabase.sqlite')\n",
    "cur = conn.cursor()"
   ]
  },
  {
   "cell_type": "code",
   "execution_count": 317,
   "metadata": {},
   "outputs": [
    {
     "data": {
      "text/plain": [
       "<sqlite3.Cursor at 0x7ff7601295e0>"
      ]
     },
     "execution_count": 317,
     "metadata": {},
     "output_type": "execute_result"
    }
   ],
   "source": [
    "q = \"CREATE TABLE aluno(id int, FirstName varchar(32), LastName varchar(32), dept int)\"\n",
    "cur.execute(q)"
   ]
  },
  {
   "cell_type": "code",
   "execution_count": 320,
   "metadata": {},
   "outputs": [
    {
     "name": "stdout",
     "output_type": "stream",
     "text": [
      "CREATE TABLE aluno(id int, FirstName varchar(32), LastName varchar(32), dept int)\n"
     ]
    }
   ],
   "source": []
  },
  {
   "cell_type": "markdown",
   "metadata": {},
   "source": [
    "Questão 2 (1.5 ponto):  \n",
    "\n",
    "Conecte ao banco SQLite \"iris_database.sqlite\"e responda, demonstrando os comandos Python + SQL apropriados:  \n",
    "\n",
    "a) Há quantas \"Species\" diferentes na tabela \"iris\"?  \n",
    "b) Quantos registros totais há na tabela \"iris\"?  \n",
    "\n",
    "Considerando a superfície das pétalas e sépalas como retangular, responda:  \n",
    "\n",
    "c) Qual espécie (\"Species\") contém, em média, a maior área de pétalas?  \n",
    "d) Qual espécie (\"Species\") contém, em média, a maior área total (pétalas e sépalas)?  \n",
    "\n",
    "(Por curiosidade, as espécies de Iris contém 3 pétalas e 3 sépalas)  "
   ]
  },
  {
   "cell_type": "code",
   "execution_count": null,
   "metadata": {},
   "outputs": [],
   "source": [
    "conn = sqlite3.connect('../../Dados/iris_database.sqlite')\n",
    "cur = conn.cursor()"
   ]
  },
  {
   "cell_type": "code",
   "execution_count": null,
   "metadata": {},
   "outputs": [],
   "source": [
    "#a)"
   ]
  },
  {
   "cell_type": "code",
   "execution_count": null,
   "metadata": {},
   "outputs": [],
   "source": [
    "#b)"
   ]
  },
  {
   "cell_type": "code",
   "execution_count": null,
   "metadata": {},
   "outputs": [],
   "source": [
    "#c)"
   ]
  },
  {
   "cell_type": "code",
   "execution_count": null,
   "metadata": {},
   "outputs": [],
   "source": [
    "#d)"
   ]
  },
  {
   "cell_type": "markdown",
   "metadata": {},
   "source": [
    "Questão 3 (1.5 pontos):  \n",
    "\n",
    "Importe o arquivo ../../Dados/votesurvey.xls para um dataframe do Python usando o método apropriado, e responda às questões:  \n",
    "\n",
    "a) Exiba as 15 primeiras linhas (essa é muito fácil!).  \n",
    "b) Qual a média de salário desejado, dentre os eleitores de cada presidente?  \n",
    "c) Qual fator tem maior influência sobre o salário atual? Sexo ou Idade?  \n",
    "d) Crie uma nova coluna no dataframe original que exiba o salário atual dividido pela idade.  "
   ]
  },
  {
   "cell_type": "code",
   "execution_count": 148,
   "metadata": {},
   "outputs": [
    {
     "data": {
      "text/html": [
       "<div>\n",
       "<style scoped>\n",
       "    .dataframe tbody tr th:only-of-type {\n",
       "        vertical-align: middle;\n",
       "    }\n",
       "\n",
       "    .dataframe tbody tr th {\n",
       "        vertical-align: top;\n",
       "    }\n",
       "\n",
       "    .dataframe thead th {\n",
       "        text-align: right;\n",
       "    }\n",
       "</style>\n",
       "<table border=\"1\" class=\"dataframe\">\n",
       "  <thead>\n",
       "    <tr style=\"text-align: right;\">\n",
       "      <th></th>\n",
       "      <th>Gender</th>\n",
       "      <th>Age</th>\n",
       "      <th>Salary before Stern</th>\n",
       "      <th>Expected salary</th>\n",
       "      <th>Candidate</th>\n",
       "    </tr>\n",
       "  </thead>\n",
       "  <tbody>\n",
       "    <tr>\n",
       "      <th>0</th>\n",
       "      <td>Male</td>\n",
       "      <td>27</td>\n",
       "      <td>60000</td>\n",
       "      <td>110000</td>\n",
       "      <td>Bush</td>\n",
       "    </tr>\n",
       "    <tr>\n",
       "      <th>1</th>\n",
       "      <td>Male</td>\n",
       "      <td>30</td>\n",
       "      <td>125000</td>\n",
       "      <td>125000</td>\n",
       "      <td>Bush</td>\n",
       "    </tr>\n",
       "    <tr>\n",
       "      <th>2</th>\n",
       "      <td>Male</td>\n",
       "      <td>27</td>\n",
       "      <td>50000</td>\n",
       "      <td>120000</td>\n",
       "      <td>Bush</td>\n",
       "    </tr>\n",
       "    <tr>\n",
       "      <th>3</th>\n",
       "      <td>Male</td>\n",
       "      <td>26</td>\n",
       "      <td>56000</td>\n",
       "      <td>100000</td>\n",
       "      <td>Bush</td>\n",
       "    </tr>\n",
       "    <tr>\n",
       "      <th>4</th>\n",
       "      <td>Male</td>\n",
       "      <td>27</td>\n",
       "      <td>82000</td>\n",
       "      <td>100000</td>\n",
       "      <td>Bush</td>\n",
       "    </tr>\n",
       "    <tr>\n",
       "      <th>5</th>\n",
       "      <td>Male</td>\n",
       "      <td>32</td>\n",
       "      <td>150000</td>\n",
       "      <td>150000</td>\n",
       "      <td>Bush</td>\n",
       "    </tr>\n",
       "    <tr>\n",
       "      <th>6</th>\n",
       "      <td>Female</td>\n",
       "      <td>24</td>\n",
       "      <td>55000</td>\n",
       "      <td>100000</td>\n",
       "      <td>Bush</td>\n",
       "    </tr>\n",
       "    <tr>\n",
       "      <th>7</th>\n",
       "      <td>Male</td>\n",
       "      <td>30</td>\n",
       "      <td>110000</td>\n",
       "      <td>150000</td>\n",
       "      <td>Bush</td>\n",
       "    </tr>\n",
       "    <tr>\n",
       "      <th>8</th>\n",
       "      <td>Male</td>\n",
       "      <td>26</td>\n",
       "      <td>48000</td>\n",
       "      <td>80000</td>\n",
       "      <td>Bush</td>\n",
       "    </tr>\n",
       "    <tr>\n",
       "      <th>9</th>\n",
       "      <td>Male</td>\n",
       "      <td>26</td>\n",
       "      <td>120000</td>\n",
       "      <td>80000</td>\n",
       "      <td>Bush</td>\n",
       "    </tr>\n",
       "    <tr>\n",
       "      <th>10</th>\n",
       "      <td>Female</td>\n",
       "      <td>24</td>\n",
       "      <td>59000</td>\n",
       "      <td>90000</td>\n",
       "      <td>Bush</td>\n",
       "    </tr>\n",
       "    <tr>\n",
       "      <th>11</th>\n",
       "      <td>Male</td>\n",
       "      <td>27</td>\n",
       "      <td>65000</td>\n",
       "      <td>125000</td>\n",
       "      <td>Bush</td>\n",
       "    </tr>\n",
       "    <tr>\n",
       "      <th>12</th>\n",
       "      <td>Male</td>\n",
       "      <td>26</td>\n",
       "      <td>55000</td>\n",
       "      <td>120000</td>\n",
       "      <td>Bush</td>\n",
       "    </tr>\n",
       "    <tr>\n",
       "      <th>13</th>\n",
       "      <td>Male</td>\n",
       "      <td>28</td>\n",
       "      <td>70000</td>\n",
       "      <td>125000</td>\n",
       "      <td>Bush</td>\n",
       "    </tr>\n",
       "    <tr>\n",
       "      <th>14</th>\n",
       "      <td>Male</td>\n",
       "      <td>25</td>\n",
       "      <td>80000</td>\n",
       "      <td>100000</td>\n",
       "      <td>Bush</td>\n",
       "    </tr>\n",
       "  </tbody>\n",
       "</table>\n",
       "</div>"
      ],
      "text/plain": [
       "    Gender  Age  Salary before Stern  Expected salary Candidate\n",
       "0     Male   27                60000           110000      Bush\n",
       "1     Male   30               125000           125000      Bush\n",
       "2     Male   27                50000           120000      Bush\n",
       "3     Male   26                56000           100000      Bush\n",
       "4     Male   27                82000           100000      Bush\n",
       "5     Male   32               150000           150000      Bush\n",
       "6   Female   24                55000           100000      Bush\n",
       "7     Male   30               110000           150000      Bush\n",
       "8     Male   26                48000            80000      Bush\n",
       "9     Male   26               120000            80000      Bush\n",
       "10  Female   24                59000            90000      Bush\n",
       "11    Male   27                65000           125000      Bush\n",
       "12    Male   26                55000           120000      Bush\n",
       "13    Male   28                70000           125000      Bush\n",
       "14    Male   25                80000           100000      Bush"
      ]
     },
     "execution_count": 148,
     "metadata": {},
     "output_type": "execute_result"
    }
   ],
   "source": [
    "#a)\n",
    "df = pd.read_excel('../../Dados/votesurvey.xls')\n",
    "df.loc[0:14, :]"
   ]
  },
  {
   "cell_type": "code",
   "execution_count": 130,
   "metadata": {},
   "outputs": [
    {
     "data": {
      "text/plain": [
       "Candidate\n",
       "Bush                111666.666667\n",
       "Gore                103055.555556\n",
       "Refuse to answer    119500.000000\n",
       "Undecided           103000.000000\n",
       "Name: Expected salary, dtype: float64"
      ]
     },
     "execution_count": 130,
     "metadata": {},
     "output_type": "execute_result"
    }
   ],
   "source": [
    "#b)\n",
    "df.groupby(['Candidate'])['Expected salary'].mean()"
   ]
  },
  {
   "cell_type": "code",
   "execution_count": 248,
   "metadata": {},
   "outputs": [
    {
     "data": {
      "text/plain": [
       "<matplotlib.axes._subplots.AxesSubplot at 0x7ff7611c3fd0>"
      ]
     },
     "execution_count": 248,
     "metadata": {},
     "output_type": "execute_result"
    },
    {
     "data": {
      "image/png": "[encoded data removed]",
      "text/plain": [
       "<Figure size 432x288 with 1 Axes>"
      ]
     },
     "metadata": {},
     "output_type": "display_data"
    },
    {
     "data": {
      "image/png": "[encoded data removed]",
      "text/plain": [
       "<Figure size 432x288 with 1 Axes>"
      ]
     },
     "metadata": {},
     "output_type": "display_data"
    }
   ],
   "source": [
    "#c)\n",
    "#Separando os dados entre gêneros. Primeiro apenas as linhas com mulheres\n",
    "x2 = df[df.Gender == 'Female']\n",
    "x2.plot(x = 'Gender', y = 'Salary before Stern', style = 'r*')\n",
    "\n",
    "#Agora separo entre apenas os homens\n",
    "x3 = df[df.Gender == 'Male']\n",
    "x3.plot(x = 'Gender', y = 'Salary before Stern', style = 'bx')\n",
    "\n",
    "# Note que no gráfico onde estão apenas os homens as marcas que representam cada indivíduo estão muito mais\n",
    "# espalhadas entre os valores mais altos de salário."
   ]
  },
  {
   "cell_type": "code",
   "execution_count": 249,
   "metadata": {},
   "outputs": [
    {
     "data": {
      "text/plain": [
       "<matplotlib.axes._subplots.AxesSubplot at 0x7ff7611a8780>"
      ]
     },
     "execution_count": 249,
     "metadata": {},
     "output_type": "execute_result"
    },
    {
     "data": {
      "image/png": "[encoded data removed]",
      "text/plain": [
       "<Figure size 432x288 with 1 Axes>"
      ]
     },
     "metadata": {},
     "output_type": "display_data"
    }
   ],
   "source": [
    "#Aqui fazemos uma comparação entre as idades\n",
    "# Analisando a partir da idade dos indíviduos, através da visualização dos gráficos, é possível ver que os salários estão \n",
    "# muito mais \"igualmente\" distribuidos do que em relação ao gênero. Desse modo, o gênero tem maior influência sobre o salário do\n",
    "# que a idade.\n",
    "\n",
    "df.plot(x = 'Age', y = 'Salary before Stern', style = 'go')"
   ]
  },
  {
   "cell_type": "code",
   "execution_count": 251,
   "metadata": {},
   "outputs": [
    {
     "data": {
      "text/html": [
       "<div>\n",
       "<style scoped>\n",
       "    .dataframe tbody tr th:only-of-type {\n",
       "        vertical-align: middle;\n",
       "    }\n",
       "\n",
       "    .dataframe tbody tr th {\n",
       "        vertical-align: top;\n",
       "    }\n",
       "\n",
       "    .dataframe thead th {\n",
       "        text-align: right;\n",
       "    }\n",
       "</style>\n",
       "<table border=\"1\" class=\"dataframe\">\n",
       "  <thead>\n",
       "    <tr style=\"text-align: right;\">\n",
       "      <th></th>\n",
       "      <th>Gender</th>\n",
       "      <th>Age</th>\n",
       "      <th>Salary before Stern</th>\n",
       "      <th>Expected salary</th>\n",
       "      <th>Candidate</th>\n",
       "      <th>Salary by age</th>\n",
       "    </tr>\n",
       "  </thead>\n",
       "  <tbody>\n",
       "    <tr>\n",
       "      <th>0</th>\n",
       "      <td>Male</td>\n",
       "      <td>27</td>\n",
       "      <td>60000</td>\n",
       "      <td>110000</td>\n",
       "      <td>Bush</td>\n",
       "      <td>2222.222222</td>\n",
       "    </tr>\n",
       "    <tr>\n",
       "      <th>1</th>\n",
       "      <td>Male</td>\n",
       "      <td>30</td>\n",
       "      <td>125000</td>\n",
       "      <td>125000</td>\n",
       "      <td>Bush</td>\n",
       "      <td>4166.666667</td>\n",
       "    </tr>\n",
       "    <tr>\n",
       "      <th>2</th>\n",
       "      <td>Male</td>\n",
       "      <td>27</td>\n",
       "      <td>50000</td>\n",
       "      <td>120000</td>\n",
       "      <td>Bush</td>\n",
       "      <td>1851.851852</td>\n",
       "    </tr>\n",
       "    <tr>\n",
       "      <th>3</th>\n",
       "      <td>Male</td>\n",
       "      <td>26</td>\n",
       "      <td>56000</td>\n",
       "      <td>100000</td>\n",
       "      <td>Bush</td>\n",
       "      <td>2153.846154</td>\n",
       "    </tr>\n",
       "    <tr>\n",
       "      <th>4</th>\n",
       "      <td>Male</td>\n",
       "      <td>27</td>\n",
       "      <td>82000</td>\n",
       "      <td>100000</td>\n",
       "      <td>Bush</td>\n",
       "      <td>3037.037037</td>\n",
       "    </tr>\n",
       "  </tbody>\n",
       "</table>\n",
       "</div>"
      ],
      "text/plain": [
       "  Gender  Age  Salary before Stern  Expected salary Candidate  Salary by age\n",
       "0   Male   27                60000           110000      Bush    2222.222222\n",
       "1   Male   30               125000           125000      Bush    4166.666667\n",
       "2   Male   27                50000           120000      Bush    1851.851852\n",
       "3   Male   26                56000           100000      Bush    2153.846154\n",
       "4   Male   27                82000           100000      Bush    3037.037037"
      ]
     },
     "execution_count": 251,
     "metadata": {},
     "output_type": "execute_result"
    }
   ],
   "source": [
    "#d) \n",
    "df['Salary by age'] = df.apply(lambda row: row['Salary before Stern'] / row['Age'], axis=1)\n",
    "df.head()"
   ]
  },
  {
   "cell_type": "markdown",
   "metadata": {},
   "source": [
    "Questão 4 (1.5 pontos): \n",
    "\n",
    "Transforme o arquivo ../../Dados/DomCasmurroMachadoAssis.txt em uma string no Python e responda, usando, quando possível, expressões regulares:  \n",
    "\n",
    "a) Quais as 10 palavras mais frequentes que _começam_ com \"a\" ou \"A\"?  \n",
    "b) Quantas palavras distintas que começam com letras _maiúsculas_ há no texto?  \n",
    "c) Quantas palavras há no texto com apenas uma; com apenas duas; e com apenas 3 vogais?  "
   ]
  },
  {
   "cell_type": "code",
   "execution_count": 33,
   "metadata": {},
   "outputs": [],
   "source": [
    "with open('../../Dados/DomCasmurroMachadoAssis.txt', 'r', encoding='utf-8') as f:\n",
    "    texto = f.read()\n",
    "texto = [p.strip(string.punctuation) for p in texto.split()]\n",
    "texto = [i for i in texto if not i[0:1].isdigit()]\n"
   ]
  },
  {
   "cell_type": "code",
   "execution_count": 285,
   "metadata": {},
   "outputs": [
    {
     "data": {
      "text/plain": [
       "[('aos', 85),\n",
       " ('até', 97),\n",
       " ('agora', 118),\n",
       " ('assim', 120),\n",
       " ('ainda', 129),\n",
       " ('A', 248),\n",
       " ('á', 261),\n",
       " ('ao', 329),\n",
       " ('as', 498),\n",
       " ('a', 2315)]"
      ]
     },
     "execution_count": 285,
     "metadata": {},
     "output_type": "execute_result"
    }
   ],
   "source": [
    "#a)\n",
    "a_comeca = [p for p in texto if re.search(r'^[AÁÂÀaáâà].*', p)]\n",
    "\n",
    "freq = {}\n",
    "for p in a_comeca:\n",
    "        if p not in freq:\n",
    "            freq[p] = 1\n",
    "        else:\n",
    "            freq[p] += 1\n",
    "\n",
    "sorted_freq = sorted(freq.items(), key=operator.itemgetter(1))\n",
    "sorted_freq[-10:]"
   ]
  },
  {
   "cell_type": "code",
   "execution_count": 262,
   "metadata": {},
   "outputs": [
    {
     "name": "stdout",
     "output_type": "stream",
     "text": [
      "1603\n"
     ]
    }
   ],
   "source": [
    "#b) \n",
    "maiusculas = list(set(texto))\n",
    "maiusculas = [p for p in maiusculas if re.search(r'^[A-ZÁÂÀÃEÉÊÔÚÇ]', p)]\n",
    "\n",
    "print(len(maiusculas))"
   ]
  },
  {
   "cell_type": "code",
   "execution_count": 296,
   "metadata": {},
   "outputs": [
    {
     "name": "stdout",
     "output_type": "stream",
     "text": [
      "21799\n"
     ]
    }
   ],
   "source": [
    "#c) Com apenas uma vogal\n",
    "vogal1 = [p for p in texto if re.search(r'^[^AEIOUÁÀÂÃÉÊÈÍÔÓÕÚaeiouáàâãéêèíôóõú]*[AEIOUÁÀÂÃÉÊÈÍÔÓÕÚaeiouáàâãéêèíôóõú][^AEIOUÁÀÂÃÉÊÈÍÔÓÕÚaeiouáàâãéêèíôóõú]*$', p)]\n",
    "print(len(vogal1))"
   ]
  },
  {
   "cell_type": "code",
   "execution_count": 299,
   "metadata": {},
   "outputs": [
    {
     "name": "stdout",
     "output_type": "stream",
     "text": [
      "24379\n"
     ]
    }
   ],
   "source": [
    "#Com apenas duas vogais\n",
    "vogal2 = [p for p in texto if re.search(r'^[^AEIOUÁÀÂÃÉÊÈÍÔÓÕÚaeiouáàâãéêèíôóõú]*[AEIOUÁÀÂÃÉÊÈÍÔÓÕÚaeiouáàâãéêèíôóõú][^AEIOUÁÀÂÃÉÊÈÍÔÓÕÚaeiouáàâãéêèíôóõú]*[AEIOUÁÀÂÃÉÊÈÍÔÓÕÚaeiouáàâãéêèíôóõú][^AEIOUÁÀÂÃÉÊÈÍÔÓÕÚaeiouáàâãéêèíôóõú]*$', p)]\n",
    "print(len(vogal2))"
   ]
  },
  {
   "cell_type": "code",
   "execution_count": 304,
   "metadata": {},
   "outputs": [
    {
     "name": "stdout",
     "output_type": "stream",
     "text": [
      "13198\n"
     ]
    }
   ],
   "source": [
    "#Com apenas três vogais\n",
    "vogal3 = [p for p in texto if re.search(r'^[^AEIOUÁÀÂÃÉÊÈÍÔÓÕÚaeiouáàâãéêèíôóõú]*[AEIOUÁÀÂÃÉÊÈÍÔÓÕÚaeiouáàâãéêèíôóõú][^AEIOUÁÀÂÃÉÊÈÍÔÓÕÚaeiouáàâãéêèíôóõú]*[AEIOUÁÀÂÃÉÊÈÍÔÓÕÚaeiouáàâãéêèíôóõú][^AEIOUÁÀÂÃÉÊÈÍÔÓÕÚaeiouáàâãéêèíôóõú]*[AEIOUÁÀÂÃÉÊÈÍÔÓÕÚaeiouáàâãéêèíôóõú][^AEIOUÁÀÂÃÉÊÈÍÔÓÕÚaeiouáàâãéêèíôóõú]*$', p)]\n",
    "print(len(vogal3))"
   ]
  },
  {
   "cell_type": "markdown",
   "metadata": {},
   "source": [
    "Questão 5 (1.5 pontos):    \n",
    "\n",
    "Utilizando apenas o Shell Linux, e utilizando o arquivo ../../Dados/DomCasmurroMachadoAssis.txt, diga os comandos para responder às seguintes perguntas:  \n",
    "\n",
    "a) Quais as 10 palavras mais frequentes que _terminam_ com \"a\" ou \"A\"?  \n",
    "b) Quantas palavras distintas que começam com _minúsculas_ há no texto?   \n",
    "c) Como ordenar as palavras distintas por ordem de \"rima\"?  "
   ]
  },
  {
   "cell_type": "code",
   "execution_count": 185,
   "metadata": {},
   "outputs": [
    {
     "name": "stdout",
     "output_type": "stream",
     "text": [
      "﻿The Project Gutenberg EBook of Dom Casmurro, by Machado de Assis\r",
      "\r\n",
      "\r",
      "\r\n",
      "This eBook is for the use of anyone anywhere in the United States and most\r",
      "\r\n",
      "other parts of the world at no cost and with almost no restrictions\r",
      "\r\n",
      "whatsoever.  You may copy it, give it away or re-use it under the terms of\r",
      "\r\n",
      "the Project Gutenberg License included with this eBook or online at\r",
      "\r\n",
      "www.gutenberg.org.  If you are not located in the United States, you'll have\r",
      "\r\n",
      "to check the laws of the country where you are located before using this ebook.\r",
      "\r\n",
      "\r",
      "\r\n",
      "Title: Dom Casmurro\r",
      "\r\n",
      "cat: write error: Broken pipe\r\n"
     ]
    }
   ],
   "source": [
    "! cat ../../Dados/DomCasmurroMachadoAssis.txt | head"
   ]
  },
  {
   "cell_type": "code",
   "execution_count": 263,
   "metadata": {},
   "outputs": [
    {
     "name": "stdout",
     "output_type": "stream",
     "text": [
      "   2414 a\r\n",
      "    623 da\r\n",
      "    532 para\r\n",
      "    468 era\r\n",
      "    398 uma\r\n",
      "sort: write failed: 'standard output': Broken pipe\r\n",
      "sort: write error\r\n"
     ]
    }
   ],
   "source": [
    "#a)\n",
    "! tr -sc '[a-záàâãéêíôóõúç][A-ZÁÀÃÂÉÊÍÓÔÚÇ]' '[\\012*]' < ../../Dados/DomCasmurroMachadoAssis.txt |sort | grep '[aáàâãAÁÀÂÃ]$' |uniq -c | sort -nr| sed 5q"
   ]
  },
  {
   "cell_type": "code",
   "execution_count": 267,
   "metadata": {},
   "outputs": [
    {
     "name": "stdout",
     "output_type": "stream",
     "text": [
      "1250\n",
      "uniq: write error: Broken pipe\n"
     ]
    }
   ],
   "source": [
    "#b) Coloquei as restrições de acentuação!\n",
    "! tr -sc '[a-záàâãéêíôóõúç][A-ZÁÀÃÂÉÊÍÓÔÚÇ]' '[\\012*]' < ../../Dados/DomCasmurroMachadoAssis.txt |sort | uniq | grep '^[a-záàâãéêíôóõúç]' | wc -l"
   ]
  },
  {
   "cell_type": "code",
   "execution_count": 269,
   "metadata": {},
   "outputs": [
    {
     "name": "stdout",
     "output_type": "stream",
     "text": [
      "\r\n",
      "�\r\n",
      "a\r\n",
      "á\r\n",
      "ab\r\n",
      "abafadas\r\n",
      "abafado\r\n",
      "abafando\r\n",
      "abafava\r\n",
      "abahuladas\r\n",
      "uniq: write error: Broken pipe\r\n"
     ]
    }
   ],
   "source": [
    "#c)\n",
    "# Transforma maiusculas em minusculas\n",
    "# porém o rev não funciona aqui :(\n",
    "! tr '[A-ZÁÀÃÂÉÊÍÓÔÚÇ]' '[a-záàâãéêíôóõúç]' < ../../Dados/DomCasmurroMachadoAssis.txt | tr -sc '[a-záàâãéêíôóõúç]' '[\\012*]'  | sort | uniq | sed 10q "
   ]
  },
  {
   "cell_type": "code",
   "execution_count": 241,
   "metadata": {},
   "outputs": [
    {
     "name": "stdout",
     "output_type": "stream",
     "text": [
      "rev: stdin: Invalid or incomplete multibyte or wide character\r\n",
      "\r\n",
      "]\r\n",
      "a\r\n",
      "A\r\n",
      "á\r\n",
      "acaba\r\n",
      "barba\r\n",
      "ameaça\r\n",
      "bocca\r\n",
      "Bibliotheca\r\n",
      "uniq: write error: Broken pipe\r\n"
     ]
    }
   ],
   "source": [
    "#Aqui funciona mas ele não diferencia maiusculas e minusculas\n",
    "!cat ../../Dados/DomCasmurroMachadoAssis.txt | tr -sc '[a-záàâãéêíôóõúç][A-ZÁÀÃÂÉÊÍÓÔÚÇ]' '[\\012*]' |sort |uniq | rev | sort | rev | head"
   ]
  },
  {
   "cell_type": "markdown",
   "metadata": {},
   "source": [
    "Questão 6 (2.0 ponto):  \n",
    "\n",
    "Conecte ao banco Python/Dados/chinook.sqlite e responda:\n",
    "\n",
    "a) Leia para dataframes do Pandas as tabelas \"invoices\", \"invoice_items\", \"customers\" e \"tracks\"; e mostre quais as faixas compradas por clientes que têm o primeiro nome começando com a letra \"M\".  \n",
    "b) Crie um histograma de faixas (\"tracks\") mais compradas.  \n",
    "c) Escreva um script em Python + SQL para construir um dicionário tendo os nomes dos artistas (\"artists\") como chaves e uma lista dos álbuns (\"albuns\") respectivos como valores."
   ]
  },
  {
   "cell_type": "code",
   "execution_count": null,
   "metadata": {},
   "outputs": [],
   "source": [
    "#a)"
   ]
  },
  {
   "cell_type": "code",
   "execution_count": null,
   "metadata": {},
   "outputs": [],
   "source": [
    "#b)"
   ]
  },
  {
   "cell_type": "code",
   "execution_count": null,
   "metadata": {},
   "outputs": [],
   "source": [
    "#c)"
   ]
  },
  {
   "cell_type": "markdown",
   "metadata": {},
   "source": [
    "Auto-avaliação (1 ponto):    \n",
    "Escreva sua auto-avaliação (mínimo de 3 linhas) e atribua a esta um valor entre 0 e 1, levando em consideração o aproveitamento na disciplina.    "
   ]
  },
  {
   "cell_type": "markdown",
   "metadata": {},
   "source": [
    "### Escreva aqui"
   ]
  },
  {
   "cell_type": "code",
   "execution_count": null,
   "metadata": {},
   "outputs": [],
   "source": []
  }
 ],
 "metadata": {
  "kernelspec": {
   "display_name": "Python 3",
   "language": "python",
   "name": "python3"
  },
  "language_info": {
   "codemirror_mode": {
    "name": "ipython",
    "version": 3
   },
   "file_extension": ".py",
   "mimetype": "text/x-python",
   "name": "python",
   "nbconvert_exporter": "python",
   "pygments_lexer": "ipython3",
   "version": "3.5.2"
  }
 },
 "nbformat": 4,
 "nbformat_minor": 2
}
