{
 "cells": [
  {
   "cell_type": "markdown",
   "metadata": {},
   "source": [
    "A1 de Linguagens de Programação – 19/09/2018\n",
    "--\n",
    "Professor: Renato Rocha Souza  \n",
    "--"
   ]
  },
  {
   "cell_type": "markdown",
   "metadata": {},
   "source": [
    "Nome do Aluno(a):"
   ]
  },
  {
   "cell_type": "code",
   "execution_count": 1,
   "metadata": {},
   "outputs": [
    {
     "name": "stdout",
     "output_type": "stream",
     "text": [
      "Entre com o seu nome completo: Cristiana Aparecida Nogueira Couto\n",
      "Olá, Cristiana Aparecida Nogueira Couto!\n",
      "Bom trabalho!\n"
     ]
    }
   ],
   "source": [
    "meu_nome = input('Entre com o seu nome completo: ')\n",
    "print('Olá, {}!'.format(meu_nome))\n",
    "print('Bom trabalho!')"
   ]
  },
  {
   "cell_type": "code",
   "execution_count": null,
   "metadata": {
    "collapsed": true
   },
   "outputs": [],
   "source": [
    "# Somente estes módulos podem ser importados para a realização das questões\n",
    "import numpy as np\n",
    "import matplotlib.pyplot as plt\n",
    "import random\n",
    "import re\n",
    "import string\n",
    "import time\n",
    "from IPython.display import clear_output\n",
    "%matplotlib inline"
   ]
  },
  {
   "cell_type": "markdown",
   "metadata": {},
   "source": [
    "Questão 1 (2.5 pontos)  \n",
    "\n",
    "Partindo do código abaixo, escreva comandos para realizar as seguintes tarefas:  \n",
    "a) Crie uma função genérica para construir um dicionário de frequências de palavras de um texto (string), passado como parâmetro. Aplique a função ao texto;  \n",
    "b) Identifique os candidatos a nomes próprios no texto;  \n",
    "c) Imagine que o texto seja constituído pela soma de suas letras, com repetições. Com esta \"caixa de letras\", quantas vezes você conseguiria escrever seu nome completo? Use as letras da variável meu_nome, sem os espaços em branco.  \n",
    "d) Identifique as palavras que só ocorrem uma vez;  \n",
    "e) Crie código para salvar os resultados em um arquivo chamado \"respostas_q1.txt\" no computador.  "
   ]
  },
  {
   "cell_type": "code",
   "execution_count": 2,
   "metadata": {},
   "outputs": [],
   "source": [
    "with open('../../Dados/DomCasmurroMachadoAssis.txt', 'r', encoding='utf-8') as f:\n",
    "    texto = f.read()"
   ]
  },
  {
   "cell_type": "code",
   "execution_count": null,
   "metadata": {},
   "outputs": [],
   "source": []
  },
  {
   "cell_type": "code",
   "execution_count": 7,
   "metadata": {},
   "outputs": [],
   "source": [
    "#seu código aqui\n",
    "#a) \n",
    "import string\n",
    "def dic_texto(texto):\n",
    "    texto_limpo = [p.strip(string.punctuation) for p in texto.split()]\n",
    "    texto_m = [p.lower() for p in texto_limpo]\n",
    "    texto_final = [p.strip(\" \") for p in texto.split()] \n",
    "    freq = {}\n",
    "    \n",
    "    for p in texto_final:\n",
    "        if p not in freq:\n",
    "            freq[p] = 1\n",
    "        else:\n",
    "            freq[p] += 1\n",
    "\n",
    "    return freq\n",
    "a = dic_texto(texto)\n"
   ]
  },
  {
   "cell_type": "code",
   "execution_count": 154,
   "metadata": {},
   "outputs": [],
   "source": [
    "#dic_texto(texto)"
   ]
  },
  {
   "cell_type": "code",
   "execution_count": 302,
   "metadata": {},
   "outputs": [],
   "source": [
    "#seu código aqui\n",
    "#b) \n",
    "import string\n",
    "texto1 = texto.split()\n",
    "def extrai_m(texto1):\n",
    "    return texto1.istitle()\n",
    "b = list(filter(extrai_m,texto1))"
   ]
  },
  {
   "cell_type": "code",
   "execution_count": 303,
   "metadata": {},
   "outputs": [],
   "source": [
    "#seu código aqui\n",
    "#c)\n",
    "import string\n",
    "def escreve_nome(texto):\n",
    "    texto1 = texto.split()\n",
    "    texto_mini = [p.lower() for p in texto1] #Coloca as letras em minusculo\n",
    "    b = str(texto_mini).strip('[]') # separa as letras\n",
    "    caixinha = list(b) #Transforma em lista\n",
    "    \n",
    "    aux = meu_nome\n",
    "    letras  = aux.replace(\" \", \"\") #Meu nome\n",
    "    a = letras.split()\n",
    "    a_mini = [i.lower() for i in a]\n",
    "    a_sep = str(a_mini).strip('[]') # separa as letras\n",
    "    letras_fim = list(a_sep) \n",
    "    \n",
    "    frequencia = {}\n",
    "    \n",
    "    cada_letra= {}\n",
    "    \n",
    "    qnt_total = {}\n",
    "    \n",
    "    for l in caixinha: #Qnt de cada letra no texto\n",
    "        qnt_total[l] = 0\n",
    "    for l in caixinha:\n",
    "        qnt_total[l] += 1\n",
    "            \n",
    "    for p in letras_fim: #quantidade de cada letra do meu nome\n",
    "        cada_letra[p] = 0\n",
    "    for p in letras_fim:\n",
    "        cada_letra[p] += 1\n",
    "    \n",
    "    del cada_letra[\"'\"]\n",
    "    \n",
    "    return qnt_total\n",
    "\n",
    "c =escreve_nome(texto)"
   ]
  },
  {
   "cell_type": "code",
   "execution_count": 178,
   "metadata": {},
   "outputs": [
    {
     "data": {
      "text/plain": [
       "0"
      ]
     },
     "execution_count": 178,
     "metadata": {},
     "output_type": "execute_result"
    }
   ],
   "source": [
    "a = [1, 2 , 3]\n",
    "\n",
    "x = min(a)\n",
    "\n",
    "caixinha = ['a' , 'a']\n",
    "caixinha.index('a')\n"
   ]
  },
  {
   "cell_type": "code",
   "execution_count": 305,
   "metadata": {},
   "outputs": [],
   "source": [
    "#seu código aqui\n",
    "#d)\n",
    "def palavras_unicas(texto):\n",
    "    lista = []\n",
    "    a = dic_texto(texto)\n",
    "    for key, value in a.items():\n",
    "        if value == 1:\n",
    "            lista.append(key)\n",
    "    return lista   \n",
    "\n",
    "d =palavras_unicas(texto) "
   ]
  },
  {
   "cell_type": "code",
   "execution_count": 307,
   "metadata": {},
   "outputs": [
    {
     "ename": "SyntaxError",
     "evalue": "invalid character in identifier (<ipython-input-307-8558db29cb02>, line 3)",
     "output_type": "error",
     "traceback": [
      "\u001b[0;36m  File \u001b[0;32m\"<ipython-input-307-8558db29cb02>\"\u001b[0;36m, line \u001b[0;32m3\u001b[0m\n\u001b[0;31m    file = open(“respostas_q1.txt”,”w”)\u001b[0m\n\u001b[0m                            ^\u001b[0m\n\u001b[0;31mSyntaxError\u001b[0m\u001b[0;31m:\u001b[0m invalid character in identifier\n"
     ]
    }
   ],
   "source": [
    "#seu código aqui\n",
    "#e)\n",
    "file = open(“respostas_q1.txt”,”w”) \n",
    " \n"
   ]
  },
  {
   "cell_type": "markdown",
   "metadata": {},
   "source": [
    "Questão 2 (2.0 pontos)  \n",
    "\n",
    "Seja d(n) definido como a suma dos divisores inteiros de n. Se d(a) = b e d(b) = a, sendo a ≠ b, então a e b são um \"par amigável\" de números.  \n",
    "\n",
    "Por exemplo, os divisores inteiros de 220 são 1, 2, 4, 5, 10, 11, 20, 22, 44, 55 e 110; então d(220) = 284.  \n",
    "Os divisores inteiros de 284 são 1, 2, 4, 71 e 142; então d(284) = 220.  \n",
    "\n",
    "Encontre todos os \"pares amigáveis\" de números menores que 20000.  Crie uma lista de tuplas com esses pares.  "
   ]
  },
  {
   "cell_type": "code",
   "execution_count": 291,
   "metadata": {},
   "outputs": [],
   "source": [
    "#seu código aqui\n",
    "def soma_div(n):\n",
    "    d = {}\n",
    "    lista = []\n",
    "    for x in list(range(1, n + 1)):\n",
    "        for i in list(range(1,x + 1)):\n",
    "            if x % i == 0:\n",
    "                lista.append(i)\n",
    "                soma = sum(lista)\n",
    "                d[x] = soma\n",
    "        lista = []            \n",
    "    return d\n",
    "      \n",
    "def pares_amigaveis(n):\n",
    "    b = soma_div(n)\n",
    "    valores = list(b.values())\n",
    "    lista = []\n",
    "    lista2 = []\n",
    "    \n",
    "    for i in range(len(valores)):\n",
    "        for j in range(i + 1, len(valores)):\n",
    "            if valores[i] == valores[j]:\n",
    "                lista.append((valores[i], valores[j]))\n",
    "                lista2.append((i + 1, j + 1))\n",
    "    return lista2\n",
    "    "
   ]
  },
  {
   "cell_type": "code",
   "execution_count": 296,
   "metadata": {},
   "outputs": [
    {
     "data": {
      "text/plain": [
       "[(6, 11), (10, 17), (14, 15)]"
      ]
     },
     "execution_count": 296,
     "metadata": {},
     "output_type": "execute_result"
    }
   ],
   "source": [
    "pares_amigaveis(20)\n"
   ]
  },
  {
   "cell_type": "markdown",
   "metadata": {},
   "source": [
    "Questão 3 (2.5 pontos)  \n",
    "\n",
    "Usando funções geradoras, crie um objeto que emule um dado de oito faces (1-8) que seja viciado, de tal forma que a probabilidade desta função geradora retornar certo valor seja proporcional ao próprio valor (por exemplo, a face 6 é 3 vezes mais provável de sair do que a face 2).  \n",
    "\n",
    "(a) Usando os comandos plt.plot ou plt.hist, mostre graficamente o resultado de 10000 lançamentos;  \n",
    "(b) Modifique esta função geradora de forma que ela termine automaticamente quando todos os valores possíveis (1,2,3,4,5,6,7,8) tiverem sido retornados pelo menos uma vez. Neste caso, ela retornará o tempo absoluto total que ocorreu desde a primeira iteração.  "
   ]
  },
  {
   "cell_type": "code",
   "execution_count": null,
   "metadata": {
    "collapsed": true
   },
   "outputs": [],
   "source": [
    "#seu código aqui\n"
   ]
  },
  {
   "cell_type": "markdown",
   "metadata": {},
   "source": [
    "Questão 4 (3.0 pontos)   \n",
    "\n",
    "Crie uma classe chamada \"Elevador\" que recebe, ao instanciada, o número de andares do edifício e inicia no andar mais baixo.  \n",
    "Crie métodos e propriedades para permitir que o elevador:  \n",
    "- Receba uma chamada (usuário aperta um botão em um andar);  \n",
    "- Receba um andar como destino (usuários apertam botões dentro do elevador);  \n",
    "- Informe em qual andar o elevador está;  \n",
    "- Informe a sequência de andares ainda por visitar;\n",
    "- Informe a quantidade de vezes que parou em cada andar (passar pelo andar sem \"parar\" no andar não conta);  \n",
    "\n",
    "Leve em consideração que cada deslocamento de andar demora 3 segundos.  \n",
    "Simule o comportamento do elevador atendendo à dez usuários, que têm andar de origem, andar de destino e sequência de chegada (fora e dentro do elevador) definidos aleatóriamente.  "
   ]
  },
  {
   "cell_type": "code",
   "execution_count": 325,
   "metadata": {},
   "outputs": [],
   "source": [
    "#seu código aqui\n",
    "#De um andar pro outro leva três segundos\n",
    "\n",
    "class Elevador:\n",
    "    def __init__(self, andares):\n",
    "        self.andares = andares\n",
    "        origem = []\n",
    "        destino = [] \n",
    "        self.andar_atual = 1\n",
    "        self.tempo = time.time()\n",
    "        qnt_paradas = { x : 0 for x in range(1,andares +1) }\n",
    "        paradas = 0\n",
    "        \n",
    "    def chama_elevador(self, atual, ir):\n",
    "        origem.append(atual)\n",
    "        destino.append(ir)\n",
    "        if self.andar_atual < atual\n",
    "            if ir > atual\n",
    "                paradas.append(atual)\n",
    "                \n",
    "    def proxima_parada(self):\n",
    "        if (time.time() - self.tempo >=3) and self.andar_atual != origem[0]:\n",
    "            self.andar_atual = origem[0]\n",
    "            self.tempo = time.time()\n",
    "            qnt_paradas[origem[0]] += 1\n",
    "            del origem[0]\n",
    "        \n",
    "        \n",
    "    def qual_andar_está(self):\n",
    "        print(self.andar_atual)\n",
    "        \n",
    "    def quantos_faltam(self):\n",
    "        print(len(paradas))\n",
    "        \n",
    "    def qnt_andar(self): #Quantidade de vezes que parou em cada andar\n",
    "        print(qnt_paradas)\n",
    "        "
   ]
  },
  {
   "cell_type": "code",
   "execution_count": 316,
   "metadata": {},
   "outputs": [
    {
     "data": {
      "text/plain": [
       "{1: 0, 2: 0, 3: 0, 4: 0, 5: 0, 6: 0, 7: 0, 8: 0, 9: 0}"
      ]
     },
     "execution_count": 316,
     "metadata": {},
     "output_type": "execute_result"
    }
   ],
   "source": [
    "qnt_paradas = { x : 0 for x in range(1,10) }\n",
    "qnt_paradas"
   ]
  },
  {
   "cell_type": "markdown",
   "metadata": {},
   "source": [
    "Questão bônus I (0.5 ponto)   \n",
    "\n",
    "Ilustre graficamente as posições do elevador acima para a simulação pedida:  "
   ]
  },
  {
   "cell_type": "code",
   "execution_count": null,
   "metadata": {},
   "outputs": [],
   "source": [
    "#seu código aqui"
   ]
  },
  {
   "cell_type": "markdown",
   "metadata": {},
   "source": [
    "Questão bônus II (0.5 ponto)   \n",
    "\n",
    "Crie um simulador de prédio inteligente, controlando chamadas feitas para n > 1 elevadores:  "
   ]
  },
  {
   "cell_type": "code",
   "execution_count": null,
   "metadata": {},
   "outputs": [],
   "source": [
    "#seu código aqui"
   ]
  }
 ],
 "metadata": {
  "kernelspec": {
   "display_name": "Python 3",
   "language": "python",
   "name": "python3"
  },
  "language_info": {
   "codemirror_mode": {
    "name": "ipython",
    "version": 3
   },
   "file_extension": ".py",
   "mimetype": "text/x-python",
   "name": "python",
   "nbconvert_exporter": "python",
   "pygments_lexer": "ipython3",
   "version": "3.5.2"
  }
 },
 "nbformat": 4,
 "nbformat_minor": 2
}
