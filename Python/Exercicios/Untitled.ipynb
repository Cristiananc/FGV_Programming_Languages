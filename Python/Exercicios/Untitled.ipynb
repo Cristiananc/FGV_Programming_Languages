{
 "cells": [
  {
   "cell_type": "code",
   "execution_count": 5,
   "metadata": {},
   "outputs": [
    {
     "name": "stdout",
     "output_type": "stream",
     "text": [
      "3\n",
      "4\n",
      "SOMA = 7\n"
     ]
    }
   ],
   "source": [
    "\n",
    "A = input()\n",
    "\n",
    "B = input()\n",
    "\n",
    "SOMA = int(A) + int(B)\n",
    "\n",
    "print('SOMA = {}'.format(SOMA),end=\"\\n\")"
   ]
  },
  {
   "cell_type": "code",
   "execution_count": 11,
   "metadata": {},
   "outputs": [
    {
     "name": "stdout",
     "output_type": "stream",
     "text": [
      "3 5\n",
      "3.0 5.0\n"
     ]
    }
   ],
   "source": [
    "A,B= input().split()\n",
    "X = float(A)\n",
    "Y = float(B)\n",
    "print(X,Y)"
   ]
  },
  {
   "cell_type": "code",
   "execution_count": 17,
   "metadata": {},
   "outputs": [
    {
     "name": "stdout",
     "output_type": "stream",
     "text": [
      "1 2 3 4\n",
      "2.8284\n"
     ]
    }
   ],
   "source": [
    "import math\n",
    "A,B,C,D = input().split()\n",
    "\n",
    "x = float(A)\n",
    "y = float(B)\n",
    "\n",
    "x2 = float(C)\n",
    "y2 = float(D)\n",
    "\n",
    "dis = math.sqrt((x2 - x)**(2) + (y2 - y)**(2))\n",
    "disC = (\"{:.4f}\".format(dis))\n",
    "print(disC)"
   ]
  },
  {
   "cell_type": "code",
   "execution_count": 15,
   "metadata": {},
   "outputs": [
    {
     "data": {
      "text/plain": [
       "3.0"
      ]
     },
     "execution_count": 15,
     "metadata": {},
     "output_type": "execute_result"
    }
   ],
   "source": [
    "import math\n",
    "math.sqrt(9)"
   ]
  },
  {
   "cell_type": "code",
   "execution_count": 23,
   "metadata": {},
   "outputs": [
    {
     "name": "stdout",
     "output_type": "stream",
     "text": [
      "30\n",
      "60 minutos\n"
     ]
    }
   ],
   "source": [
    "d = input()\n",
    "v = 0.5\n",
    "t = int(d)* 2\n",
    "\n",
    "print('{} minutos'.format(t))"
   ]
  },
  {
   "cell_type": "code",
   "execution_count": 25,
   "metadata": {},
   "outputs": [
    {
     "data": {
      "text/plain": [
       "6.0"
      ]
     },
     "execution_count": 25,
     "metadata": {},
     "output_type": "execute_result"
    }
   ],
   "source": [
    "5*1.20"
   ]
  },
  {
   "cell_type": "code",
   "execution_count": 31,
   "metadata": {},
   "outputs": [
    {
     "name": "stdout",
     "output_type": "stream",
     "text": [
      "23\n",
      "2\n",
      "2.50\n",
      "NUMBER = 23 \n",
      "SALARY = U$ 5.00\n"
     ]
    }
   ],
   "source": [
    "n = int(input())\n",
    "hours = input()\n",
    "pay = input()\n",
    "\n",
    "salary = int(hours)*float(pay)\n",
    "s = (\"{:.2f}\".format(salary))\n",
    "print('NUMBER = {}'.format(n),'\\nSALARY = U$ {}'.format(s))"
   ]
  },
  {
   "cell_type": "code",
   "execution_count": 32,
   "metadata": {},
   "outputs": [
    {
     "name": "stdout",
     "output_type": "stream",
     "text": [
      "400\n",
      "1 ano(s) \n",
      "{} mes(es) \n",
      "{} dia(s)\n"
     ]
    }
   ],
   "source": [
    "dias = int(input())\n",
    "ano = dias // 365\n",
    "meses = (dias % 365) // 30\n",
    "dias = (dias % 365) % 30\n",
    "\n",
    "print('{} ano(s)'.format(ano),'\\n{} mes(es)','\\n{} dia(s)')\n"
   ]
  },
  {
   "cell_type": "code",
   "execution_count": 33,
   "metadata": {},
   "outputs": [
    {
     "name": "stdout",
     "output_type": "stream",
     "text": [
      "400\n",
      "1 ano(s) \n",
      "1 mes(es) \n",
      "5 dia(s)\n"
     ]
    }
   ],
   "source": [
    "\n",
    "dias = int(input())\n",
    "ano = dias // 365\n",
    "meses = (dias % 365) // 30\n",
    "dias = (dias % 365) % 30\n",
    "\n",
    "print('{} ano(s)'.format(ano),'\\n{} mes(es)'.format(meses),'\\n{} dia(s)'.format(dias))\n"
   ]
  },
  {
   "cell_type": "code",
   "execution_count": 1,
   "metadata": {},
   "outputs": [],
   "source": [
    "def maximo(n,m):\n",
    "\tif n>m:\n",
    "\t\tmaxx = n\n",
    "\telse:\n",
    "\t\tmaxx = m\n",
    "\treturn maxx"
   ]
  },
  {
   "cell_type": "code",
   "execution_count": 2,
   "metadata": {},
   "outputs": [
    {
     "data": {
      "text/plain": [
       "20"
      ]
     },
     "execution_count": 2,
     "metadata": {},
     "output_type": "execute_result"
    }
   ],
   "source": [
    "maximo(10,20)"
   ]
  },
  {
   "cell_type": "code",
   "execution_count": 160,
   "metadata": {},
   "outputs": [],
   "source": [
    "#Encontra o maior primo menor ou igual ao número n inteiro dado\n",
    "# A FUNÇÃO NÃO FUNCIONA\n",
    "# DIVIDIR EM PARTES É O MELHOR\n",
    "\n",
    "def maiorprimo(n):\n",
    "        lista = []\n",
    "        i = 2\n",
    "        primo = True\n",
    "        for k in list(range(2,n +1)):\n",
    "            while i < k and primo == True:\n",
    "                if k % i ==0:\n",
    "                    primo = False   \n",
    "                i = i + 1\n",
    "            i = 2\n",
    "        if primo == True:\n",
    "            lista.append(k)\n",
    "        return max(lista)\n",
    "\n",
    "    "
   ]
  },
  {
   "cell_type": "code",
   "execution_count": null,
   "metadata": {},
   "outputs": [],
   "source": []
  },
  {
   "cell_type": "code",
   "execution_count": 44,
   "metadata": {},
   "outputs": [
    {
     "data": {
      "text/plain": [
       "[3]"
      ]
     },
     "execution_count": 44,
     "metadata": {},
     "output_type": "execute_result"
    }
   ],
   "source": [
    "lista = []\n",
    "k = 3\n",
    "lista.append(k)\n",
    "lista"
   ]
  },
  {
   "cell_type": "code",
   "execution_count": 66,
   "metadata": {},
   "outputs": [
    {
     "data": {
      "text/plain": [
       "[2, 3, 4, 5, 6, 7, 8, 9, 10, 11, 12, 13, 14, 15, 16, 17, 18, 19, 20, 21, 22]"
      ]
     },
     "execution_count": 66,
     "metadata": {},
     "output_type": "execute_result"
    }
   ],
   "source": [
    "list(range(2,23))"
   ]
  },
  {
   "cell_type": "code",
   "execution_count": 173,
   "metadata": {},
   "outputs": [],
   "source": [
    "#Verifica se um número é primo e aldiciona ele numa lista\n",
    "\n",
    "def maior_primo(x):\n",
    "    def eprimo(n):\n",
    "        primo = True\n",
    "        for k in list(range(2,n)):\n",
    "            if n % k == 0:\n",
    "                primo = False\n",
    "        return primo\n",
    "    \n",
    "    lista = []\n",
    "    for i in list(range(2,x + 1)):\n",
    "        if eprimo(i) == True:\n",
    "            lista.append(i)\n",
    "    return max(lista)\n",
    "        "
   ]
  },
  {
   "cell_type": "code",
   "execution_count": 136,
   "metadata": {},
   "outputs": [
    {
     "name": "stdout",
     "output_type": "stream",
     "text": [
      "True\n"
     ]
    }
   ],
   "source": [
    "n = 14\n",
    "primo = True\n",
    "for k in list(range(2,-10)):\n",
    "    if n % k == 0:\n",
    "        primo = False\n",
    "print(primo)"
   ]
  },
  {
   "cell_type": "code",
   "execution_count": 137,
   "metadata": {},
   "outputs": [
    {
     "data": {
      "text/plain": [
       "False"
      ]
     },
     "execution_count": 137,
     "metadata": {},
     "output_type": "execute_result"
    }
   ],
   "source": [
    "eprimo(8)\n"
   ]
  },
  {
   "cell_type": "code",
   "execution_count": 174,
   "metadata": {},
   "outputs": [
    {
     "data": {
      "text/plain": [
       "29"
      ]
     },
     "execution_count": 174,
     "metadata": {},
     "output_type": "execute_result"
    }
   ],
   "source": [
    "maior_primo(30)"
   ]
  },
  {
   "cell_type": "code",
   "execution_count": 207,
   "metadata": {},
   "outputs": [],
   "source": [
    "#Verifica se uma letra é uma vogal\n",
    "import string\n",
    "\n",
    "def vogal(n):\n",
    "    vog = False\n",
    "    letra = str.lower(n)\n",
    "    for element in ['a','e','i','o','u']:\n",
    "        if letra == element:\n",
    "            vog = True\n",
    "    return vog\n",
    "        "
   ]
  },
  {
   "cell_type": "code",
   "execution_count": 200,
   "metadata": {},
   "outputs": [
    {
     "data": {
      "text/plain": [
       "'a'"
      ]
     },
     "execution_count": 200,
     "metadata": {},
     "output_type": "execute_result"
    }
   ],
   "source": [
    "import string\n",
    "n = \"A\"\n",
    "X = str.lower(n)\n",
    "X"
   ]
  },
  {
   "cell_type": "code",
   "execution_count": 208,
   "metadata": {},
   "outputs": [
    {
     "data": {
      "text/plain": [
       "False"
      ]
     },
     "execution_count": 208,
     "metadata": {},
     "output_type": "execute_result"
    }
   ],
   "source": [
    "vogal('B')"
   ]
  },
  {
   "cell_type": "code",
   "execution_count": 198,
   "metadata": {},
   "outputs": [
    {
     "data": {
      "text/plain": [
       "True"
      ]
     },
     "execution_count": 198,
     "metadata": {},
     "output_type": "execute_result"
    }
   ],
   "source": [
    "letra = str.lower(n)\n",
    "for i in ['a','e','i','o','u']:\n",
    "    if letra == i:\n",
    "        vog = True\n",
    "vog"
   ]
  },
  {
   "cell_type": "code",
   "execution_count": 206,
   "metadata": {},
   "outputs": [
    {
     "name": "stdout",
     "output_type": "stream",
     "text": [
      "vogal\n"
     ]
    }
   ],
   "source": [
    "letra = \"e\"\n",
    "for element in ['a','e','i','o','u']:\n",
    "        if letra == element:\n",
    "            print(\"vogal\")"
   ]
  },
  {
   "cell_type": "code",
   "execution_count": null,
   "metadata": {},
   "outputs": [],
   "source": []
  }
 ],
 "metadata": {
  "kernelspec": {
   "display_name": "Python 3",
   "language": "python",
   "name": "python3"
  },
  "language_info": {
   "codemirror_mode": {
    "name": "ipython",
    "version": 3
   },
   "file_extension": ".py",
   "mimetype": "text/x-python",
   "name": "python",
   "nbconvert_exporter": "python",
   "pygments_lexer": "ipython3",
   "version": "3.5.2"
  }
 },
 "nbformat": 4,
 "nbformat_minor": 2
}
