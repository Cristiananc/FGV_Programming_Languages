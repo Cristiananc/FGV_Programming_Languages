{
 "cells": [
  {
   "cell_type": "markdown",
   "metadata": {},
   "source": [
    "Exercícios de Revisão A2\n",
    "--\n",
    "Professor: Renato Rocha Souza  \n",
    "--"
   ]
  },
  {
   "cell_type": "code",
   "execution_count": 605,
   "metadata": {},
   "outputs": [],
   "source": [
    "import itertools\n",
    "import random\n",
    "from collections import Counter\n",
    "import re\n",
    "\n",
    "import pymysql\n",
    "import sqlite3\n",
    "import getpass\n",
    "\n",
    "import numpy as np\n",
    "import matplotlib.pyplot as plt\n",
    "import pandas as pd\n",
    "import pandas.io.sql as psql\n",
    "\n",
    "%matplotlib inline"
   ]
  },
  {
   "cell_type": "markdown",
   "metadata": {},
   "source": [
    "Mais alguns materiais de apoio:\n",
    "+    https://jupyterhub.namd.mat.br/user/cristiananc/notebooks/FGV_Programming_Languages/Python/Notebooks/Regular%20expressions.ipynb\n",
    "\n",
    "+ https://jupyterhub.namd.mat.br/user/cristiananc/notebooks/FGV_Programming_Languages/Python/Exercicios/Exercicios_text_operations.ipynb\n",
    "\n",
    "+ \n",
    "https://jupyterhub.namd.mat.br/user/cristiananc/notebooks/FGV_Programming_Languages/Python/Exercicios/limpeza_texto.ipynb\n",
    "\n",
    "+ \n",
    "https://github.com/Cristiananc/FGV_Programming_Languages/blob/master/Python/Exercicios/Avaliacoes/Prova_A1_2018.ipynb\n",
    "\n",
    "+ https://docs.python.org/2/library/re.html\n",
    "\n",
    "+ https://jupyterhub.namd.mat.br/user/cristiananc/notebooks/FGV_Programming_Languages/Python/Exercicios/Avaliacoes/Quizz_comprehensions-Copy1.ipynb\n",
    "\n",
    "+ \n",
    "https://jupyterhub.namd.mat.br/user/cristiananc/notebooks/FGV_Programming_Languages/Python/Exercicios/Exercicios_Revisao-Copy1.ipynb"
   ]
  },
  {
   "cell_type": "markdown",
   "metadata": {},
   "source": [
    "Referências usadas na prova:\n",
    "    \n",
    "+ https://pandas.pydata.org/pandas-docs/stable/generated/pandas.DataFrame.groupby.html\n",
    "\n",
    "+ https://stackoverflow.com/questions/34023918/make-new-column-in-panda-dataframe-by-adding-values-from-other-columns"
   ]
  },
  {
   "cell_type": "markdown",
   "metadata": {},
   "source": [
    "### Parte I - Pandas"
   ]
  },
  {
   "cell_type": "markdown",
   "metadata": {},
   "source": [
    "Para o Dataframe abaixo, resolva as seguintes tarefas:"
   ]
  },
  {
   "cell_type": "code",
   "execution_count": 718,
   "metadata": {},
   "outputs": [
    {
     "data": {
      "text/html": [
       "<div>\n",
       "<style scoped>\n",
       "    .dataframe tbody tr th:only-of-type {\n",
       "        vertical-align: middle;\n",
       "    }\n",
       "\n",
       "    .dataframe tbody tr th {\n",
       "        vertical-align: top;\n",
       "    }\n",
       "\n",
       "    .dataframe thead th {\n",
       "        text-align: right;\n",
       "    }\n",
       "</style>\n",
       "<table border=\"1\" class=\"dataframe\">\n",
       "  <thead>\n",
       "    <tr style=\"text-align: right;\">\n",
       "      <th></th>\n",
       "      <th>animal</th>\n",
       "      <th>hair</th>\n",
       "      <th>feathers</th>\n",
       "      <th>eggs</th>\n",
       "      <th>milk</th>\n",
       "      <th>airborne</th>\n",
       "      <th>aquatic</th>\n",
       "      <th>predator</th>\n",
       "      <th>toothed</th>\n",
       "      <th>backbone</th>\n",
       "      <th>breathes</th>\n",
       "      <th>venomous</th>\n",
       "      <th>fins</th>\n",
       "      <th>legs</th>\n",
       "      <th>tail</th>\n",
       "      <th>domestic</th>\n",
       "      <th>catsize</th>\n",
       "      <th>type</th>\n",
       "    </tr>\n",
       "  </thead>\n",
       "  <tbody>\n",
       "    <tr>\n",
       "      <th>0</th>\n",
       "      <td>aardvark</td>\n",
       "      <td>True</td>\n",
       "      <td>False</td>\n",
       "      <td>False</td>\n",
       "      <td>True</td>\n",
       "      <td>False</td>\n",
       "      <td>False</td>\n",
       "      <td>True</td>\n",
       "      <td>True</td>\n",
       "      <td>True</td>\n",
       "      <td>True</td>\n",
       "      <td>False</td>\n",
       "      <td>False</td>\n",
       "      <td>4</td>\n",
       "      <td>False</td>\n",
       "      <td>False</td>\n",
       "      <td>True</td>\n",
       "      <td>mammal</td>\n",
       "    </tr>\n",
       "    <tr>\n",
       "      <th>1</th>\n",
       "      <td>antelope</td>\n",
       "      <td>True</td>\n",
       "      <td>False</td>\n",
       "      <td>False</td>\n",
       "      <td>True</td>\n",
       "      <td>False</td>\n",
       "      <td>False</td>\n",
       "      <td>False</td>\n",
       "      <td>True</td>\n",
       "      <td>True</td>\n",
       "      <td>True</td>\n",
       "      <td>False</td>\n",
       "      <td>False</td>\n",
       "      <td>4</td>\n",
       "      <td>True</td>\n",
       "      <td>False</td>\n",
       "      <td>True</td>\n",
       "      <td>mammal</td>\n",
       "    </tr>\n",
       "    <tr>\n",
       "      <th>2</th>\n",
       "      <td>bass</td>\n",
       "      <td>False</td>\n",
       "      <td>False</td>\n",
       "      <td>True</td>\n",
       "      <td>False</td>\n",
       "      <td>False</td>\n",
       "      <td>True</td>\n",
       "      <td>True</td>\n",
       "      <td>True</td>\n",
       "      <td>True</td>\n",
       "      <td>False</td>\n",
       "      <td>False</td>\n",
       "      <td>True</td>\n",
       "      <td>0</td>\n",
       "      <td>True</td>\n",
       "      <td>False</td>\n",
       "      <td>False</td>\n",
       "      <td>fish</td>\n",
       "    </tr>\n",
       "    <tr>\n",
       "      <th>3</th>\n",
       "      <td>bear</td>\n",
       "      <td>True</td>\n",
       "      <td>False</td>\n",
       "      <td>False</td>\n",
       "      <td>True</td>\n",
       "      <td>False</td>\n",
       "      <td>False</td>\n",
       "      <td>True</td>\n",
       "      <td>True</td>\n",
       "      <td>True</td>\n",
       "      <td>True</td>\n",
       "      <td>False</td>\n",
       "      <td>False</td>\n",
       "      <td>4</td>\n",
       "      <td>False</td>\n",
       "      <td>False</td>\n",
       "      <td>True</td>\n",
       "      <td>mammal</td>\n",
       "    </tr>\n",
       "    <tr>\n",
       "      <th>4</th>\n",
       "      <td>boar</td>\n",
       "      <td>True</td>\n",
       "      <td>False</td>\n",
       "      <td>False</td>\n",
       "      <td>True</td>\n",
       "      <td>False</td>\n",
       "      <td>False</td>\n",
       "      <td>True</td>\n",
       "      <td>True</td>\n",
       "      <td>True</td>\n",
       "      <td>True</td>\n",
       "      <td>False</td>\n",
       "      <td>False</td>\n",
       "      <td>4</td>\n",
       "      <td>True</td>\n",
       "      <td>False</td>\n",
       "      <td>True</td>\n",
       "      <td>mammal</td>\n",
       "    </tr>\n",
       "  </tbody>\n",
       "</table>\n",
       "</div>"
      ],
      "text/plain": [
       "     animal   hair  feathers   eggs   milk  airborne  aquatic  predator  \\\n",
       "0  aardvark   True     False  False   True     False    False      True   \n",
       "1  antelope   True     False  False   True     False    False     False   \n",
       "2      bass  False     False   True  False     False     True      True   \n",
       "3      bear   True     False  False   True     False    False      True   \n",
       "4      boar   True     False  False   True     False    False      True   \n",
       "\n",
       "   toothed  backbone  breathes  venomous   fins  legs   tail  domestic  \\\n",
       "0     True      True      True     False  False     4  False     False   \n",
       "1     True      True      True     False  False     4   True     False   \n",
       "2     True      True     False     False   True     0   True     False   \n",
       "3     True      True      True     False  False     4  False     False   \n",
       "4     True      True      True     False  False     4   True     False   \n",
       "\n",
       "   catsize    type  \n",
       "0     True  mammal  \n",
       "1     True  mammal  \n",
       "2    False    fish  \n",
       "3     True  mammal  \n",
       "4     True  mammal  "
      ]
     },
     "execution_count": 718,
     "metadata": {},
     "output_type": "execute_result"
    }
   ],
   "source": [
    "df_zoo = pd.read_csv('../Dados/zoo.csv')\n",
    "df_zoo.head()"
   ]
  },
  {
   "cell_type": "markdown",
   "metadata": {},
   "source": [
    "1 - Crie uma série somente com os nomes dos animais (primeira coluna)\n"
   ]
  },
  {
   "cell_type": "code",
   "execution_count": 221,
   "metadata": {},
   "outputs": [
    {
     "data": {
      "text/html": [
       "<div>\n",
       "<style scoped>\n",
       "    .dataframe tbody tr th:only-of-type {\n",
       "        vertical-align: middle;\n",
       "    }\n",
       "\n",
       "    .dataframe tbody tr th {\n",
       "        vertical-align: top;\n",
       "    }\n",
       "\n",
       "    .dataframe thead th {\n",
       "        text-align: right;\n",
       "    }\n",
       "</style>\n",
       "<table border=\"1\" class=\"dataframe\">\n",
       "  <thead>\n",
       "    <tr style=\"text-align: right;\">\n",
       "      <th></th>\n",
       "      <th>animal</th>\n",
       "    </tr>\n",
       "  </thead>\n",
       "  <tbody>\n",
       "    <tr>\n",
       "      <th>0</th>\n",
       "      <td>aardvark</td>\n",
       "    </tr>\n",
       "    <tr>\n",
       "      <th>1</th>\n",
       "      <td>antelope</td>\n",
       "    </tr>\n",
       "    <tr>\n",
       "      <th>2</th>\n",
       "      <td>bass</td>\n",
       "    </tr>\n",
       "    <tr>\n",
       "      <th>3</th>\n",
       "      <td>bear</td>\n",
       "    </tr>\n",
       "    <tr>\n",
       "      <th>4</th>\n",
       "      <td>boar</td>\n",
       "    </tr>\n",
       "  </tbody>\n",
       "</table>\n",
       "</div>"
      ],
      "text/plain": [
       "     animal\n",
       "0  aardvark\n",
       "1  antelope\n",
       "2      bass\n",
       "3      bear\n",
       "4      boar"
      ]
     },
     "execution_count": 221,
     "metadata": {},
     "output_type": "execute_result"
    }
   ],
   "source": [
    "df_zoo[['animal']].head()"
   ]
  },
  {
   "cell_type": "markdown",
   "metadata": {},
   "source": [
    "2 - Transforme os campos com as strings \"True\"/\"False\" em variáveis booleanas True/False  \n",
    "Veja as dicas [aqui](https://pandas.pydata.org/pandas-docs/stable/generated/pandas.DataFrame.apply.html) e [aqui](https://stackoverflow.com/questions/49259580/replace-values-in-a-pandas-series-via-dictionary-efficiently)"
   ]
  },
  {
   "cell_type": "code",
   "execution_count": 147,
   "metadata": {},
   "outputs": [
    {
     "data": {
      "text/plain": [
       "pandas.core.frame.DataFrame"
      ]
     },
     "execution_count": 147,
     "metadata": {},
     "output_type": "execute_result"
    }
   ],
   "source": [
    "type(df_zoo)"
   ]
  },
  {
   "cell_type": "code",
   "execution_count": 175,
   "metadata": {},
   "outputs": [
    {
     "name": "stdout",
     "output_type": "stream",
     "text": [
      "<class 'pandas.core.frame.DataFrame'>\n",
      "RangeIndex: 101 entries, 0 to 100\n",
      "Data columns (total 18 columns):\n",
      "animal      101 non-null object\n",
      "hair        101 non-null bool\n",
      "feathers    101 non-null bool\n",
      "eggs        101 non-null bool\n",
      "milk        101 non-null bool\n",
      "airborne    101 non-null bool\n",
      "aquatic     101 non-null bool\n",
      "predator    101 non-null bool\n",
      "toothed     101 non-null bool\n",
      "backbone    101 non-null bool\n",
      "breathes    101 non-null bool\n",
      "venomous    101 non-null bool\n",
      "fins        101 non-null bool\n",
      "legs        101 non-null int64\n",
      "tail        101 non-null bool\n",
      "domestic    101 non-null bool\n",
      "catsize     101 non-null bool\n",
      "type        101 non-null object\n",
      "dtypes: bool(15), int64(1), object(2)\n",
      "memory usage: 3.9+ KB\n"
     ]
    }
   ],
   "source": [
    "df_zoo.info()\n",
    "#Retorna o tipo do dado nas colunas, dentre outras informacoes"
   ]
  },
  {
   "cell_type": "code",
   "execution_count": 242,
   "metadata": {},
   "outputs": [],
   "source": [
    "def ft(x):\n",
    "    if x==True:\n",
    "        x='Verdadeiro'\n",
    "    elif x==False:\n",
    "        x= 'Falso'\n",
    "    else:\n",
    "        x=x\n",
    "        return(x)"
   ]
  },
  {
   "cell_type": "code",
   "execution_count": 246,
   "metadata": {},
   "outputs": [
    {
     "data": {
      "text/html": [
       "<div>\n",
       "<style scoped>\n",
       "    .dataframe tbody tr th:only-of-type {\n",
       "        vertical-align: middle;\n",
       "    }\n",
       "\n",
       "    .dataframe tbody tr th {\n",
       "        vertical-align: top;\n",
       "    }\n",
       "\n",
       "    .dataframe thead th {\n",
       "        text-align: right;\n",
       "    }\n",
       "</style>\n",
       "<table border=\"1\" class=\"dataframe\">\n",
       "  <thead>\n",
       "    <tr style=\"text-align: right;\">\n",
       "      <th></th>\n",
       "      <th>animal</th>\n",
       "      <th>hair</th>\n",
       "      <th>feathers</th>\n",
       "      <th>eggs</th>\n",
       "      <th>milk</th>\n",
       "      <th>airborne</th>\n",
       "      <th>aquatic</th>\n",
       "      <th>predator</th>\n",
       "      <th>toothed</th>\n",
       "      <th>backbone</th>\n",
       "      <th>breathes</th>\n",
       "      <th>venomous</th>\n",
       "      <th>fins</th>\n",
       "      <th>legs</th>\n",
       "      <th>tail</th>\n",
       "      <th>domestic</th>\n",
       "      <th>catsize</th>\n",
       "      <th>type</th>\n",
       "    </tr>\n",
       "  </thead>\n",
       "  <tbody>\n",
       "    <tr>\n",
       "      <th>0</th>\n",
       "      <td>aardvark</td>\n",
       "      <td>None</td>\n",
       "      <td>None</td>\n",
       "      <td>None</td>\n",
       "      <td>None</td>\n",
       "      <td>None</td>\n",
       "      <td>None</td>\n",
       "      <td>None</td>\n",
       "      <td>None</td>\n",
       "      <td>None</td>\n",
       "      <td>None</td>\n",
       "      <td>None</td>\n",
       "      <td>None</td>\n",
       "      <td>4.0</td>\n",
       "      <td>None</td>\n",
       "      <td>None</td>\n",
       "      <td>None</td>\n",
       "      <td>mammal</td>\n",
       "    </tr>\n",
       "    <tr>\n",
       "      <th>1</th>\n",
       "      <td>antelope</td>\n",
       "      <td>None</td>\n",
       "      <td>None</td>\n",
       "      <td>None</td>\n",
       "      <td>None</td>\n",
       "      <td>None</td>\n",
       "      <td>None</td>\n",
       "      <td>None</td>\n",
       "      <td>None</td>\n",
       "      <td>None</td>\n",
       "      <td>None</td>\n",
       "      <td>None</td>\n",
       "      <td>None</td>\n",
       "      <td>4.0</td>\n",
       "      <td>None</td>\n",
       "      <td>None</td>\n",
       "      <td>None</td>\n",
       "      <td>mammal</td>\n",
       "    </tr>\n",
       "    <tr>\n",
       "      <th>2</th>\n",
       "      <td>bass</td>\n",
       "      <td>None</td>\n",
       "      <td>None</td>\n",
       "      <td>None</td>\n",
       "      <td>None</td>\n",
       "      <td>None</td>\n",
       "      <td>None</td>\n",
       "      <td>None</td>\n",
       "      <td>None</td>\n",
       "      <td>None</td>\n",
       "      <td>None</td>\n",
       "      <td>None</td>\n",
       "      <td>None</td>\n",
       "      <td>NaN</td>\n",
       "      <td>None</td>\n",
       "      <td>None</td>\n",
       "      <td>None</td>\n",
       "      <td>fish</td>\n",
       "    </tr>\n",
       "    <tr>\n",
       "      <th>3</th>\n",
       "      <td>bear</td>\n",
       "      <td>None</td>\n",
       "      <td>None</td>\n",
       "      <td>None</td>\n",
       "      <td>None</td>\n",
       "      <td>None</td>\n",
       "      <td>None</td>\n",
       "      <td>None</td>\n",
       "      <td>None</td>\n",
       "      <td>None</td>\n",
       "      <td>None</td>\n",
       "      <td>None</td>\n",
       "      <td>None</td>\n",
       "      <td>4.0</td>\n",
       "      <td>None</td>\n",
       "      <td>None</td>\n",
       "      <td>None</td>\n",
       "      <td>mammal</td>\n",
       "    </tr>\n",
       "    <tr>\n",
       "      <th>4</th>\n",
       "      <td>boar</td>\n",
       "      <td>None</td>\n",
       "      <td>None</td>\n",
       "      <td>None</td>\n",
       "      <td>None</td>\n",
       "      <td>None</td>\n",
       "      <td>None</td>\n",
       "      <td>None</td>\n",
       "      <td>None</td>\n",
       "      <td>None</td>\n",
       "      <td>None</td>\n",
       "      <td>None</td>\n",
       "      <td>None</td>\n",
       "      <td>4.0</td>\n",
       "      <td>None</td>\n",
       "      <td>None</td>\n",
       "      <td>None</td>\n",
       "      <td>mammal</td>\n",
       "    </tr>\n",
       "  </tbody>\n",
       "</table>\n",
       "</div>"
      ],
      "text/plain": [
       "     animal  hair feathers  eggs  milk airborne aquatic predator toothed  \\\n",
       "0  aardvark  None     None  None  None     None    None     None    None   \n",
       "1  antelope  None     None  None  None     None    None     None    None   \n",
       "2      bass  None     None  None  None     None    None     None    None   \n",
       "3      bear  None     None  None  None     None    None     None    None   \n",
       "4      boar  None     None  None  None     None    None     None    None   \n",
       "\n",
       "  backbone breathes venomous  fins  legs  tail domestic catsize    type  \n",
       "0     None     None     None  None   4.0  None     None    None  mammal  \n",
       "1     None     None     None  None   4.0  None     None    None  mammal  \n",
       "2     None     None     None  None   NaN  None     None    None    fish  \n",
       "3     None     None     None  None   4.0  None     None    None  mammal  \n",
       "4     None     None     None  None   4.0  None     None    None  mammal  "
      ]
     },
     "execution_count": 246,
     "metadata": {},
     "output_type": "execute_result"
    }
   ],
   "source": [
    "df_zoo.applymap(lambda x: ft(x)).head()"
   ]
  },
  {
   "cell_type": "code",
   "execution_count": 183,
   "metadata": {},
   "outputs": [],
   "source": [
    "df_zoo1 = df_zoo.copy()"
   ]
  },
  {
   "cell_type": "code",
   "execution_count": 227,
   "metadata": {
    "scrolled": true
   },
   "outputs": [
    {
     "data": {
      "text/html": [
       "<div>\n",
       "<style scoped>\n",
       "    .dataframe tbody tr th:only-of-type {\n",
       "        vertical-align: middle;\n",
       "    }\n",
       "\n",
       "    .dataframe tbody tr th {\n",
       "        vertical-align: top;\n",
       "    }\n",
       "\n",
       "    .dataframe thead th {\n",
       "        text-align: right;\n",
       "    }\n",
       "</style>\n",
       "<table border=\"1\" class=\"dataframe\">\n",
       "  <thead>\n",
       "    <tr style=\"text-align: right;\">\n",
       "      <th></th>\n",
       "      <th>animal</th>\n",
       "      <th>hair</th>\n",
       "      <th>feathers</th>\n",
       "      <th>eggs</th>\n",
       "      <th>milk</th>\n",
       "      <th>airborne</th>\n",
       "      <th>aquatic</th>\n",
       "      <th>predator</th>\n",
       "      <th>toothed</th>\n",
       "      <th>backbone</th>\n",
       "      <th>breathes</th>\n",
       "      <th>venomous</th>\n",
       "      <th>fins</th>\n",
       "      <th>legs</th>\n",
       "      <th>tail</th>\n",
       "      <th>domestic</th>\n",
       "      <th>catsize</th>\n",
       "      <th>type</th>\n",
       "    </tr>\n",
       "  </thead>\n",
       "  <tbody>\n",
       "    <tr>\n",
       "      <th>0</th>\n",
       "      <td>aardvark</td>\n",
       "      <td>Verdadeiro</td>\n",
       "      <td>Falso</td>\n",
       "      <td>Falso</td>\n",
       "      <td>Verdadeiro</td>\n",
       "      <td>Falso</td>\n",
       "      <td>Falso</td>\n",
       "      <td>Verdadeiro</td>\n",
       "      <td>Verdadeiro</td>\n",
       "      <td>Verdadeiro</td>\n",
       "      <td>Verdadeiro</td>\n",
       "      <td>Falso</td>\n",
       "      <td>Falso</td>\n",
       "      <td>4</td>\n",
       "      <td>Falso</td>\n",
       "      <td>Falso</td>\n",
       "      <td>Verdadeiro</td>\n",
       "      <td>mammal</td>\n",
       "    </tr>\n",
       "    <tr>\n",
       "      <th>1</th>\n",
       "      <td>antelope</td>\n",
       "      <td>Verdadeiro</td>\n",
       "      <td>Falso</td>\n",
       "      <td>Falso</td>\n",
       "      <td>Verdadeiro</td>\n",
       "      <td>Falso</td>\n",
       "      <td>Falso</td>\n",
       "      <td>Falso</td>\n",
       "      <td>Verdadeiro</td>\n",
       "      <td>Verdadeiro</td>\n",
       "      <td>Verdadeiro</td>\n",
       "      <td>Falso</td>\n",
       "      <td>Falso</td>\n",
       "      <td>4</td>\n",
       "      <td>Verdadeiro</td>\n",
       "      <td>Falso</td>\n",
       "      <td>Verdadeiro</td>\n",
       "      <td>mammal</td>\n",
       "    </tr>\n",
       "    <tr>\n",
       "      <th>2</th>\n",
       "      <td>bass</td>\n",
       "      <td>Falso</td>\n",
       "      <td>Falso</td>\n",
       "      <td>Verdadeiro</td>\n",
       "      <td>Falso</td>\n",
       "      <td>Falso</td>\n",
       "      <td>Verdadeiro</td>\n",
       "      <td>Verdadeiro</td>\n",
       "      <td>Verdadeiro</td>\n",
       "      <td>Verdadeiro</td>\n",
       "      <td>Falso</td>\n",
       "      <td>Falso</td>\n",
       "      <td>Verdadeiro</td>\n",
       "      <td>Falso</td>\n",
       "      <td>Verdadeiro</td>\n",
       "      <td>Falso</td>\n",
       "      <td>Falso</td>\n",
       "      <td>fish</td>\n",
       "    </tr>\n",
       "    <tr>\n",
       "      <th>3</th>\n",
       "      <td>bear</td>\n",
       "      <td>Verdadeiro</td>\n",
       "      <td>Falso</td>\n",
       "      <td>Falso</td>\n",
       "      <td>Verdadeiro</td>\n",
       "      <td>Falso</td>\n",
       "      <td>Falso</td>\n",
       "      <td>Verdadeiro</td>\n",
       "      <td>Verdadeiro</td>\n",
       "      <td>Verdadeiro</td>\n",
       "      <td>Verdadeiro</td>\n",
       "      <td>Falso</td>\n",
       "      <td>Falso</td>\n",
       "      <td>4</td>\n",
       "      <td>Falso</td>\n",
       "      <td>Falso</td>\n",
       "      <td>Verdadeiro</td>\n",
       "      <td>mammal</td>\n",
       "    </tr>\n",
       "    <tr>\n",
       "      <th>4</th>\n",
       "      <td>boar</td>\n",
       "      <td>Verdadeiro</td>\n",
       "      <td>Falso</td>\n",
       "      <td>Falso</td>\n",
       "      <td>Verdadeiro</td>\n",
       "      <td>Falso</td>\n",
       "      <td>Falso</td>\n",
       "      <td>Verdadeiro</td>\n",
       "      <td>Verdadeiro</td>\n",
       "      <td>Verdadeiro</td>\n",
       "      <td>Verdadeiro</td>\n",
       "      <td>Falso</td>\n",
       "      <td>Falso</td>\n",
       "      <td>4</td>\n",
       "      <td>Verdadeiro</td>\n",
       "      <td>Falso</td>\n",
       "      <td>Verdadeiro</td>\n",
       "      <td>mammal</td>\n",
       "    </tr>\n",
       "  </tbody>\n",
       "</table>\n",
       "</div>"
      ],
      "text/plain": [
       "     animal        hair feathers        eggs        milk airborne     aquatic  \\\n",
       "0  aardvark  Verdadeiro    Falso       Falso  Verdadeiro    Falso       Falso   \n",
       "1  antelope  Verdadeiro    Falso       Falso  Verdadeiro    Falso       Falso   \n",
       "2      bass       Falso    Falso  Verdadeiro       Falso    Falso  Verdadeiro   \n",
       "3      bear  Verdadeiro    Falso       Falso  Verdadeiro    Falso       Falso   \n",
       "4      boar  Verdadeiro    Falso       Falso  Verdadeiro    Falso       Falso   \n",
       "\n",
       "     predator     toothed    backbone    breathes venomous        fins   legs  \\\n",
       "0  Verdadeiro  Verdadeiro  Verdadeiro  Verdadeiro    Falso       Falso      4   \n",
       "1       Falso  Verdadeiro  Verdadeiro  Verdadeiro    Falso       Falso      4   \n",
       "2  Verdadeiro  Verdadeiro  Verdadeiro       Falso    Falso  Verdadeiro  Falso   \n",
       "3  Verdadeiro  Verdadeiro  Verdadeiro  Verdadeiro    Falso       Falso      4   \n",
       "4  Verdadeiro  Verdadeiro  Verdadeiro  Verdadeiro    Falso       Falso      4   \n",
       "\n",
       "         tail domestic     catsize    type  \n",
       "0       Falso    Falso  Verdadeiro  mammal  \n",
       "1  Verdadeiro    Falso  Verdadeiro  mammal  \n",
       "2  Verdadeiro    Falso       Falso    fish  \n",
       "3       Falso    Falso  Verdadeiro  mammal  \n",
       "4  Verdadeiro    Falso  Verdadeiro  mammal  "
      ]
     },
     "execution_count": 227,
     "metadata": {},
     "output_type": "execute_result"
    }
   ],
   "source": [
    "df_zoo1.replace(True,'Verdadeiro',inplace=True)\n",
    "df_zoo1.replace(False,'Falso',inplace=True) #nesse caso ele considera 1 e 0 como false e true\n",
    "df_zoo1.head()"
   ]
  },
  {
   "cell_type": "markdown",
   "metadata": {},
   "source": [
    "3 - Crie um novo dataframe somente com os Mamíferos"
   ]
  },
  {
   "cell_type": "code",
   "execution_count": 205,
   "metadata": {
    "scrolled": true
   },
   "outputs": [
    {
     "data": {
      "text/html": [
       "<div>\n",
       "<style scoped>\n",
       "    .dataframe tbody tr th:only-of-type {\n",
       "        vertical-align: middle;\n",
       "    }\n",
       "\n",
       "    .dataframe tbody tr th {\n",
       "        vertical-align: top;\n",
       "    }\n",
       "\n",
       "    .dataframe thead th {\n",
       "        text-align: right;\n",
       "    }\n",
       "</style>\n",
       "<table border=\"1\" class=\"dataframe\">\n",
       "  <thead>\n",
       "    <tr style=\"text-align: right;\">\n",
       "      <th></th>\n",
       "      <th>animal</th>\n",
       "      <th>hair</th>\n",
       "      <th>feathers</th>\n",
       "      <th>eggs</th>\n",
       "      <th>milk</th>\n",
       "      <th>airborne</th>\n",
       "      <th>aquatic</th>\n",
       "      <th>predator</th>\n",
       "      <th>toothed</th>\n",
       "      <th>backbone</th>\n",
       "      <th>breathes</th>\n",
       "      <th>venomous</th>\n",
       "      <th>fins</th>\n",
       "      <th>legs</th>\n",
       "      <th>tail</th>\n",
       "      <th>domestic</th>\n",
       "      <th>catsize</th>\n",
       "      <th>type</th>\n",
       "    </tr>\n",
       "  </thead>\n",
       "  <tbody>\n",
       "    <tr>\n",
       "      <th>0</th>\n",
       "      <td>aardvark</td>\n",
       "      <td>True</td>\n",
       "      <td>False</td>\n",
       "      <td>False</td>\n",
       "      <td>True</td>\n",
       "      <td>False</td>\n",
       "      <td>False</td>\n",
       "      <td>True</td>\n",
       "      <td>True</td>\n",
       "      <td>True</td>\n",
       "      <td>True</td>\n",
       "      <td>False</td>\n",
       "      <td>False</td>\n",
       "      <td>4</td>\n",
       "      <td>False</td>\n",
       "      <td>False</td>\n",
       "      <td>True</td>\n",
       "      <td>mammal</td>\n",
       "    </tr>\n",
       "    <tr>\n",
       "      <th>1</th>\n",
       "      <td>antelope</td>\n",
       "      <td>True</td>\n",
       "      <td>False</td>\n",
       "      <td>False</td>\n",
       "      <td>True</td>\n",
       "      <td>False</td>\n",
       "      <td>False</td>\n",
       "      <td>False</td>\n",
       "      <td>True</td>\n",
       "      <td>True</td>\n",
       "      <td>True</td>\n",
       "      <td>False</td>\n",
       "      <td>False</td>\n",
       "      <td>4</td>\n",
       "      <td>True</td>\n",
       "      <td>False</td>\n",
       "      <td>True</td>\n",
       "      <td>mammal</td>\n",
       "    </tr>\n",
       "    <tr>\n",
       "      <th>3</th>\n",
       "      <td>bear</td>\n",
       "      <td>True</td>\n",
       "      <td>False</td>\n",
       "      <td>False</td>\n",
       "      <td>True</td>\n",
       "      <td>False</td>\n",
       "      <td>False</td>\n",
       "      <td>True</td>\n",
       "      <td>True</td>\n",
       "      <td>True</td>\n",
       "      <td>True</td>\n",
       "      <td>False</td>\n",
       "      <td>False</td>\n",
       "      <td>4</td>\n",
       "      <td>False</td>\n",
       "      <td>False</td>\n",
       "      <td>True</td>\n",
       "      <td>mammal</td>\n",
       "    </tr>\n",
       "    <tr>\n",
       "      <th>4</th>\n",
       "      <td>boar</td>\n",
       "      <td>True</td>\n",
       "      <td>False</td>\n",
       "      <td>False</td>\n",
       "      <td>True</td>\n",
       "      <td>False</td>\n",
       "      <td>False</td>\n",
       "      <td>True</td>\n",
       "      <td>True</td>\n",
       "      <td>True</td>\n",
       "      <td>True</td>\n",
       "      <td>False</td>\n",
       "      <td>False</td>\n",
       "      <td>4</td>\n",
       "      <td>True</td>\n",
       "      <td>False</td>\n",
       "      <td>True</td>\n",
       "      <td>mammal</td>\n",
       "    </tr>\n",
       "    <tr>\n",
       "      <th>5</th>\n",
       "      <td>buffalo</td>\n",
       "      <td>True</td>\n",
       "      <td>False</td>\n",
       "      <td>False</td>\n",
       "      <td>True</td>\n",
       "      <td>False</td>\n",
       "      <td>False</td>\n",
       "      <td>False</td>\n",
       "      <td>True</td>\n",
       "      <td>True</td>\n",
       "      <td>True</td>\n",
       "      <td>False</td>\n",
       "      <td>False</td>\n",
       "      <td>4</td>\n",
       "      <td>True</td>\n",
       "      <td>False</td>\n",
       "      <td>True</td>\n",
       "      <td>mammal</td>\n",
       "    </tr>\n",
       "  </tbody>\n",
       "</table>\n",
       "</div>"
      ],
      "text/plain": [
       "     animal  hair  feathers   eggs  milk  airborne  aquatic  predator  \\\n",
       "0  aardvark  True     False  False  True     False    False      True   \n",
       "1  antelope  True     False  False  True     False    False     False   \n",
       "3      bear  True     False  False  True     False    False      True   \n",
       "4      boar  True     False  False  True     False    False      True   \n",
       "5   buffalo  True     False  False  True     False    False     False   \n",
       "\n",
       "   toothed  backbone  breathes  venomous   fins  legs   tail  domestic  \\\n",
       "0     True      True      True     False  False     4  False     False   \n",
       "1     True      True      True     False  False     4   True     False   \n",
       "3     True      True      True     False  False     4  False     False   \n",
       "4     True      True      True     False  False     4   True     False   \n",
       "5     True      True      True     False  False     4   True     False   \n",
       "\n",
       "   catsize    type  \n",
       "0     True  mammal  \n",
       "1     True  mammal  \n",
       "3     True  mammal  \n",
       "4     True  mammal  \n",
       "5     True  mammal  "
      ]
     },
     "execution_count": 205,
     "metadata": {},
     "output_type": "execute_result"
    }
   ],
   "source": [
    "df_zoo_filtrado = df_zoo[df_zoo.type == 'mammal']\n",
    "df_zoo_filtrado.head()"
   ]
  },
  {
   "cell_type": "markdown",
   "metadata": {},
   "source": [
    "4 - Crie um gráfico com os números de patas por animais  \n",
    "Veja as dicas [aqui](https://pandas.pydata.org/pandas-docs/version/0.22/generated/pandas.DataFrame.plot.html)  "
   ]
  },
  {
   "cell_type": "code",
   "execution_count": 220,
   "metadata": {},
   "outputs": [
    {
     "data": {
      "text/plain": [
       "<matplotlib.axes._subplots.AxesSubplot at 0x7fd3805a2e80>"
      ]
     },
     "execution_count": 220,
     "metadata": {},
     "output_type": "execute_result"
    },
    {
     "data": {
      "image/png": "[encoded data removed]",
      "text/plain": [
       "<Figure size 432x288 with 1 Axes>"
      ]
     },
     "metadata": {},
     "output_type": "display_data"
    }
   ],
   "source": [
    "df_zoo.plot(x = 'animal', y = 'legs', color='g')"
   ]
  },
  {
   "cell_type": "markdown",
   "metadata": {},
   "source": [
    "5 - crie uma tabela no banco alunos a partir do dataframe  \n",
    "ver referência [aqui](https://pandas.pydata.org/pandas-docs/stable/generated/pandas.DataFrame.to_sql.html)"
   ]
  },
  {
   "cell_type": "code",
   "execution_count": null,
   "metadata": {},
   "outputs": [],
   "source": [
    "p = getpass.getpass()\n",
    "conn = pymysql.connect(host='127.0.0.1', #localhost\n",
    "                       port=3306, \n",
    "                       user='aluno', \n",
    "                       passwd=p, \n",
    "                       db='alunos')"
   ]
  },
  {
   "cell_type": "code",
   "execution_count": 251,
   "metadata": {},
   "outputs": [],
   "source": [
    "#Abaixo o passo a passo para a criação de uma tabela no sql a patir de um dataframe\n",
    "conn = sqlite3.connect('tabela_zoo')"
   ]
  },
  {
   "cell_type": "code",
   "execution_count": 248,
   "metadata": {},
   "outputs": [],
   "source": [
    "df_zoo.to_sql('tabela_zoo', con=conn)"
   ]
  },
  {
   "cell_type": "code",
   "execution_count": 249,
   "metadata": {},
   "outputs": [],
   "source": [
    "cur = conn.cursor()"
   ]
  },
  {
   "cell_type": "code",
   "execution_count": 250,
   "metadata": {},
   "outputs": [
    {
     "name": "stdout",
     "output_type": "stream",
     "text": [
      "(0, 'aardvark', 1, 0, 0, 1, 0, 0, 1, 1, 1, 1, 0, 0, 4, 0, 0, 1, 'mammal')\n",
      "(1, 'antelope', 1, 0, 0, 1, 0, 0, 0, 1, 1, 1, 0, 0, 4, 1, 0, 1, 'mammal')\n",
      "(2, 'bass', 0, 0, 1, 0, 0, 1, 1, 1, 1, 0, 0, 1, 0, 1, 0, 0, 'fish')\n",
      "(3, 'bear', 1, 0, 0, 1, 0, 0, 1, 1, 1, 1, 0, 0, 4, 0, 0, 1, 'mammal')\n",
      "(4, 'boar', 1, 0, 0, 1, 0, 0, 1, 1, 1, 1, 0, 0, 4, 1, 0, 1, 'mammal')\n",
      "(5, 'buffalo', 1, 0, 0, 1, 0, 0, 0, 1, 1, 1, 0, 0, 4, 1, 0, 1, 'mammal')\n",
      "(6, 'calf', 1, 0, 0, 1, 0, 0, 0, 1, 1, 1, 0, 0, 4, 1, 1, 1, 'mammal')\n",
      "(7, 'carp', 0, 0, 1, 0, 0, 1, 0, 1, 1, 0, 0, 1, 0, 1, 1, 0, 'fish')\n",
      "(8, 'catfish', 0, 0, 1, 0, 0, 1, 1, 1, 1, 0, 0, 1, 0, 1, 0, 0, 'fish')\n",
      "(9, 'cavy', 1, 0, 0, 1, 0, 0, 0, 1, 1, 1, 0, 0, 4, 0, 1, 0, 'mammal')\n",
      "(10, 'cheetah', 1, 0, 0, 1, 0, 0, 1, 1, 1, 1, 0, 0, 4, 1, 0, 1, 'mammal')\n",
      "(11, 'chicken', 0, 1, 1, 0, 1, 0, 0, 0, 1, 1, 0, 0, 2, 1, 1, 0, 'bird')\n"
     ]
    }
   ],
   "source": [
    "cur.execute(\"SELECT * FROM tabela_zoo;\")\n",
    "for r in cur.fetchmany(12):\n",
    "    print(r)"
   ]
  },
  {
   "cell_type": "code",
   "execution_count": 253,
   "metadata": {},
   "outputs": [
    {
     "data": {
      "text/html": [
       "<div>\n",
       "<style scoped>\n",
       "    .dataframe tbody tr th:only-of-type {\n",
       "        vertical-align: middle;\n",
       "    }\n",
       "\n",
       "    .dataframe tbody tr th {\n",
       "        vertical-align: top;\n",
       "    }\n",
       "\n",
       "    .dataframe thead th {\n",
       "        text-align: right;\n",
       "    }\n",
       "</style>\n",
       "<table border=\"1\" class=\"dataframe\">\n",
       "  <thead>\n",
       "    <tr style=\"text-align: right;\">\n",
       "      <th></th>\n",
       "      <th>index</th>\n",
       "      <th>animal</th>\n",
       "      <th>hair</th>\n",
       "      <th>feathers</th>\n",
       "      <th>eggs</th>\n",
       "      <th>milk</th>\n",
       "      <th>airborne</th>\n",
       "      <th>aquatic</th>\n",
       "      <th>predator</th>\n",
       "      <th>toothed</th>\n",
       "      <th>backbone</th>\n",
       "      <th>breathes</th>\n",
       "      <th>venomous</th>\n",
       "      <th>fins</th>\n",
       "      <th>legs</th>\n",
       "      <th>tail</th>\n",
       "      <th>domestic</th>\n",
       "      <th>catsize</th>\n",
       "      <th>type</th>\n",
       "    </tr>\n",
       "  </thead>\n",
       "  <tbody>\n",
       "    <tr>\n",
       "      <th>0</th>\n",
       "      <td>0</td>\n",
       "      <td>aardvark</td>\n",
       "      <td>1</td>\n",
       "      <td>0</td>\n",
       "      <td>0</td>\n",
       "      <td>1</td>\n",
       "      <td>0</td>\n",
       "      <td>0</td>\n",
       "      <td>1</td>\n",
       "      <td>1</td>\n",
       "      <td>1</td>\n",
       "      <td>1</td>\n",
       "      <td>0</td>\n",
       "      <td>0</td>\n",
       "      <td>4</td>\n",
       "      <td>0</td>\n",
       "      <td>0</td>\n",
       "      <td>1</td>\n",
       "      <td>mammal</td>\n",
       "    </tr>\n",
       "    <tr>\n",
       "      <th>1</th>\n",
       "      <td>1</td>\n",
       "      <td>antelope</td>\n",
       "      <td>1</td>\n",
       "      <td>0</td>\n",
       "      <td>0</td>\n",
       "      <td>1</td>\n",
       "      <td>0</td>\n",
       "      <td>0</td>\n",
       "      <td>0</td>\n",
       "      <td>1</td>\n",
       "      <td>1</td>\n",
       "      <td>1</td>\n",
       "      <td>0</td>\n",
       "      <td>0</td>\n",
       "      <td>4</td>\n",
       "      <td>1</td>\n",
       "      <td>0</td>\n",
       "      <td>1</td>\n",
       "      <td>mammal</td>\n",
       "    </tr>\n",
       "    <tr>\n",
       "      <th>2</th>\n",
       "      <td>2</td>\n",
       "      <td>bass</td>\n",
       "      <td>0</td>\n",
       "      <td>0</td>\n",
       "      <td>1</td>\n",
       "      <td>0</td>\n",
       "      <td>0</td>\n",
       "      <td>1</td>\n",
       "      <td>1</td>\n",
       "      <td>1</td>\n",
       "      <td>1</td>\n",
       "      <td>0</td>\n",
       "      <td>0</td>\n",
       "      <td>1</td>\n",
       "      <td>0</td>\n",
       "      <td>1</td>\n",
       "      <td>0</td>\n",
       "      <td>0</td>\n",
       "      <td>fish</td>\n",
       "    </tr>\n",
       "    <tr>\n",
       "      <th>3</th>\n",
       "      <td>3</td>\n",
       "      <td>bear</td>\n",
       "      <td>1</td>\n",
       "      <td>0</td>\n",
       "      <td>0</td>\n",
       "      <td>1</td>\n",
       "      <td>0</td>\n",
       "      <td>0</td>\n",
       "      <td>1</td>\n",
       "      <td>1</td>\n",
       "      <td>1</td>\n",
       "      <td>1</td>\n",
       "      <td>0</td>\n",
       "      <td>0</td>\n",
       "      <td>4</td>\n",
       "      <td>0</td>\n",
       "      <td>0</td>\n",
       "      <td>1</td>\n",
       "      <td>mammal</td>\n",
       "    </tr>\n",
       "    <tr>\n",
       "      <th>4</th>\n",
       "      <td>4</td>\n",
       "      <td>boar</td>\n",
       "      <td>1</td>\n",
       "      <td>0</td>\n",
       "      <td>0</td>\n",
       "      <td>1</td>\n",
       "      <td>0</td>\n",
       "      <td>0</td>\n",
       "      <td>1</td>\n",
       "      <td>1</td>\n",
       "      <td>1</td>\n",
       "      <td>1</td>\n",
       "      <td>0</td>\n",
       "      <td>0</td>\n",
       "      <td>4</td>\n",
       "      <td>1</td>\n",
       "      <td>0</td>\n",
       "      <td>1</td>\n",
       "      <td>mammal</td>\n",
       "    </tr>\n",
       "    <tr>\n",
       "      <th>5</th>\n",
       "      <td>5</td>\n",
       "      <td>buffalo</td>\n",
       "      <td>1</td>\n",
       "      <td>0</td>\n",
       "      <td>0</td>\n",
       "      <td>1</td>\n",
       "      <td>0</td>\n",
       "      <td>0</td>\n",
       "      <td>0</td>\n",
       "      <td>1</td>\n",
       "      <td>1</td>\n",
       "      <td>1</td>\n",
       "      <td>0</td>\n",
       "      <td>0</td>\n",
       "      <td>4</td>\n",
       "      <td>1</td>\n",
       "      <td>0</td>\n",
       "      <td>1</td>\n",
       "      <td>mammal</td>\n",
       "    </tr>\n",
       "  </tbody>\n",
       "</table>\n",
       "</div>"
      ],
      "text/plain": [
       "   index    animal  hair  feathers  eggs  milk  airborne  aquatic  predator  \\\n",
       "0      0  aardvark     1         0     0     1         0        0         1   \n",
       "1      1  antelope     1         0     0     1         0        0         0   \n",
       "2      2      bass     0         0     1     0         0        1         1   \n",
       "3      3      bear     1         0     0     1         0        0         1   \n",
       "4      4      boar     1         0     0     1         0        0         1   \n",
       "5      5   buffalo     1         0     0     1         0        0         0   \n",
       "\n",
       "   toothed  backbone  breathes  venomous  fins  legs  tail  domestic  catsize  \\\n",
       "0        1         1         1         0     0     4     0         0        1   \n",
       "1        1         1         1         0     0     4     1         0        1   \n",
       "2        1         1         0         0     1     0     1         0        0   \n",
       "3        1         1         1         0     0     4     0         0        1   \n",
       "4        1         1         1         0     0     4     1         0        1   \n",
       "5        1         1         1         0     0     4     1         0        1   \n",
       "\n",
       "     type  \n",
       "0  mammal  \n",
       "1  mammal  \n",
       "2    fish  \n",
       "3  mammal  \n",
       "4  mammal  \n",
       "5  mammal  "
      ]
     },
     "execution_count": 253,
     "metadata": {},
     "output_type": "execute_result"
    }
   ],
   "source": [
    "#Transformando uma tabela do sql em um dataframe\n",
    "new_df = pd.read_sql_query(\"SELECT * FROM tabela_zoo;\", conn)\n",
    "new_df.head(6)"
   ]
  },
  {
   "cell_type": "markdown",
   "metadata": {},
   "source": [
    "### Parte 2 - Shell Linux"
   ]
  },
  {
   "cell_type": "markdown",
   "metadata": {},
   "source": [
    "Usando comandos do Shell, abra o arquivo ../Dados/DomCasmurroMachadoAssis.txt e resolva as seguintes tarefas:"
   ]
  },
  {
   "cell_type": "code",
   "execution_count": 316,
   "metadata": {},
   "outputs": [
    {
     "name": "stdout",
     "output_type": "stream",
     "text": [
      "﻿The Project Gutenberg EBook of Dom Casmurro, by Machado de Assis\r",
      "\r\n",
      "\r",
      "\r\n",
      "This eBook is for the use of anyone anywhere in the United States and most\r",
      "\r\n",
      "other parts of the world at no cost and with almost no restrictions\r",
      "\r\n",
      "whatsoever.  You may copy it, give it away or re-use it under the terms of\r",
      "\r\n",
      "the Project Gutenberg License included with this eBook or online at\r",
      "\r\n",
      "www.gutenberg.org.  If you are not located in the United States, you'll have\r",
      "\r\n",
      "to check the laws of the country where you are located before using this ebook.\r",
      "\r\n",
      "\r",
      "\r\n",
      "Title: Dom Casmurro\r",
      "\r\n",
      "\r",
      "\r\n",
      "Author: Machado de Assis\r",
      "\r\n",
      "\r",
      "\r\n",
      "Release Date: October 15, 2017 [EBook #55752]\r",
      "\r\n",
      "\r",
      "\r\n",
      "Language: Portuguese\r",
      "\r\n",
      "\r",
      "\r\n",
      "\r",
      "\r\n",
      "*** START OF THIS PROJECT GUTENBERG EBOOK DOM CASMURRO ***\r",
      "\r\n",
      "\r",
      "\r\n",
      "\r",
      "\r\n",
      "\r",
      "\r\n",
      "\r",
      "\r\n",
      "Produced by Laura Natal Rodriguez & Marc D'Hooghe at Free\r",
      "\r\n",
      "Literature (online soon in an extended version,also linking\r",
      "\r\n",
      "to free sources for education worldwide ... MOOC's,\r",
      "\r\n",
      "educational materials,...) (Images generously made available\r",
      "\r\n",
      "by the Bibliotheca Nacional Digital Brasil.)\r",
      "\r\n",
      "\r",
      "\r\n",
      "\r",
      "\r\n",
      "\r",
      "\r\n",
      "\r",
      "\r\n",
      "\r",
      "\r\n",
      "DOM CASMURRO\r",
      "\r\n",
      "\r",
      "\r\n",
      "POR\r",
      "\r\n",
      "\r",
      "\r\n",
      "MACHADO DE ASSIS\r",
      "\r\n",
      "\r",
      "\r\n",
      "DA ACADEMIA BRAZILEIRA\r",
      "\r\n",
      "\r",
      "\r\n",
      "H. GARNIER, LIVREIRO-EDITOR\r",
      "\r\n",
      "\r",
      "\r\n",
      "RUA MOREIRA CEZAR, 71\r",
      "\r\n",
      "\r",
      "\r\n",
      "RIO DE JANEIRO\r",
      "\r\n",
      "\r",
      "\r\n",
      "6, RUE DES SAINTS-PÈRES, 6\r",
      "\r\n",
      "\r",
      "\r\n",
      "PARIZ\r",
      "\r\n",
      "cat: write error: Broken pipe\r\n"
     ]
    }
   ],
   "source": [
    "!cat ../Dados/DomCasmurroMachadoAssis.txt | sed 50q"
   ]
  },
  {
   "cell_type": "markdown",
   "metadata": {},
   "source": [
    "1 - Ordene as palavras do texto nas formas abaixo:\n",
    "+ ordem ascii\n",
    "+ ordem alfabética\n",
    "+ ordem de \"rima\""
   ]
  },
  {
   "cell_type": "code",
   "execution_count": 492,
   "metadata": {},
   "outputs": [
    {
     "name": "stdout",
     "output_type": "stream",
     "text": [
      "\r\n",
      "]\r\n",
      "�\r\n",
      "a\r\n",
      "A\r\n",
      "á\r\n",
      "ab\r\n",
      "abafadas\r\n",
      "abafado\r\n",
      "abafando\r\n",
      "uniq: write error: Broken pipe\r\n"
     ]
    }
   ],
   "source": [
    "#Listando as palavras distintas num texto ordenadas pela ordem alfabética\n",
    "!cat ../Dados/DomCasmurroMachadoAssis.txt | tr -sc '[A-Z]''[áàâãéêèíôóõúç]''[a-z]' '[\\012*]' | sort | uniq | head"
   ]
  },
  {
   "cell_type": "code",
   "execution_count": 540,
   "metadata": {},
   "outputs": [
    {
     "name": "stdout",
     "output_type": "stream",
     "text": [
      "﻿The Project Gutenberg EBook of Dom Casmurro, by Machado de Assis\r",
      "\r\n",
      "\r",
      "\r\n",
      "This eBook is for the use of anyone anywhere in the United States and most\r",
      "\r\n",
      "other parts of the world at no cost and with almost no restrictions\r",
      "\r\n",
      "whatsoever.  You may copy it, give it away or re-use it under the terms of\r",
      "\r\n",
      "the Project Gutenberg License included with this eBook or online at\r",
      "\r\n",
      "www.gutenberg.org.  If you are not located in the United States, you'll have\r",
      "\r\n",
      "to check the laws of the country where you are located before using this ebook.\r",
      "\r\n",
      "\r",
      "\r\n",
      "Title: Dom Casmurro\r",
      "\r\n",
      "sed: couldn't write 72 items to stdout: Broken pipe\r\n",
      "cat: write error: Broken pipe\r\n"
     ]
    }
   ],
   "source": [
    "#Trocando o nome de Capitú por Cristiana\n",
    "!cat ../Dados/DomCasmurroMachadoAssis.txt |sed 's/Capitú/Cristiana/g' |head"
   ]
  },
  {
   "cell_type": "code",
   "execution_count": 462,
   "metadata": {},
   "outputs": [
    {
     "name": "stdout",
     "output_type": "stream",
     "text": [
      "      1 \r\n",
      "      1 ]\r\n",
      "    101 ENT\r\n",
      "   1034 ME\r\n",
      "    105 ERAM\r\n",
      "    107 OUTRO\r\n",
      "     10 ABRA\r\n",
      "     10 ACCESS\r\n",
      "     10 ACHA\r\n",
      "     10 AP\r\n",
      "sort: write failed: 'standard output': Broken pipe\r\n",
      "sort: write error\r\n"
     ]
    }
   ],
   "source": [
    "#Transformando todas as letras em maísculas\n",
    "! tr '[a-z]' '[A-Z]' <  ../Dados/DomCasmurroMachadoAssis.txt |tr -sc '[A-Z]' '[\\012*]' |sort | uniq -c | sort -f | head"
   ]
  },
  {
   "cell_type": "code",
   "execution_count": 480,
   "metadata": {},
   "outputs": [
    {
     "name": "stdout",
     "output_type": "stream",
     "text": [
      "      1 \r\n",
      "  34325 a\r\n",
      "      1 aa\r\n",
      "    245 ae\r\n",
      "    748 ai\r\n",
      "     28 aia\r\n",
      "     46 aio\r\n",
      "      1 aiou\r\n",
      "     27 aiu\r\n",
      "    478 ao\r\n"
     ]
    }
   ],
   "source": [
    "#Encontrando a frequência de sequências de vogais\n",
    "! tr '[A-Z]' '[a-z]' <  ../Dados/DomCasmurroMachadoAssis.txt |tr -sc 'aeiou' '[\\012*]' |sort | uniq -c |head "
   ]
  },
  {
   "cell_type": "code",
   "execution_count": 507,
   "metadata": {},
   "outputs": [
    {
     "name": "stdout",
     "output_type": "stream",
     "text": [
      "\r\n",
      "A\r\n",
      "ACADEMIA\r\n",
      "ACTUAL\r\n",
      "AGREE\r\n",
      "AGREEMENT\r\n",
      "AK\r\n",
      "AND\r\n",
      "ANY\r\n",
      "ANYTHING\r\n",
      "AS\r\n",
      "ASCII\r\n",
      "ASSIS\r\n",
      "Abaixo\r\n",
      "Abane\r\n",
      "Abel\r\n",
      "About\r\n",
      "Abrahão\r\n",
      "Abre\r\n",
      "Abri\r\n",
      "uniq: write error: Broken pipe\r\n"
     ]
    }
   ],
   "source": [
    "#Ordem ascii\n",
    "!cat ../Dados/DomCasmurroMachadoAssis.txt | tr -sc '[A-Z]''[áàâãéêèíôóõúç]''[a-z]' '[\\012*]' | LC_ALL=C sort |uniq | sed 20q"
   ]
  },
  {
   "cell_type": "code",
   "execution_count": 721,
   "metadata": {},
   "outputs": [
    {
     "name": "stdout",
     "output_type": "stream",
     "text": [
      "\r\n",
      "]\r\n",
      "a\r\n",
      "A\r\n",
      "acaba\r\n",
      "saiba\r\n",
      "amba\r\n",
      "emba\r\n",
      "barba\r\n",
      "Corityba\r\n"
     ]
    }
   ],
   "source": [
    "#Ordem de rima\n",
    "!cat ../Dados/DomCasmurroMachadoAssis.txt | tr -sc '[A-Z]''[a-z]' '[\\012*]' |sort |uniq | rev | sort | rev | head "
   ]
  },
  {
   "cell_type": "markdown",
   "metadata": {},
   "source": [
    "2 - Quantas palavras maiúsculas distintas há no texto?"
   ]
  },
  {
   "cell_type": "code",
   "execution_count": 417,
   "metadata": {},
   "outputs": [
    {
     "name": "stdout",
     "output_type": "stream",
     "text": [
      "    345 Capitú\r\n",
      "    315 Não\r\n",
      "    257 A\r\n",
      "    184 O\r\n",
      "    160 José\r\n",
      "    152 Dias\r\n",
      "    144 E\r\n",
      "    111 Escobar\r\n",
      "    101 Mas\r\n",
      "     86 Era\r\n",
      "     84 Gutenberg\r\n",
      "     70 Deus\r\n",
      "     69 Eu\r\n",
      "     57 Bentinho\r\n",
      "     55 Justina\r\n",
      "sort: write failed: 'standard output': Broken pipe\r\n",
      "sort: write error\r\n"
     ]
    }
   ],
   "source": [
    "#Frequência de palavras em maísculo\n",
    "! tr -sc '[A-Z][áàâãéêèíôóõúç][a-z]' '[\\012*]' < ../Dados/DomCasmurroMachadoAssis.txt |sort | grep '^[A-Z]' |uniq -c | sort -nr |sed 15q "
   ]
  },
  {
   "cell_type": "code",
   "execution_count": 704,
   "metadata": {},
   "outputs": [
    {
     "name": "stdout",
     "output_type": "stream",
     "text": [
      "972\r\n",
      "sort: write failed: 'standard output': Broken pipe\r\n",
      "sort: write error\r\n"
     ]
    }
   ],
   "source": [
    "#Quantidade de palavras distintas em maísculo\n",
    "! tr -sc '[a-záàâãéêíôóõúç][A-ZÁÀÃÂÉÊÍÓÔÚÇ]' '[\\012*]' < ../Dados/DomCasmurroMachadoAssis.txt |sort | grep '^[A-ZÁÀÃÂÉÊÍÓÔÚÇ]' |uniq | wc -l "
   ]
  },
  {
   "cell_type": "markdown",
   "metadata": {},
   "source": [
    "3 - Quantas palavras há com apenas uma, com apenas duas, e com apenas 3 vogais?"
   ]
  },
  {
   "cell_type": "code",
   "execution_count": null,
   "metadata": {},
   "outputs": [],
   "source": [
    "#Palavras com apenas uma vogal\n",
    "\n",
    "!tr -sc '[A-Z][áàâãéêèíôóõúç][a-z]' '[\\012*]' < ../Dados/DomCasmurroMachadoAssis.txt | grep -i '^[^aeiouáàâãéêèíôóõú]*[aeiouáàâãéêèíôóõú]\\{1\\}[^aeiouáàâãéêèíôóõú]*$' | sort -f | wc -l"
   ]
  },
  {
   "cell_type": "code",
   "execution_count": 455,
   "metadata": {},
   "outputs": [
    {
     "name": "stdout",
     "output_type": "stream",
     "text": [
      "18180\r\n"
     ]
    }
   ],
   "source": [
    "#Palavras com apenas duas vogais\n",
    "!tr -sc '[A-Z][áàâãéêèíôóõúç][a-z]' '[\\012*]' < ../Dados/DomCasmurroMachadoAssis.txt | grep -i '^[^aeiouáàâãéêèíôóõú]*[aeiouáàâãéêèíôóõú][^aeiouáàâãéêèíôóõú]*[aeiouáàâãéêèíôóõú]$' | sort -f |wc -l  "
   ]
  },
  {
   "cell_type": "code",
   "execution_count": 460,
   "metadata": {},
   "outputs": [
    {
     "name": "stdout",
     "output_type": "stream",
     "text": [
      "9391\r\n"
     ]
    }
   ],
   "source": [
    "#Palavras com apenas três vogais\n",
    "!tr -sc '[A-Z][áàâãéêèíôóõúç][a-z]' '[\\012*]' < ../Dados/DomCasmurroMachadoAssis.txt | grep -i '^[^aeiouáàâãéêèíôóõú]*[aeiouáàâãéêèíôóõú][^aeiouáàâãéêèíôóõú]*[aeiouáàâãéêèíôóõú][^aeiouáàâãéêèíôóõú]*[aeiouáàâãéêèíôóõú]$' | sort -f | wc -l  "
   ]
  },
  {
   "cell_type": "markdown",
   "metadata": {},
   "source": [
    "4 - Qual a sequência de comandos para criar um arquivo com os bigramas e suas contagens?"
   ]
  },
  {
   "cell_type": "code",
   "execution_count": 376,
   "metadata": {},
   "outputs": [],
   "source": [
    "#Comando para encontrar os bigramas incluindo acentuação\n",
    "! cat ../Dados/DomCasmurroMachadoAssis.txt | tr -sc '[A-Z][áàâãéêèíôóõúç][a-z]' '[\\012*]' > ../Dados/DomCasmurro.words\n",
    "! tail -n+2 ../Dados/DomCasmurro.words > ../Dados/DomCasmurro.nextwords"
   ]
  },
  {
   "cell_type": "code",
   "execution_count": 377,
   "metadata": {},
   "outputs": [],
   "source": [
    "#Colocar as palavras num mesmo arquivo juntas e contar os bigramas\n",
    "!paste ../Dados/DomCasmurro.words ../Dados/DomCasmurro.nextwords | sort | uniq -c > ../Dados/DomCasmurro.bigrams"
   ]
  },
  {
   "cell_type": "code",
   "execution_count": 378,
   "metadata": {},
   "outputs": [
    {
     "name": "stdout",
     "output_type": "stream",
     "text": [
      "    187 que\tnão\r\n",
      "    173 que\tme\r\n",
      "    163 é\tque\r\n",
      "    155 o\tque\r\n",
      "    151 José\tDias\r\n",
      "    137 que\teu\r\n",
      "    134 minha\tmãe\r\n",
      "    128 que\ta\r\n",
      "    117 que\to\r\n",
      "    107 e\to\r\n",
      "sort: write failed: 'standard output': Broken pipe\r\n",
      "sort: write error\r\n"
     ]
    }
   ],
   "source": [
    "! cat ../Dados/DomCasmurro.bigrams | sort -nr | head"
   ]
  },
  {
   "cell_type": "markdown",
   "metadata": {},
   "source": [
    "### Parte 3 - Expressões Regulares"
   ]
  },
  {
   "cell_type": "markdown",
   "metadata": {},
   "source": [
    "1 - Repita os exercícios 1 a 4 da parte 2 utilizando Python"
   ]
  },
  {
   "cell_type": "code",
   "execution_count": 541,
   "metadata": {},
   "outputs": [],
   "source": [
    "import string"
   ]
  },
  {
   "cell_type": "markdown",
   "metadata": {},
   "source": [
    "1 - Ordene as palavras do texto nas formas abaixo:\n",
    "\n",
    "+ ordem ascii\n",
    "+ ordem alfabética\n",
    "+ ordem de \"rima\""
   ]
  },
  {
   "cell_type": "code",
   "execution_count": 692,
   "metadata": {},
   "outputs": [],
   "source": [
    "# Ordem alfabética\n",
    "with  open('../Dados/DomCasmurroMachadoAssis.txt', 'r', encoding ='utf-8') as f:\n",
    "    texto = f.read()\n",
    "texto = [p.strip(string.punctuation) for p in texto.split()]\n",
    "texto = [i for i in texto if not i[0:1].isdigit()]\n",
    "#texto = [p.lower() for p in texto]\n",
    "abc = list(set(texto))\n",
    "abcd = sorted(abc)"
   ]
  },
  {
   "cell_type": "code",
   "execution_count": 689,
   "metadata": {},
   "outputs": [],
   "source": [
    "# Ordem ascii\n",
    "asci = sorted(abc, key = ascii)"
   ]
  },
  {
   "cell_type": "code",
   "execution_count": 690,
   "metadata": {},
   "outputs": [],
   "source": [
    "#Ordem de rima\n",
    "rev = [i[-1::-1] for i in texto]\n",
    "rev = list(set(rev))\n",
    "a = sorted(rev)\n",
    "a = [i[-1::-1] for i in a]\n",
    "\n",
    "#Escrevo num arquivo o resultado\n",
    "with open('revrima.txt', 'w') as f:\n",
    "    for item in a:\n",
    "        f.write(\"%s\\n\" % item)"
   ]
  },
  {
   "cell_type": "markdown",
   "metadata": {},
   "source": [
    "Removendo números de uma string\n",
    "\n",
    "+ Fonte : https://stackoverflow.com/questions/12851791/removing-numbers-from-string"
   ]
  },
  {
   "cell_type": "code",
   "execution_count": 649,
   "metadata": {},
   "outputs": [
    {
     "data": {
      "text/plain": [
       "'anaitsirC'"
      ]
     },
     "execution_count": 649,
     "metadata": {},
     "output_type": "execute_result"
    }
   ],
   "source": [
    "exemplo = 'Cristiana'\n",
    "exemplo[:]\n",
    "exemplo[-1::-1]"
   ]
  },
  {
   "cell_type": "markdown",
   "metadata": {},
   "source": [
    "2 - Quantas palavras maiúsculas distintas há no texto?"
   ]
  },
  {
   "cell_type": "code",
   "execution_count": 720,
   "metadata": {
    "scrolled": false
   },
   "outputs": [
    {
     "name": "stdout",
     "output_type": "stream",
     "text": [
      "1230\n",
      "1230\n"
     ]
    }
   ],
   "source": [
    "maiusculas = [p for p in texto if p.istitle()] #Observar se essa é a melhor forma\n",
    "maiusculas = list(set(maiusculas))\n",
    "count = 0\n",
    "for m in maiusculas:\n",
    "    count = count + 1\n",
    "print(count)\n",
    "\n",
    "#Opção de contagem mais simples\n",
    "print(len(maiusculas))"
   ]
  },
  {
   "cell_type": "code",
   "execution_count": 714,
   "metadata": {},
   "outputs": [],
   "source": [
    "#Contagem de vogais\n",
    "\n"
   ]
  },
  {
   "cell_type": "code",
   "execution_count": null,
   "metadata": {},
   "outputs": [],
   "source": []
  },
  {
   "cell_type": "code",
   "execution_count": null,
   "metadata": {},
   "outputs": [],
   "source": []
  },
  {
   "cell_type": "markdown",
   "metadata": {},
   "source": [
    "### Parte 4 - Bancos de dados"
   ]
  },
  {
   "cell_type": "code",
   "execution_count": 530,
   "metadata": {},
   "outputs": [
    {
     "name": "stdout",
     "output_type": "stream",
     "text": [
      "········\n"
     ]
    }
   ],
   "source": [
    "p = getpass.getpass()\n",
    "conn = pymysql.connect(host='127.0.0.1', #localhost\n",
    "                       port=3306, \n",
    "                       user='aluno', \n",
    "                       passwd=p, \n",
    "                       db='SQLExample1')\n",
    "cur = conn.cursor()"
   ]
  },
  {
   "cell_type": "code",
   "execution_count": 531,
   "metadata": {},
   "outputs": [
    {
     "name": "stdout",
     "output_type": "stream",
     "text": [
      "('account',)\n",
      "('branch',)\n",
      "('business',)\n",
      "('customer',)\n",
      "('department',)\n",
      "('employee',)\n",
      "('individual',)\n",
      "('officer',)\n",
      "('product',)\n",
      "('product_type',)\n",
      "('transaction',)\n"
     ]
    }
   ],
   "source": [
    "cur.execute('use SQLExample1;')\n",
    "cur.execute('show tables;')\n",
    "for r in cur.fetchall():\n",
    "    print(r)"
   ]
  },
  {
   "cell_type": "code",
   "execution_count": 532,
   "metadata": {},
   "outputs": [
    {
     "name": "stdout",
     "output_type": "stream",
     "text": [
      "('account_id', 'int(10) unsigned', 'NO', 'PRI', None, 'auto_increment')\n",
      "('product_cd', 'varchar(10)', 'NO', 'MUL', None, '')\n",
      "('cust_id', 'int(10) unsigned', 'NO', 'MUL', None, '')\n",
      "('open_date', 'date', 'NO', '', None, '')\n",
      "('close_date', 'date', 'YES', '', None, '')\n",
      "('last_activity_date', 'date', 'YES', '', None, '')\n",
      "('status', \"enum('ACTIVE','CLOSED','FROZEN')\", 'YES', '', None, '')\n",
      "('open_branch_id', 'smallint(5) unsigned', 'YES', 'MUL', None, '')\n",
      "('open_emp_id', 'smallint(5) unsigned', 'YES', 'MUL', None, '')\n",
      "('avail_balance', 'float(10,2)', 'YES', '', None, '')\n",
      "('pending_balance', 'float(10,2)', 'YES', '', None, '')\n"
     ]
    }
   ],
   "source": [
    "cur.execute('describe account;')\n",
    "for r in cur.fetchall():\n",
    "    print(r)"
   ]
  },
  {
   "cell_type": "code",
   "execution_count": 533,
   "metadata": {},
   "outputs": [
    {
     "name": "stdout",
     "output_type": "stream",
     "text": [
      "(1, 'CHK', 1, datetime.date(2000, 1, 15), None, datetime.date(2005, 1, 4), 'ACTIVE', 2, 10, 1057.75, 1057.75)\n",
      "(2, 'SAV', 1, datetime.date(2000, 1, 15), None, datetime.date(2004, 12, 19), 'ACTIVE', 2, 10, 500.0, 500.0)\n",
      "(3, 'CD', 1, datetime.date(2004, 6, 30), None, datetime.date(2004, 6, 30), 'ACTIVE', 2, 10, 3000.0, 3000.0)\n",
      "(4, 'CHK', 2, datetime.date(2001, 3, 12), None, datetime.date(2004, 12, 27), 'ACTIVE', 2, 10, 2258.02, 2258.02)\n",
      "(5, 'SAV', 2, datetime.date(2001, 3, 12), None, datetime.date(2004, 12, 11), 'ACTIVE', 2, 10, 200.0, 200.0)\n"
     ]
    }
   ],
   "source": [
    "cur.execute('select * from account limit 5;')\n",
    "for r in cur.fetchall():\n",
    "    print(r)"
   ]
  },
  {
   "cell_type": "code",
   "execution_count": 534,
   "metadata": {},
   "outputs": [
    {
     "name": "stdout",
     "output_type": "stream",
     "text": [
      "('product_cd', 'varchar(10)', 'NO', 'PRI', None, '')\n",
      "('name', 'varchar(50)', 'NO', '', None, '')\n",
      "('product_type_cd', 'varchar(10)', 'NO', 'MUL', None, '')\n",
      "('date_offered', 'date', 'YES', '', None, '')\n",
      "('date_retired', 'date', 'YES', '', None, '')\n"
     ]
    }
   ],
   "source": [
    "cur.execute('describe product;')\n",
    "for r in cur.fetchall():\n",
    "    print(r)"
   ]
  },
  {
   "cell_type": "code",
   "execution_count": 535,
   "metadata": {},
   "outputs": [
    {
     "name": "stdout",
     "output_type": "stream",
     "text": [
      "('AUT', 'auto loan', 'LOAN', datetime.date(2000, 1, 1), None)\n",
      "('BUS', 'business line of credit', 'LOAN', datetime.date(2000, 1, 1), None)\n",
      "('CD', 'certificate of deposit', 'ACCOUNT', datetime.date(2000, 1, 1), None)\n",
      "('CHK', 'checking account', 'ACCOUNT', datetime.date(2000, 1, 1), None)\n",
      "('MM', 'money market account', 'ACCOUNT', datetime.date(2000, 1, 1), None)\n",
      "('MRT', 'home mortgage', 'LOAN', datetime.date(2000, 1, 1), None)\n",
      "('SAV', 'savings account', 'ACCOUNT', datetime.date(2000, 1, 1), None)\n",
      "('SBL', 'small business loan', 'LOAN', datetime.date(2000, 1, 1), None)\n"
     ]
    }
   ],
   "source": [
    "cur.execute('select * from product;')\n",
    "for r in cur.fetchall():\n",
    "    print(r)"
   ]
  },
  {
   "cell_type": "code",
   "execution_count": 536,
   "metadata": {},
   "outputs": [
    {
     "name": "stdout",
     "output_type": "stream",
     "text": [
      "('product_type_cd', 'varchar(10)', 'NO', 'PRI', None, '')\n",
      "('name', 'varchar(50)', 'NO', '', None, '')\n"
     ]
    }
   ],
   "source": [
    "\n",
    "cur.execute('describe product_type;')\n",
    "for r in cur.fetchall():\n",
    "    print(r)"
   ]
  },
  {
   "cell_type": "code",
   "execution_count": 537,
   "metadata": {},
   "outputs": [
    {
     "name": "stdout",
     "output_type": "stream",
     "text": [
      "('ACCOUNT', 'Customer Accounts')\n",
      "('INSURANCE', 'Insurance Offerings')\n",
      "('LOAN', 'Individual and Business Loans')\n"
     ]
    }
   ],
   "source": [
    "cur.execute('select * from product_type;')\n",
    "for r in cur.fetchall():\n",
    "    print(r)"
   ]
  },
  {
   "cell_type": "code",
   "execution_count": 18,
   "metadata": {},
   "outputs": [
    {
     "name": "stdout",
     "output_type": "stream",
     "text": [
      "('emp_id', 'smallint(5) unsigned', 'NO', 'PRI', None, 'auto_increment')\n",
      "('fname', 'varchar(20)', 'NO', '', None, '')\n",
      "('lname', 'varchar(20)', 'NO', '', None, '')\n",
      "('start_date', 'date', 'NO', '', None, '')\n",
      "('end_date', 'date', 'YES', '', None, '')\n",
      "('superior_emp_id', 'smallint(5) unsigned', 'YES', 'MUL', None, '')\n",
      "('dept_id', 'smallint(5) unsigned', 'YES', 'MUL', None, '')\n",
      "('title', 'varchar(20)', 'YES', '', None, '')\n",
      "('assigned_branch_id', 'smallint(5) unsigned', 'YES', 'MUL', None, '')\n"
     ]
    }
   ],
   "source": [
    "cur.execute('describe employee;')\n",
    "for r in cur.fetchall():\n",
    "    print(r)"
   ]
  },
  {
   "cell_type": "code",
   "execution_count": 19,
   "metadata": {},
   "outputs": [
    {
     "name": "stdout",
     "output_type": "stream",
     "text": [
      "(1, 'Michael', 'Smith', datetime.date(2001, 6, 22), None, None, 3, 'President', 1)\n",
      "(2, 'Susan', 'Barker', datetime.date(2002, 9, 12), None, 1, 3, 'Vice President', 1)\n",
      "(3, 'Robert', 'Tyler', datetime.date(2000, 2, 9), None, 1, 3, 'Treasurer', 1)\n",
      "(4, 'Susan', 'Hawthorne', datetime.date(2002, 4, 24), None, 3, 1, 'Operations Manager', 1)\n",
      "(5, 'John', 'Gooding', datetime.date(2003, 11, 14), None, 4, 2, 'Loan Manager', 1)\n",
      "(6, 'Helen', 'Fleming', datetime.date(2004, 3, 17), None, 4, 1, 'Head Teller', 1)\n",
      "(7, 'Chris', 'Tucker', datetime.date(2004, 9, 15), None, 6, 1, 'Teller', 1)\n",
      "(8, 'Sarah', 'Parker', datetime.date(2002, 12, 2), None, 6, 1, 'Teller', 1)\n",
      "(9, 'Jane', 'Grossman', datetime.date(2002, 5, 3), None, 6, 1, 'Teller', 1)\n",
      "(10, 'Paula', 'Roberts', datetime.date(2002, 7, 27), None, 4, 1, 'Head Teller', 2)\n"
     ]
    }
   ],
   "source": [
    "cur.execute('select * from employee limit 10;')\n",
    "for r in cur.fetchall():\n",
    "    print(r)"
   ]
  },
  {
   "cell_type": "markdown",
   "metadata": {},
   "source": [
    "1 - Na tabela \"account\", quais os valores médio, mínimo e máximo de \"avail_balance\"?"
   ]
  },
  {
   "cell_type": "code",
   "execution_count": 35,
   "metadata": {},
   "outputs": [
    {
     "name": "stdout",
     "output_type": "stream",
     "text": [
      "(50000.0, 0.0, 7114.769138)\n"
     ]
    }
   ],
   "source": [
    "sqlcomando= \" \" \" select max(avail_balance), min(avail_balance), avg(avail_balance) from account;\" \" \"\n",
    "cur.execute(sqlcomando)\n",
    "for r in cur.fetchall():\n",
    "    print(r)"
   ]
  },
  {
   "cell_type": "markdown",
   "metadata": {},
   "source": [
    "2 - Quais registros na tabela \"account\" estão acima da média de \"avail_balance\"?"
   ]
  },
  {
   "cell_type": "code",
   "execution_count": 36,
   "metadata": {},
   "outputs": [
    {
     "name": "stdout",
     "output_type": "stream",
     "text": [
      "(15, 'CD', 6, datetime.date(2004, 12, 28), None, datetime.date(2004, 12, 28), 'ACTIVE', 1, 1, 10000.0, 10000.0)\n",
      "(22, 'MM', 9, datetime.date(2004, 10, 28), None, datetime.date(2004, 10, 28), 'ACTIVE', 1, 1, 9345.55, 9845.55)\n",
      "(24, 'CHK', 10, datetime.date(2002, 9, 30), None, datetime.date(2004, 12, 15), 'ACTIVE', 4, 16, 23575.12, 23575.12)\n",
      "(27, 'BUS', 11, datetime.date(2004, 3, 22), None, datetime.date(2004, 11, 14), 'ACTIVE', 2, 10, 9345.55, 9345.55)\n",
      "(28, 'CHK', 12, datetime.date(2003, 7, 30), None, datetime.date(2004, 12, 15), 'ACTIVE', 4, 16, 38552.05, 38552.05)\n",
      "(29, 'SBL', 13, datetime.date(2004, 2, 22), None, datetime.date(2004, 12, 17), 'ACTIVE', 3, 13, 50000.0, 50000.0)\n"
     ]
    }
   ],
   "source": [
    "sqlcomando = \"\" \" select * from account where avail_balance > (select avg(avail_balance) from account) \"\"\"\n",
    "cur.execute(sqlcomando)\n",
    "for r in cur.fetchall():\n",
    "    print(r)"
   ]
  },
  {
   "cell_type": "markdown",
   "metadata": {},
   "source": [
    "3 - Na tabela \"account\", quais as 3 datas mais recentes e as 3 datas mais antigas (\"open_date\")?"
   ]
  },
  {
   "cell_type": "code",
   "execution_count": 37,
   "metadata": {
    "scrolled": true
   },
   "outputs": [
    {
     "name": "stdout",
     "output_type": "stream",
     "text": [
      "(1, 'CHK', 1, datetime.date(2000, 1, 15), None, datetime.date(2005, 1, 4), 'ACTIVE', 2, 10, 1057.75, 1057.75)\n",
      "(2, 'SAV', 1, datetime.date(2000, 1, 15), None, datetime.date(2004, 12, 19), 'ACTIVE', 2, 10, 500.0, 500.0)\n",
      "(11, 'SAV', 4, datetime.date(2000, 1, 15), None, datetime.date(2004, 10, 24), 'ACTIVE', 1, 1, 767.77, 767.77)\n",
      "(15, 'CD', 6, datetime.date(2004, 12, 28), None, datetime.date(2004, 12, 28), 'ACTIVE', 1, 1, 10000.0, 10000.0)\n",
      "(22, 'MM', 9, datetime.date(2004, 10, 28), None, datetime.date(2004, 10, 28), 'ACTIVE', 1, 1, 9345.55, 9845.55)\n",
      "(12, 'MM', 4, datetime.date(2004, 9, 30), None, datetime.date(2004, 11, 11), 'ACTIVE', 1, 1, 5487.09, 5487.09)\n"
     ]
    }
   ],
   "source": [
    "sqlcomando = \"\"\" (select * from account order by open_date limit 3)\n",
    "UNION ALL\n",
    "(select * from account order by open_date desc limit 3);\"\"\"\n",
    "cur.execute(sqlcomando)\n",
    "for r in cur.fetchall():\n",
    "    print(r)"
   ]
  },
  {
   "cell_type": "markdown",
   "metadata": {},
   "source": [
    "4 - Para cada elemento na tabela \"product\", exiba o nome completo do \"product_type_cd\" (tabela \"product_type\")"
   ]
  },
  {
   "cell_type": "code",
   "execution_count": 10,
   "metadata": {},
   "outputs": [
    {
     "name": "stdout",
     "output_type": "stream",
     "text": [
      "('AUT', 'auto loan', 'LOAN', datetime.date(2000, 1, 1), None, 'LOAN', 'Individual and Business Loans')\n",
      "('BUS', 'business line of credit', 'LOAN', datetime.date(2000, 1, 1), None, 'LOAN', 'Individual and Business Loans')\n",
      "('CD', 'certificate of deposit', 'ACCOUNT', datetime.date(2000, 1, 1), None, 'ACCOUNT', 'Customer Accounts')\n",
      "('CHK', 'checking account', 'ACCOUNT', datetime.date(2000, 1, 1), None, 'ACCOUNT', 'Customer Accounts')\n",
      "('MM', 'money market account', 'ACCOUNT', datetime.date(2000, 1, 1), None, 'ACCOUNT', 'Customer Accounts')\n",
      "('MRT', 'home mortgage', 'LOAN', datetime.date(2000, 1, 1), None, 'LOAN', 'Individual and Business Loans')\n",
      "('SAV', 'savings account', 'ACCOUNT', datetime.date(2000, 1, 1), None, 'ACCOUNT', 'Customer Accounts')\n",
      "('SBL', 'small business loan', 'LOAN', datetime.date(2000, 1, 1), None, 'LOAN', 'Individual and Business Loans')\n"
     ]
    }
   ],
   "source": [
    "sqlcomando = \"\"\" select * from product\n",
    "join product_type as p\n",
    "on product.product_type_cd = p.product_type_cd\"\"\"\n",
    "cur.execute(sqlcomando)\n",
    "for r in cur.fetchall():\n",
    "    print(r)"
   ]
  },
  {
   "cell_type": "code",
   "execution_count": 5,
   "metadata": {},
   "outputs": [
    {
     "name": "stdout",
     "output_type": "stream",
     "text": [
      "('product_cd', 'varchar(10)', 'NO', 'PRI', None, '')\n",
      "('name', 'varchar(50)', 'NO', '', None, '')\n",
      "('product_type_cd', 'varchar(10)', 'NO', 'MUL', None, '')\n",
      "('date_offered', 'date', 'YES', '', None, '')\n",
      "('date_retired', 'date', 'YES', '', None, '')\n"
     ]
    }
   ],
   "source": [
    "cur.execute('describe product;')\n",
    "for r in cur.fetchall():\n",
    "    print(r)"
   ]
  },
  {
   "cell_type": "markdown",
   "metadata": {},
   "source": [
    "5 - Quantos empregados (\"employee\") possuem a letra \"e\" em seus nomes? E quantos tem sobrenomes que terminam com \"r\"? "
   ]
  },
  {
   "cell_type": "code",
   "execution_count": 20,
   "metadata": {},
   "outputs": [
    {
     "name": "stdout",
     "output_type": "stream",
     "text": [
      "(1, 'Michael', 'Smith', datetime.date(2001, 6, 22), None, None, 3, 'President', 1)\n",
      "(3, 'Robert', 'Tyler', datetime.date(2000, 2, 9), None, 1, 3, 'Treasurer', 1)\n",
      "(6, 'Helen', 'Fleming', datetime.date(2004, 3, 17), None, 4, 1, 'Head Teller', 1)\n",
      "(9, 'Jane', 'Grossman', datetime.date(2002, 5, 3), None, 6, 1, 'Teller', 1)\n",
      "(16, 'Theresa', 'Markham', datetime.date(2001, 3, 15), None, 4, 1, 'Head Teller', 4)\n",
      "(17, 'Beth', 'Fowler', datetime.date(2002, 6, 29), None, 16, 1, 'Teller', 4)\n"
     ]
    }
   ],
   "source": [
    "sqlcomando = \"\"\" select * from employee where fname like '%e%' \"\"\"\n",
    "cur.execute(sqlcomando)\n",
    "for r in cur.fetchall():\n",
    "    print(r)"
   ]
  },
  {
   "cell_type": "code",
   "execution_count": 23,
   "metadata": {},
   "outputs": [
    {
     "name": "stdout",
     "output_type": "stream",
     "text": [
      "(2, 'Susan', 'Barker', datetime.date(2002, 9, 12), None, 1, 3, 'Vice President', 1)\n",
      "(3, 'Robert', 'Tyler', datetime.date(2000, 2, 9), None, 1, 3, 'Treasurer', 1)\n",
      "(7, 'Chris', 'Tucker', datetime.date(2004, 9, 15), None, 6, 1, 'Teller', 1)\n",
      "(8, 'Sarah', 'Parker', datetime.date(2002, 12, 2), None, 6, 1, 'Teller', 1)\n",
      "(11, 'Thomas', 'Ziegler', datetime.date(2000, 10, 23), None, 10, 1, 'Teller', 2)\n",
      "(17, 'Beth', 'Fowler', datetime.date(2002, 6, 29), None, 16, 1, 'Teller', 4)\n"
     ]
    }
   ],
   "source": [
    "sqlcomando = \"\"\" select * from employee where lname like '%r' \"\"\"\n",
    "cur.execute(sqlcomando)\n",
    "for r in cur.fetchall():\n",
    "    print(r)"
   ]
  },
  {
   "cell_type": "code",
   "execution_count": 15,
   "metadata": {},
   "outputs": [
    {
     "name": "stdout",
     "output_type": "stream",
     "text": [
      "('emp_id', 'smallint(5) unsigned', 'NO', 'PRI', None, 'auto_increment')\n",
      "('fname', 'varchar(20)', 'NO', '', None, '')\n",
      "('lname', 'varchar(20)', 'NO', '', None, '')\n",
      "('start_date', 'date', 'NO', '', None, '')\n",
      "('end_date', 'date', 'YES', '', None, '')\n",
      "('superior_emp_id', 'smallint(5) unsigned', 'YES', 'MUL', None, '')\n",
      "('dept_id', 'smallint(5) unsigned', 'YES', 'MUL', None, '')\n",
      "('title', 'varchar(20)', 'YES', '', None, '')\n",
      "('assigned_branch_id', 'smallint(5) unsigned', 'YES', 'MUL', None, '')\n"
     ]
    }
   ],
   "source": [
    "cur.execute('describe employee;')\n",
    "for r in cur.fetchall():\n",
    "    print(r)"
   ]
  },
  {
   "cell_type": "markdown",
   "metadata": {},
   "source": [
    "6 - Quais são os títulos (\"title\") possíveis para os empregados (\"employees\")? "
   ]
  },
  {
   "cell_type": "code",
   "execution_count": 28,
   "metadata": {},
   "outputs": [
    {
     "name": "stdout",
     "output_type": "stream",
     "text": [
      "('President',)\n",
      "('Vice President',)\n",
      "('Treasurer',)\n",
      "('Operations Manager',)\n",
      "('Loan Manager',)\n",
      "('Head Teller',)\n",
      "('Teller',)\n"
     ]
    }
   ],
   "source": [
    "sqlcomando = \"\"\" select distinct title from employee \"\"\"\n",
    "cur.execute(sqlcomando)\n",
    "for r in cur.fetchall():\n",
    "    print(r)"
   ]
  },
  {
   "cell_type": "markdown",
   "metadata": {},
   "source": [
    "7 - Quantos empregados (\"employees\") estão a exatamente dois níveis abaixo do presidente? "
   ]
  },
  {
   "cell_type": "code",
   "execution_count": 32,
   "metadata": {},
   "outputs": [
    {
     "name": "stdout",
     "output_type": "stream",
     "text": [
      "(4, 'Susan', 'Hawthorne', datetime.date(2002, 4, 24), None, 3, 1, 'Operations Manager', 1)\n"
     ]
    }
   ],
   "source": [
    "sqlcomando = \"\"\" select * from employee WHERE title = 'Operations Manager' \"\"\"\n",
    "cur.execute(sqlcomando)\n",
    "for r in cur.fetchall():\n",
    "    print(r)"
   ]
  },
  {
   "cell_type": "code",
   "execution_count": 38,
   "metadata": {},
   "outputs": [
    {
     "name": "stdout",
     "output_type": "stream",
     "text": [
      "(4, 'Susan', 'Hawthorne', datetime.date(2002, 4, 24), None, 3, 1, 'Operations Manager', 1)\n"
     ]
    }
   ],
   "source": [
    "#Outro jeito de fazer, menos na mão\n",
    "sqlcomando = \"\"\" select * from employee WHERE superior_emp_id IN (SELECT emp_id FROM employee WHERE superior_emp_id = 1) \"\"\"\n",
    "cur.execute(sqlcomando)\n",
    "for r in cur.fetchall():\n",
    "    print(r)"
   ]
  },
  {
   "cell_type": "markdown",
   "metadata": {},
   "source": [
    "8 - Na tabela \"account\", quais os valores médio, mínimo e máximo de \"avail_balance\" por tipo de 'product_cd' ?"
   ]
  },
  {
   "cell_type": "code",
   "execution_count": 39,
   "metadata": {},
   "outputs": [
    {
     "name": "stdout",
     "output_type": "stream",
     "text": [
      "('account_id', 'int(10) unsigned', 'NO', 'PRI', None, 'auto_increment')\n",
      "('product_cd', 'varchar(10)', 'NO', 'MUL', None, '')\n",
      "('cust_id', 'int(10) unsigned', 'NO', 'MUL', None, '')\n",
      "('open_date', 'date', 'NO', '', None, '')\n",
      "('close_date', 'date', 'YES', '', None, '')\n",
      "('last_activity_date', 'date', 'YES', '', None, '')\n",
      "('status', \"enum('ACTIVE','CLOSED','FROZEN')\", 'YES', '', None, '')\n",
      "('open_branch_id', 'smallint(5) unsigned', 'YES', 'MUL', None, '')\n",
      "('open_emp_id', 'smallint(5) unsigned', 'YES', 'MUL', None, '')\n",
      "('avail_balance', 'float(10,2)', 'YES', '', None, '')\n",
      "('pending_balance', 'float(10,2)', 'YES', '', None, '')\n"
     ]
    }
   ],
   "source": [
    "cur.execute('describe account;')\n",
    "for r in cur.fetchall():\n",
    "    print(r)"
   ]
  },
  {
   "cell_type": "code",
   "execution_count": 40,
   "metadata": {},
   "outputs": [
    {
     "name": "stdout",
     "output_type": "stream",
     "text": [
      "(1, 'CHK', 1, datetime.date(2000, 1, 15), None, datetime.date(2005, 1, 4), 'ACTIVE', 2, 10, 1057.75, 1057.75)\n",
      "(2, 'SAV', 1, datetime.date(2000, 1, 15), None, datetime.date(2004, 12, 19), 'ACTIVE', 2, 10, 500.0, 500.0)\n",
      "(3, 'CD', 1, datetime.date(2004, 6, 30), None, datetime.date(2004, 6, 30), 'ACTIVE', 2, 10, 3000.0, 3000.0)\n",
      "(4, 'CHK', 2, datetime.date(2001, 3, 12), None, datetime.date(2004, 12, 27), 'ACTIVE', 2, 10, 2258.02, 2258.02)\n",
      "(5, 'SAV', 2, datetime.date(2001, 3, 12), None, datetime.date(2004, 12, 11), 'ACTIVE', 2, 10, 200.0, 200.0)\n"
     ]
    }
   ],
   "source": [
    "cur.execute('select * from account limit 5;')\n",
    "for r in cur.fetchall():\n",
    "    print(r)"
   ]
  },
  {
   "cell_type": "code",
   "execution_count": 538,
   "metadata": {},
   "outputs": [
    {
     "name": "stdout",
     "output_type": "stream",
     "text": [
      "('BUS', 4672.774902, 0.0, 9345.55)\n",
      "('CD', 4875.0, 1500.0, 10000.0)\n",
      "('CHK', 7300.800985, 122.37, 38552.05)\n",
      "('MM', 5681.713216, 2212.5, 9345.55)\n",
      "('SAV', 463.940002, 200.0, 767.77)\n",
      "('SBL', 50000.0, 50000.0, 50000.0)\n"
     ]
    }
   ],
   "source": [
    "sqlcomando = \"\"\" \n",
    "SELECT product_cd, AVG(avail_balance), MIN(avail_balance), max(avail_balance) FROM account GROUP BY product_cd\n",
    "\"\"\"\n",
    "cur.execute(sqlcomando)\n",
    "for r in cur.fetchall():\n",
    "    print(r)"
   ]
  },
  {
   "cell_type": "markdown",
   "metadata": {},
   "source": [
    "9 - Na tabela \"transaction\", há quantos registros por ano (\"txn_date\")?"
   ]
  },
  {
   "cell_type": "code",
   "execution_count": 539,
   "metadata": {},
   "outputs": [
    {
     "name": "stdout",
     "output_type": "stream",
     "text": [
      "(3, 2000)\n",
      "(4, 2001)\n",
      "(4, 2002)\n",
      "(3, 2003)\n",
      "(7, 2004)\n"
     ]
    }
   ],
   "source": [
    "sqlcomando = \"\"\" \n",
    "SELECT count(*), year(txn_date) FROM transaction\n",
    "group by year(txn_date)\n",
    "\n",
    "\"\"\"\n",
    "cur.execute(sqlcomando)\n",
    "for r in cur.fetchall():\n",
    "    print(r)"
   ]
  },
  {
   "cell_type": "code",
   "execution_count": 50,
   "metadata": {},
   "outputs": [
    {
     "name": "stdout",
     "output_type": "stream",
     "text": [
      "('txn_id', 'int(10) unsigned', 'NO', 'PRI', None, 'auto_increment')\n",
      "('txn_date', 'datetime', 'NO', '', None, '')\n",
      "('account_id', 'int(10) unsigned', 'NO', 'MUL', None, '')\n",
      "('txn_type_cd', \"enum('DBT','CDT')\", 'YES', '', None, '')\n",
      "('amount', 'double(10,2)', 'NO', '', None, '')\n",
      "('teller_emp_id', 'smallint(5) unsigned', 'YES', 'MUL', None, '')\n",
      "('execution_branch_id', 'smallint(5) unsigned', 'YES', 'MUL', None, '')\n",
      "('funds_avail_date', 'datetime', 'YES', '', None, '')\n"
     ]
    }
   ],
   "source": [
    "cur.execute('describe transaction;')\n",
    "for r in cur.fetchall():\n",
    "    print(r)"
   ]
  },
  {
   "cell_type": "markdown",
   "metadata": {},
   "source": [
    "10 - Você é dono de uma loja de automóveis. Crie tabelas no banco \"Alunos\" para representar os carros de seu pátio, os modelos de automóveis, os clientes e as compras realizadas. "
   ]
  },
  {
   "cell_type": "code",
   "execution_count": 59,
   "metadata": {},
   "outputs": [],
   "source": [
    "#Comando de criar tabelas foi negado"
   ]
  },
  {
   "cell_type": "markdown",
   "metadata": {},
   "source": [
    "11 - Crie uma lista no Python com todos os nomes e sobrenomes em strings únicas, a partir da tabela \"individual\"  "
   ]
  },
  {
   "cell_type": "code",
   "execution_count": 61,
   "metadata": {},
   "outputs": [
    {
     "name": "stdout",
     "output_type": "stream",
     "text": [
      "('cust_id', 'int(10) unsigned', 'NO', 'PRI', None, '')\n",
      "('fname', 'varchar(30)', 'NO', '', None, '')\n",
      "('lname', 'varchar(30)', 'NO', '', None, '')\n",
      "('birth_date', 'date', 'YES', '', None, '')\n"
     ]
    }
   ],
   "source": [
    "cur.execute('describe individual;')\n",
    "for r in cur.fetchall():\n",
    "    print(r)"
   ]
  },
  {
   "cell_type": "code",
   "execution_count": 68,
   "metadata": {},
   "outputs": [
    {
     "name": "stdout",
     "output_type": "stream",
     "text": [
      "(1, 'James', 'Hadley', datetime.date(1972, 4, 22))\n",
      "(2, 'Susan', 'Tingley', datetime.date(1968, 8, 15))\n",
      "(3, 'Frank', 'Tucker', datetime.date(1958, 2, 6))\n",
      "(4, 'John', 'Hayward', datetime.date(1966, 12, 22))\n",
      "(5, 'Charles', 'Frasier', datetime.date(1971, 8, 25))\n",
      "(6, 'John', 'Spencer', datetime.date(1962, 9, 14))\n",
      "(7, 'Margaret', 'Young', datetime.date(1947, 3, 19))\n",
      "(8, 'Louis', 'Blake', datetime.date(1977, 7, 1))\n",
      "(9, 'Richard', 'Farley', datetime.date(1968, 6, 16))\n"
     ]
    }
   ],
   "source": [
    "cur.execute('select * from individual;')\n",
    "for r in cur.fetchall():\n",
    "    print(r)\n"
   ]
  },
  {
   "cell_type": "code",
   "execution_count": 78,
   "metadata": {},
   "outputs": [
    {
     "name": "stdout",
     "output_type": "stream",
     "text": [
      "[['James', 'Hadley'], ['Susan', 'Tingley'], ['Frank', 'Tucker'], ['John', 'Hayward'], ['Charles', 'Frasier'], ['John', 'Spencer'], ['Margaret', 'Young'], ['Louis', 'Blake'], ['Richard', 'Farley']]\n"
     ]
    }
   ],
   "source": [
    "sqlcomando = \"\"\" \n",
    "SELECT fname,lname FROM individual\n",
    "\n",
    "\"\"\"\n",
    "cur.execute(sqlcomando)\n",
    "\n",
    "result = cur.fetchall() \n",
    "\n",
    "final_result = [list(i) for i in result]\n",
    "\n",
    "print(final_result)"
   ]
  },
  {
   "cell_type": "code",
   "execution_count": 106,
   "metadata": {},
   "outputs": [
    {
     "name": "stdout",
     "output_type": "stream",
     "text": [
      "[['James Hadley'], ['Susan Tingley'], ['Frank Tucker'], ['John Hayward'], ['Charles Frasier'], ['John Spencer'], ['Margaret Young'], ['Louis Blake'], ['Richard Farley']]\n"
     ]
    }
   ],
   "source": [
    "sqlcomando = \"\"\" \n",
    "select concat(individual.fname, ' ', i.lname)\n",
    "  from individual\n",
    "    inner join individual as i\n",
    "      on individual.cust_id = i.cust_id\n",
    "\"\"\"\n",
    "\n",
    "cur.execute(sqlcomando)\n",
    "\n",
    "result = cur.fetchall() \n",
    "\n",
    "final_result = [list(i) for i in result]\n",
    "\n",
    "print(final_result)"
   ]
  },
  {
   "cell_type": "code",
   "execution_count": 129,
   "metadata": {},
   "outputs": [
    {
     "name": "stdout",
     "output_type": "stream",
     "text": [
      "['James Hadley', 'Susan Tingley', 'Frank Tucker', 'John Hayward', 'Charles Frasier', 'John Spencer', 'Margaret Young', 'Louis Blake', 'Richard Farley']\n"
     ]
    }
   ],
   "source": [
    "sqlcomando = \"\"\" \n",
    "select concat(individual.fname, ' ', i.lname)\n",
    "  from individual\n",
    "    inner join individual as i\n",
    "      on individual.cust_id = i.cust_id\n",
    "\"\"\"\n",
    "\n",
    "cur.execute(sqlcomando)\n",
    "a = []\n",
    "for i in cur.fetchall() :\n",
    "        a.append('{}'.format(i[0]))\n",
    "print(a)"
   ]
  },
  {
   "cell_type": "code",
   "execution_count": 103,
   "metadata": {},
   "outputs": [
    {
     "name": "stdout",
     "output_type": "stream",
     "text": [
      "['James Hadley', 'Susan Tingley', 'Frank Tucker', 'John Hayward', 'Charles Frasier', 'John Spencer', 'Margaret Young', 'Louis Blake', 'Richard Farley']\n"
     ]
    }
   ],
   "source": [
    "q1 = '''select fname, lname from individual;'''\n",
    "l = []\n",
    "\n",
    "cur.execute(q1)\n",
    "for r in cur.fetchall():\n",
    "    l.append('{} {}'.format(r[0],r[1]))\n",
    "print(l)"
   ]
  },
  {
   "cell_type": "markdown",
   "metadata": {},
   "source": [
    "12 - A partir da tabela \"individual\", crie um dicionário no Python tendo os nomes e sobrenomes em strings únicas como chaves e os anos das datas como valores."
   ]
  },
  {
   "cell_type": "code",
   "execution_count": 139,
   "metadata": {},
   "outputs": [
    {
     "name": "stdout",
     "output_type": "stream",
     "text": [
      "['1972', '1968', '1958', '1966', '1971', '1962', '1947', '1977', '1968']\n",
      "['James Hadley', 'Susan Tingley', 'Frank Tucker', 'John Hayward', 'Charles Frasier', 'John Spencer', 'Margaret Young', 'Louis Blake', 'Richard Farley']\n"
     ]
    }
   ],
   "source": [
    "sqlcomando = \"\"\" \n",
    "select year(birth_date) from individual\n",
    "\"\"\"\n",
    "\n",
    "cur.execute(sqlcomando)\n",
    "b = []\n",
    "for i in cur.fetchall() :\n",
    "        b.append('{}'.format(i[0]))\n",
    "print(b)\n",
    "   \n",
    "print(a)"
   ]
  },
  {
   "cell_type": "code",
   "execution_count": 141,
   "metadata": {},
   "outputs": [
    {
     "data": {
      "text/plain": [
       "{'Charles Frasier': '1971',\n",
       " 'Frank Tucker': '1958',\n",
       " 'James Hadley': '1972',\n",
       " 'John Hayward': '1966',\n",
       " 'John Spencer': '1962',\n",
       " 'Louis Blake': '1977',\n",
       " 'Margaret Young': '1947',\n",
       " 'Richard Farley': '1968',\n",
       " 'Susan Tingley': '1968'}"
      ]
     },
     "execution_count": 141,
     "metadata": {},
     "output_type": "execute_result"
    }
   ],
   "source": [
    "dict(zip(a, b)) #Criei um dicionario com o zip"
   ]
  },
  {
   "cell_type": "markdown",
   "metadata": {},
   "source": [
    "13 - Utilizando Python, crie um banco de dados no sqlite que guarde a seguinte estrutura, demonstrada no dataframe do Pandas:  \n",
    "Use os tipos de dados mais adequados.  \n",
    "\n",
    "Veja:  \n",
    "https://sqlite.org/datatype3.html    \n",
    "https://sqlite.org/autoinc.html  \n",
    "https://www.tutorialspoint.com/sqlite/sqlite_update_query.htm  "
   ]
  },
  {
   "cell_type": "code",
   "execution_count": 5,
   "metadata": {},
   "outputs": [
    {
     "data": {
      "text/html": [
       "<div>\n",
       "<style scoped>\n",
       "    .dataframe tbody tr th:only-of-type {\n",
       "        vertical-align: middle;\n",
       "    }\n",
       "\n",
       "    .dataframe tbody tr th {\n",
       "        vertical-align: top;\n",
       "    }\n",
       "\n",
       "    .dataframe thead th {\n",
       "        text-align: right;\n",
       "    }\n",
       "</style>\n",
       "<table border=\"1\" class=\"dataframe\">\n",
       "  <thead>\n",
       "    <tr style=\"text-align: right;\">\n",
       "      <th></th>\n",
       "      <th>Gender</th>\n",
       "      <th>Age</th>\n",
       "      <th>Salary before Stern</th>\n",
       "      <th>Expected salary</th>\n",
       "      <th>Candidate</th>\n",
       "    </tr>\n",
       "    <tr>\n",
       "      <th>id</th>\n",
       "      <th></th>\n",
       "      <th></th>\n",
       "      <th></th>\n",
       "      <th></th>\n",
       "      <th></th>\n",
       "    </tr>\n",
       "  </thead>\n",
       "  <tbody>\n",
       "    <tr>\n",
       "      <th>0</th>\n",
       "      <td>Male</td>\n",
       "      <td>27</td>\n",
       "      <td>60000</td>\n",
       "      <td>110000</td>\n",
       "      <td>Bush</td>\n",
       "    </tr>\n",
       "    <tr>\n",
       "      <th>1</th>\n",
       "      <td>Male</td>\n",
       "      <td>30</td>\n",
       "      <td>125000</td>\n",
       "      <td>125000</td>\n",
       "      <td>Bush</td>\n",
       "    </tr>\n",
       "    <tr>\n",
       "      <th>2</th>\n",
       "      <td>Male</td>\n",
       "      <td>27</td>\n",
       "      <td>50000</td>\n",
       "      <td>120000</td>\n",
       "      <td>Bush</td>\n",
       "    </tr>\n",
       "    <tr>\n",
       "      <th>3</th>\n",
       "      <td>Male</td>\n",
       "      <td>26</td>\n",
       "      <td>56000</td>\n",
       "      <td>100000</td>\n",
       "      <td>Bush</td>\n",
       "    </tr>\n",
       "    <tr>\n",
       "      <th>4</th>\n",
       "      <td>Male</td>\n",
       "      <td>27</td>\n",
       "      <td>82000</td>\n",
       "      <td>100000</td>\n",
       "      <td>Bush</td>\n",
       "    </tr>\n",
       "    <tr>\n",
       "      <th>5</th>\n",
       "      <td>Male</td>\n",
       "      <td>32</td>\n",
       "      <td>150000</td>\n",
       "      <td>150000</td>\n",
       "      <td>Bush</td>\n",
       "    </tr>\n",
       "    <tr>\n",
       "      <th>6</th>\n",
       "      <td>Female</td>\n",
       "      <td>24</td>\n",
       "      <td>55000</td>\n",
       "      <td>100000</td>\n",
       "      <td>Bush</td>\n",
       "    </tr>\n",
       "    <tr>\n",
       "      <th>7</th>\n",
       "      <td>Male</td>\n",
       "      <td>30</td>\n",
       "      <td>110000</td>\n",
       "      <td>150000</td>\n",
       "      <td>Bush</td>\n",
       "    </tr>\n",
       "    <tr>\n",
       "      <th>8</th>\n",
       "      <td>Male</td>\n",
       "      <td>26</td>\n",
       "      <td>48000</td>\n",
       "      <td>80000</td>\n",
       "      <td>Bush</td>\n",
       "    </tr>\n",
       "    <tr>\n",
       "      <th>9</th>\n",
       "      <td>Male</td>\n",
       "      <td>26</td>\n",
       "      <td>120000</td>\n",
       "      <td>80000</td>\n",
       "      <td>Bush</td>\n",
       "    </tr>\n",
       "  </tbody>\n",
       "</table>\n",
       "</div>"
      ],
      "text/plain": [
       "    Gender  Age  Salary before Stern  Expected salary Candidate\n",
       "id                                                             \n",
       "0     Male   27                60000           110000      Bush\n",
       "1     Male   30               125000           125000      Bush\n",
       "2     Male   27                50000           120000      Bush\n",
       "3     Male   26                56000           100000      Bush\n",
       "4     Male   27                82000           100000      Bush\n",
       "5     Male   32               150000           150000      Bush\n",
       "6   Female   24                55000           100000      Bush\n",
       "7     Male   30               110000           150000      Bush\n",
       "8     Male   26                48000            80000      Bush\n",
       "9     Male   26               120000            80000      Bush"
      ]
     },
     "execution_count": 5,
     "metadata": {},
     "output_type": "execute_result"
    }
   ],
   "source": [
    "df_tf = pd.read_excel('../Dados/votesurvey.xls')\n",
    "df_tf.index.name = 'id'\n",
    "df_tf.head(10)"
   ]
  },
  {
   "cell_type": "code",
   "execution_count": null,
   "metadata": {},
   "outputs": [],
   "source": []
  },
  {
   "cell_type": "markdown",
   "metadata": {},
   "source": [
    "14 - Conecte ao banco SQLite \"iris_database.sqlite\"e responda, demonstrando os comandos SQL apropriados:  \n",
    "\n",
    "a) Há quantas \"Species\" diferentes na tabela \"iris\"?  \n",
    "b) Quantos registros totais há na tabela \"iris\"?  \n",
    "\n",
    "Considerando a superfície das pétalas e sépalas como retangular, responda:  \n",
    "\n",
    "c) Qual espécie (\"Species\") contém, em média, a maior área de pétalas?  \n",
    "d) Qual espécie (\"Species\") contém, em média, a maior área total (pétalas e sépalas)?  \n",
    "\n",
    "(Por curiosidade, as espécies de Iris contém 3 pétalas e 3 sépalas)  "
   ]
  },
  {
   "cell_type": "code",
   "execution_count": 6,
   "metadata": {},
   "outputs": [],
   "source": [
    "conn = sqlite3.connect('../Dados/iris_database.sqlite')\n",
    "cur = conn.cursor()"
   ]
  },
  {
   "cell_type": "code",
   "execution_count": null,
   "metadata": {},
   "outputs": [],
   "source": []
  },
  {
   "cell_type": "markdown",
   "metadata": {},
   "source": [
    "15 - Conecte ao banco Python/Dados/chinook.sqlite e responda:\n",
    "\n",
    "a) Utilizando um comando SQL e as tabelas \"invoices\", \"invoice_items\", \"customers\" e \"tracks\", mostre quais as faixas compradas por clientes que têm o primeiro nome começando com a letra \"M\".  \n",
    "b) Quais clientes contêm a letra \"o\" tanto no nome como no sobrenome?  \n",
    "c) Crie um histograma de faixas (\"tracks\") mais compradas, usando o matplotlib.  \n",
    "d) Qual o cliente (\"customers\") que teve gasto médio em compras (\"invoices\") o valor mais próximo do valor médio do total de compras de todos os clientes?  \n",
    "e) Escreva um script em Python + SQL para construir um dicionário tendo os nomes dos artistas (\"artists\") como chaves e uma lista dos álbuns (\"albuns\") respectivos como valores."
   ]
  },
  {
   "cell_type": "code",
   "execution_count": null,
   "metadata": {},
   "outputs": [],
   "source": [
    "conn = sqlite3.connect('../Dados/chinook.sqlite')\n",
    "cur = conn.cursor()"
   ]
  },
  {
   "cell_type": "code",
   "execution_count": null,
   "metadata": {},
   "outputs": [],
   "source": []
  }
 ],
 "metadata": {
  "kernelspec": {
   "display_name": "Python 3",
   "language": "python",
   "name": "python3"
  },
  "language_info": {
   "codemirror_mode": {
    "name": "ipython",
    "version": 3
   },
   "file_extension": ".py",
   "mimetype": "text/x-python",
   "name": "python",
   "nbconvert_exporter": "python",
   "pygments_lexer": "ipython3",
   "version": "3.5.2"
  }
 },
 "nbformat": 4,
 "nbformat_minor": 2
}
