{
 "cells": [
  {
   "cell_type": "code",
   "execution_count": 11,
   "metadata": {},
   "outputs": [],
   "source": [
    "#Começamos importando o módulo re\n",
    "import re"
   ]
  },
  {
   "cell_type": "markdown",
   "metadata": {},
   "source": [
    "Fonte: https://developers.google.com/edu/python/regular-expressions?fbclid=IwAR3wPkySICQONn7s4ald-Hk7Mh9F-EsYz3qm_aLf3HJSm4Er0DjYSzrP6U8"
   ]
  },
  {
   "cell_type": "markdown",
   "metadata": {},
   "source": [
    "The re.search() method takes a regular expression pattern and a string and searches for that pattern within the string. If the search is successful, search() returns a match object or None otherwise. Therefore, the search is usually immediately followed by an if-statement to test if the search succeeded, as shown in the following example which searches for the pattern 'word ' followed by a 3 letter word.\n",
    "\n"
   ]
  },
  {
   "cell_type": "code",
   "execution_count": 23,
   "metadata": {},
   "outputs": [
    {
     "name": "stdout",
     "output_type": "stream",
     "text": [
      "found word cat\n"
     ]
    }
   ],
   "source": [
    "str = 'an example word cat!!'\n",
    "match = re.search(r'word \\w\\w\\w', str)\n",
    "# If-statement after search() tests if it succeeded\n",
    "if match:\n",
    "    print('found', match.group()) ## 'found word:cat'\n",
    "else:\n",
    "    print ('did not find')"
   ]
  },
  {
   "cell_type": "markdown",
   "metadata": {},
   "source": [
    "The code match = re.search(pat, str) stores the search result in a variable named \"match\". Then the if-statement tests the match -- if true the search succeeded and match.group() is the matching text (e.g. 'word:cat'). Otherwise if the match is false (None to be more specific), then the search did not succeed, and there is no matching text.\n",
    "\n",
    "The 'r' at the start of the pattern string designates a python \"raw\" string which passes through backslashes without change which is very handy for regular expressions."
   ]
  },
  {
   "cell_type": "markdown",
   "metadata": {},
   "source": [
    "The power of regular expressions is that they can specify patterns, not just fixed characters. "
   ]
  },
  {
   "cell_type": "code",
   "execution_count": 51,
   "metadata": {},
   "outputs": [
    {
     "name": "stdout",
     "output_type": "stream",
     "text": [
      "iii\n"
     ]
    }
   ],
   "source": [
    "# Search for pattern 'iii' in string 'piiig'.\n",
    "# All of the pattern must match, but it may appear anywhere.\n",
    "# On success, match.group() is matched text.\n",
    "match = re.search(r'iii', 'piiig') \n",
    "print(match.group())\n",
    "\n",
    "match = re.search(r'igs', 'piiig') \n",
    "# not found, match == None"
   ]
  },
  {
   "cell_type": "code",
   "execution_count": 53,
   "metadata": {},
   "outputs": [
    {
     "name": "stdout",
     "output_type": "stream",
     "text": [
      "iig\n"
     ]
    }
   ],
   "source": [
    "# . = any char but \\n\n",
    "match = re.search(r'..g', 'piiig') \n",
    "print(match.group())"
   ]
  },
  {
   "cell_type": "code",
   "execution_count": 54,
   "metadata": {},
   "outputs": [
    {
     "name": "stdout",
     "output_type": "stream",
     "text": [
      "123\n",
      "abc\n"
     ]
    }
   ],
   "source": [
    "# \\d = digit char, \\w = word char\n",
    "match = re.search(r'\\d\\d\\d', 'p123g') \n",
    "print(match.group())\n",
    "\n",
    "match = re.search(r'\\w\\w\\w', '@@abcd!!') \n",
    "print(match.group())"
   ]
  },
  {
   "cell_type": "markdown",
   "metadata": {},
   "source": [
    "Repetition Examples\n"
   ]
  },
  {
   "cell_type": "code",
   "execution_count": 45,
   "metadata": {},
   "outputs": [
    {
     "name": "stdout",
     "output_type": "stream",
     "text": [
      "piii\n"
     ]
    }
   ],
   "source": [
    "# i+ = one or more i's, as many as possible.\n",
    "match = re.search(r'pi+', 'piiig')\n",
    "print(match.group())"
   ]
  },
  {
   "cell_type": "code",
   "execution_count": 46,
   "metadata": {},
   "outputs": [
    {
     "name": "stdout",
     "output_type": "stream",
     "text": [
      "ii\n"
     ]
    }
   ],
   "source": [
    "# Finds the first/leftmost solution, and within it drives the +\n",
    "# as far as possible (aka 'leftmost and largest').\n",
    "# In this example, note that it does not get to the second set of i's.\n",
    "match = re.search(r'i+', 'piigiiii') \n",
    "print(match.group())"
   ]
  },
  {
   "cell_type": "code",
   "execution_count": 48,
   "metadata": {},
   "outputs": [
    {
     "name": "stdout",
     "output_type": "stream",
     "text": [
      "1 2   3\n",
      "12  3\n",
      "123\n"
     ]
    }
   ],
   "source": [
    "# \\s* = zero or more whitespace chars\n",
    "# Here look for 3 digits, possibly separated by whitespace.\n",
    "match = re.search(r'\\d\\s*\\d\\s*\\d', 'xx1 2   3xx') \n",
    "print(match.group())\n",
    "\n",
    "match = re.search(r'\\d\\s*\\d\\s*\\d', 'xx12  3xx') \n",
    "print(match.group())\n",
    "\n",
    "match = re.search(r'\\d\\s*\\d\\s*\\d', 'xx123xx') \n",
    "print(match.group())"
   ]
  },
  {
   "cell_type": "code",
   "execution_count": 50,
   "metadata": {},
   "outputs": [
    {
     "name": "stdout",
     "output_type": "stream",
     "text": [
      "bar\n"
     ]
    }
   ],
   "source": [
    "# ^ = matches the start of string, so this fails:\n",
    "match = re.search(r'^b\\w+', 'foobar') \n",
    "'not found'  #match == None\n",
    "\n",
    "# but without the ^ it succeeds:\n",
    "match = re.search(r'b\\w+', 'foobar')\n",
    "print(match.group())"
   ]
  },
  {
   "cell_type": "markdown",
   "metadata": {},
   "source": [
    "Square Brackets"
   ]
  },
  {
   "cell_type": "code",
   "execution_count": 58,
   "metadata": {},
   "outputs": [
    {
     "data": {
      "text/plain": [
       "'purple alice-b@google.com monkey dishwasher'"
      ]
     },
     "execution_count": 58,
     "metadata": {},
     "output_type": "execute_result"
    }
   ],
   "source": [
    "str = 'purple alice-b@google.com monkey dishwasher'\n",
    "str"
   ]
  },
  {
   "cell_type": "code",
   "execution_count": 61,
   "metadata": {},
   "outputs": [
    {
     "name": "stdout",
     "output_type": "stream",
     "text": [
      "alice-b@google.com\n"
     ]
    }
   ],
   "source": [
    "match = re.search(r'[\\w.-]+@[\\w.-]+', str)\n",
    "if match:\n",
    "    print (match.group())  # 'alice-b@google.com'"
   ]
  },
  {
   "cell_type": "markdown",
   "metadata": {},
   "source": [
    "Group extraction"
   ]
  },
  {
   "cell_type": "code",
   "execution_count": 65,
   "metadata": {},
   "outputs": [
    {
     "name": "stdout",
     "output_type": "stream",
     "text": [
      "alice-b@google.com\n",
      "alice-b\n",
      "google.com\n"
     ]
    }
   ],
   "source": [
    "str = 'purple alice-b@google.com monkey dishwasher'\n",
    "match = re.search(r'([\\w.-]+)@([\\w.-]+)', str)\n",
    "if match:\n",
    "    print (match.group())   ## 'alice-b@google.com' (the whole match)\n",
    "    print (match.group(1))  ## 'alice-b' (the username, group 1)\n",
    "    print (match.group(2))  ## 'google.com' (the host, group 2)"
   ]
  },
  {
   "cell_type": "markdown",
   "metadata": {},
   "source": [
    "Findall()"
   ]
  },
  {
   "cell_type": "code",
   "execution_count": 70,
   "metadata": {},
   "outputs": [
    {
     "name": "stdout",
     "output_type": "stream",
     "text": [
      "alice@google.com\n",
      "bob@abc.com\n"
     ]
    }
   ],
   "source": [
    "# Suppose we have a text with many email addresses\n",
    "str = 'purple alice@google.com, blah monkey bob@abc.com blah dishwasher'\n",
    "\n",
    "# Here re.findall() returns a list of all the found email strings\n",
    "emails = re.findall(r'[\\w\\.-]+@[\\w\\.-]+', str) ## ['alice@google.com', 'bob@abc.com']\n",
    "for email in emails:\n",
    "    # do something with each found email string\n",
    "    print (email)"
   ]
  },
  {
   "cell_type": "code",
   "execution_count": null,
   "metadata": {},
   "outputs": [],
   "source": []
  },
  {
   "cell_type": "code",
   "execution_count": null,
   "metadata": {},
   "outputs": [],
   "source": []
  },
  {
   "cell_type": "code",
   "execution_count": null,
   "metadata": {},
   "outputs": [],
   "source": []
  },
  {
   "cell_type": "code",
   "execution_count": null,
   "metadata": {},
   "outputs": [],
   "source": []
  },
  {
   "cell_type": "code",
   "execution_count": null,
   "metadata": {},
   "outputs": [],
   "source": []
  },
  {
   "cell_type": "code",
   "execution_count": null,
   "metadata": {},
   "outputs": [],
   "source": []
  },
  {
   "cell_type": "code",
   "execution_count": null,
   "metadata": {},
   "outputs": [],
   "source": []
  },
  {
   "cell_type": "code",
   "execution_count": null,
   "metadata": {},
   "outputs": [],
   "source": []
  }
 ],
 "metadata": {
  "kernelspec": {
   "display_name": "Python 3",
   "language": "python",
   "name": "python3"
  },
  "language_info": {
   "codemirror_mode": {
    "name": "ipython",
    "version": 3
   },
   "file_extension": ".py",
   "mimetype": "text/x-python",
   "name": "python",
   "nbconvert_exporter": "python",
   "pygments_lexer": "ipython3",
   "version": "3.5.2"
  }
 },
 "nbformat": 4,
 "nbformat_minor": 2
}
