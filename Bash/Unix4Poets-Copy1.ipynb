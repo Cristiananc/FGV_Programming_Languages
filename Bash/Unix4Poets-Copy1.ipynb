{
 "cells": [
  {
   "cell_type": "markdown",
   "metadata": {},
   "source": [
    "## Exercícios - [\"Unix for Poets\"](https://www.cs.upc.edu/~padro/Unixforpoets.pdf)"
   ]
  },
  {
   "cell_type": "markdown",
   "metadata": {},
   "source": [
    "Vamos demonstrar o uso dos seguintes programas do Unix / Linux:  \n",
    "+ cat\n",
    "+ tr  \n",
    "+ wc  \n",
    "+ sort  \n",
    "+ uniq  \n",
    "+ head  \n",
    "+ tail  \n",
    "+ sed  \n",
    "+ rev  \n",
    "+ paste  \n",
    "+ grep / egrep   \n",
    "\n",
    "\n",
    "    "
   ]
  },
  {
   "cell_type": "code",
   "execution_count": 3,
   "metadata": {},
   "outputs": [
    {
     "name": "stdout",
     "output_type": "stream",
     "text": [
      "/dados/home/cristiananc/FGV_Programming_Languages/Bash\r\n"
     ]
    }
   ],
   "source": [
    "!pwd"
   ]
  },
  {
   "cell_type": "markdown",
   "metadata": {},
   "source": [
    "#### 1) Contando palavras em um texto "
   ]
  },
  {
   "cell_type": "markdown",
   "metadata": {},
   "source": [
    "#### 2) Ordenando uma lista de palavras de várias maneiras\n",
    "+ ordem ascii\n",
    "+ ordem alfabética\n",
    "+ ordem de \"rima\""
   ]
  },
  {
   "cell_type": "code",
   "execution_count": 4,
   "metadata": {},
   "outputs": [
    {
     "name": "stdout",
     "output_type": "stream",
     "text": [
      "a\r\n",
      "A\r\n",
      "abated\r\n",
      "Abel\r\n",
      "Abelmizraim\r\n",
      "Abidah\r\n",
      "abide\r\n",
      "Abide\r\n",
      "Abimael\r\n",
      "Abimelech\r\n",
      "uniq: write error: Broken pipe\r\n"
     ]
    }
   ],
   "source": [
    "! tr -sc '[A-Z][a-z]' '[\\012*]' < ./Dados/genesis.txt | sort | uniq | head"
   ]
  },
  {
   "cell_type": "code",
   "execution_count": 5,
   "metadata": {},
   "outputs": [
    {
     "name": "stdout",
     "output_type": "stream",
     "text": [
      "    339 a\r\n",
      "      2 A\r\n",
      "      3 abated\r\n",
      "      8 Abel\r\n",
      "      1 Abelmizraim\r\n",
      "      1 Abidah\r\n",
      "      4 abide\r\n",
      "      1 Abide\r\n",
      "      1 Abimael\r\n",
      "     24 Abimelech\r\n",
      "uniq: write error: Broken pipe\r\n"
     ]
    }
   ],
   "source": [
    "! tr -sc '[A-Z][a-z]' '[\\012*]' < ./Dados/genesis.txt | sort | uniq -c | head"
   ]
  },
  {
   "cell_type": "code",
   "execution_count": 6,
   "metadata": {},
   "outputs": [
    {
     "name": "stdout",
     "output_type": "stream",
     "text": [
      "   2428 and\r\n",
      "   2408 the\r\n",
      "   1360 of\r\n",
      "   1250 And\r\n",
      "    651 his\r\n",
      "    646 he\r\n",
      "    611 to\r\n",
      "    590 unto\r\n",
      "    588 in\r\n",
      "    509 that\r\n",
      "sort: write failed: 'standard output': Broken pipe\r\n",
      "sort: write error\r\n"
     ]
    }
   ],
   "source": [
    "! cat ./Dados/genesis.txt | tr -sc '[A-Z][a-z]' '[\\012*]' | sort | uniq -c | sort -gr | sed 10q"
   ]
  },
  {
   "cell_type": "code",
   "execution_count": 7,
   "metadata": {},
   "outputs": [
    {
     "name": "stdout",
     "output_type": "stream",
     "text": [
      "A\r\n",
      "ABATED\r\n",
      "ABEL\r\n",
      "ABELMIZRAIM\r\n",
      "ABIDAH\r\n",
      "ABIDE\r\n",
      "ABIMAEL\r\n",
      "ABIMELECH\r\n",
      "ABLE\r\n",
      "ABODE\r\n",
      "uniq: write error: Broken pipe\r\n"
     ]
    }
   ],
   "source": [
    "! cat ./Dados/genesis.txt | tr '[a-z]' '[A-Z]' | tr -sc '[A-Z]' '[\\012*]' | sort | uniq | sed 10q"
   ]
  },
  {
   "cell_type": "code",
   "execution_count": 8,
   "metadata": {},
   "outputs": [
    {
     "name": "stdout",
     "output_type": "stream",
     "text": [
      "   3678 AND\r\n",
      "   2459 THE\r\n",
      "   1366 OF\r\n",
      "    653 HIS\r\n",
      "    652 HE\r\n",
      "    612 TO\r\n",
      "    600 IN\r\n",
      "    598 UNTO\r\n",
      "    520 THAT\r\n",
      "    484 I\r\n",
      "sort: write failed: 'standard output': Broken pipe\r\n",
      "sort: write error\r\n"
     ]
    }
   ],
   "source": [
    "! cat ./Dados/genesis.txt | tr '[a-z]' '[A-Z]' | tr -sc '[A-Z]' '[\\012*]' | sort | uniq -c | sort -gr | sed 10q"
   ]
  },
  {
   "cell_type": "code",
   "execution_count": 9,
   "metadata": {},
   "outputs": [
    {
     "name": "stdout",
     "output_type": "stream",
     "text": [
      "      1 reached\r\n",
      "      4 searched\r\n",
      "      2 fetched\r\n",
      "      2 stretched\r\n",
      "      7 pitched\r\n",
      "      1 couched\r\n",
      "      3 touched\r\n",
      "      1 weighed\r\n",
      "      3 laughed\r\n",
      "      1 shed\r\n",
      "      1 Shed\r\n",
      "      3 washed\r\n",
      "      3 leanfleshed\r\n",
      "      2 fatfleshed\r\n",
      "      2 established\r\n",
      "      1 famished\r\n",
      "      1 finished\r\n",
      "      1 nourished\r\n",
      "      1 breathed\r\n",
      "      1 clothed\r\n",
      "     33 died\r\n"
     ]
    }
   ],
   "source": [
    "! ! cat ./Dados/genesis.txt | tr -sc '[A-Z][a-z]' '[\\012*]' | rev | sort | rev | uniq -c | sed -n '100,120p'"
   ]
  },
  {
   "cell_type": "markdown",
   "metadata": {},
   "source": [
    "#### 3) Encontrando n-gramas"
   ]
  },
  {
   "cell_type": "code",
   "execution_count": 10,
   "metadata": {},
   "outputs": [
    {
     "name": "stdout",
     "output_type": "stream",
     "text": [
      "tail: cannot open '+2' for reading: No such file or directory\r\n"
     ]
    }
   ],
   "source": [
    "! cat ./Dados/genesis.txt | tr -sc '[A-Z][a-z]' '[\\012*]' > ./Dados/genesis.words\n",
    "! tail +2 ./Dados/genesis.words > ./Dados/genesis.nextwords\n",
    "! paste ./Dados/genesis.words ./Dados/genesis.nextwords | sort | uniq -c > ./Dados/genesis.bigrams"
   ]
  },
  {
   "cell_type": "code",
   "execution_count": 11,
   "metadata": {},
   "outputs": [
    {
     "name": "stdout",
     "output_type": "stream",
     "text": [
      "    339 a\t\r\n",
      "      2 A\t\r\n",
      "      3 abated\t\r\n",
      "      8 Abel\t\r\n",
      "      1 Abelmizraim\t\r\n",
      "      1 Abidah\t\r\n",
      "      4 abide\t\r\n",
      "      1 Abide\t\r\n",
      "      1 Abimael\t\r\n",
      "     24 Abimelech\t\r\n"
     ]
    }
   ],
   "source": [
    "! cat ./Dados/genesis.bigrams | head "
   ]
  },
  {
   "cell_type": "code",
   "execution_count": 12,
   "metadata": {},
   "outputs": [],
   "source": [
    "! paste ./Dados/genesis.words ./Dados/genesis.nextwords | sort | uniq -c | sort -gr > ./Dados/genesis.bigrams.freq"
   ]
  },
  {
   "cell_type": "code",
   "execution_count": 13,
   "metadata": {},
   "outputs": [
    {
     "name": "stdout",
     "output_type": "stream",
     "text": [
      "   2428 and\t\r\n",
      "   2407 the\t\r\n",
      "   1359 of\t\r\n",
      "   1250 And\t\r\n",
      "    651 his\t\r\n",
      "    646 he\t\r\n",
      "    611 to\t\r\n",
      "    590 unto\t\r\n",
      "    588 in\t\r\n",
      "    509 that\t\r\n"
     ]
    }
   ],
   "source": [
    "! cat ./Dados/genesis.bigrams.freq | head "
   ]
  },
  {
   "cell_type": "code",
   "execution_count": 14,
   "metadata": {},
   "outputs": [
    {
     "name": "stdout",
     "output_type": "stream",
     "text": [
      "tail: cannot open '+2' for reading: No such file or directory\n",
      "tail: cannot open '+3' for reading: No such file or directory\n"
     ]
    }
   ],
   "source": [
    "! cat ./Dados/genesis.txt | tr -sc '[A-Z][a-z]' '[\\012*]' > genesis.words\n",
    "! tail +2 ./Dados/genesis.words > ./Dados/genesis.nextwords\n",
    "! tail +3 ./Dados/genesis.words > ./Dados/genesis.nextwords2\n",
    "! paste ./Dados/genesis.words ./Dados/genesis.nextwords ./Dados/genesis.nextwords2 | sort | uniq -c > ./Dados/genesis.trigrams"
   ]
  },
  {
   "cell_type": "code",
   "execution_count": 15,
   "metadata": {},
   "outputs": [
    {
     "name": "stdout",
     "output_type": "stream",
     "text": [
      "    339 a\t\t\r\n",
      "      2 A\t\t\r\n",
      "      3 abated\t\t\r\n",
      "      8 Abel\t\t\r\n",
      "      1 Abelmizraim\t\t\r\n",
      "      1 Abidah\t\t\r\n",
      "      4 abide\t\t\r\n",
      "      1 Abide\t\t\r\n",
      "      1 Abimael\t\t\r\n",
      "     24 Abimelech\t\t\r\n"
     ]
    }
   ],
   "source": [
    "! cat ./Dados/genesis.trigrams | head "
   ]
  },
  {
   "cell_type": "code",
   "execution_count": 16,
   "metadata": {},
   "outputs": [],
   "source": [
    "!paste ./Dados/genesis.words ./Dados/genesis.nextwords ./Dados/genesis.nextwords2 | sort | uniq -c | sort -gr > ./Dados/genesis.trigrams.freq "
   ]
  },
  {
   "cell_type": "code",
   "execution_count": 17,
   "metadata": {},
   "outputs": [],
   "source": [
    "#o comando paste junta duas listas"
   ]
  },
  {
   "cell_type": "code",
   "execution_count": 18,
   "metadata": {},
   "outputs": [
    {
     "name": "stdout",
     "output_type": "stream",
     "text": [
      "   2428 and\t\t\r\n",
      "   2407 the\t\t\r\n",
      "   1359 of\t\t\r\n",
      "   1250 And\t\t\r\n",
      "    651 his\t\t\r\n",
      "    646 he\t\t\r\n",
      "    611 to\t\t\r\n",
      "    590 unto\t\t\r\n",
      "    588 in\t\t\r\n",
      "    509 that\t\t\r\n"
     ]
    }
   ],
   "source": [
    "! cat ./Dados/genesis.trigrams.freq | head "
   ]
  },
  {
   "cell_type": "markdown",
   "metadata": {},
   "source": [
    "#### 4) Buscando por padrões com [grep and egrep](https://www.digitalocean.com/community/tutorials/using-grep-regular-expressions-to-search-for-text-patterns-in-linux)"
   ]
  },
  {
   "cell_type": "raw",
   "metadata": {},
   "source": [
    "Example               Explanation\n",
    "___________________________________________\n",
    "grep gh          find lines containing ‘‘gh’’\n",
    "grep ’ˆcon’      find lines beginning with ‘‘con’’\n",
    "grep ’ing$’      find lines ending with ‘‘ing’\n",
    "grep –v gh       delete lines containing ‘‘gh’’\n",
    "grep –v ’ˆcon’   delete lines beginning with ‘‘con’’\n",
    "grep –v ’ing$’   delete lines ending with ‘‘ing’’"
   ]
  },
  {
   "cell_type": "raw",
   "metadata": {},
   "source": [
    "Grep allows ranges of characters (somewhat) like tr.\n",
    "Example              Explanation\n",
    "___________________________________________________\n",
    "grep ’[A–Z]’         lines with an uppercase char\n",
    "grep ’ˆ[A–Z]’        lines starting with an uppercase char\n",
    "grep ’[A–Z]$’        lines ending with an uppercase char\n",
    "grep ’ˆ[A–Z]*$’      lines with all uppercase chars\n",
    "grep ’[aeiouAEIOU]’  lines with a vowel\n",
    "grep ’^[aeiouAEIOU]’ lines starting with a vowel\n",
    "grep ’[aeiouAEIOU]$’ lines ending with a vowel"
   ]
  },
  {
   "cell_type": "code",
   "execution_count": 53,
   "metadata": {},
   "outputs": [
    {
     "name": "stdout",
     "output_type": "stream",
     "text": [
      "4:16 And Cain went out from the presence of the LORD, and dwelt in the land of Nod, on the east of Eden. \n",
      "10:10 And the beginning of his kingdom was Babel, and Erech, and Accad, and Calneh, in the land of Shinar. \n",
      "11:2 And it came to pass, as they journeyed from the east, that they found a plain in the land of Shinar; and they dwelt there. \n",
      "11:28 And Haran died before his father Terah in the land of his nativity, in Ur of the Chaldees. \n",
      "11:31 And Terah took Abram his son, and Lot the son of Haran his son's son, and Sarai his daughter in law, his son Abram's wife; and they went forth with them from Ur of the Chaldees, to go into the land of Canaan; and they came unto Haran, and dwelt there. \n",
      "12:5 And Abram took Sarai his wife, and Lot his brother's son, and all their substance that they had gathered, and the souls that they had gotten in Haran; and they went forth to go into the land of Canaan; and into the land of Canaan they came. \n",
      "13:10 And Lot lifted up his eyes, and beheld all the plain of Jordan, that it was well watered every where, before the LORD destroyed Sodom and Gomorrah, even as the garden of the LORD, like the land of Egypt, as thou comest unto Zoar. \n",
      "13:12 Abram dwelled in the land of Canaan, and Lot dwelled in the cities of the plain, and pitched his tent toward Sodom. \n",
      "16:3 And Sarai Abram's wife took Hagar her maid the Egyptian, after Abram had dwelt ten years in the land of Canaan, and gave her to her husband Abram to be his wife. \n",
      "17:8 And I will give unto thee, and to thy seed after thee, the land wherein thou art a stranger, all the land of Canaan, for an everlasting possession; and I will be their God. \n"
     ]
    }
   ],
   "source": [
    "cat ./Dados/genesis.txt | grep 'the land of' | sed 10q"
   ]
  },
  {
   "cell_type": "code",
   "execution_count": 19,
   "metadata": {},
   "outputs": [
    {
     "name": "stdout",
     "output_type": "stream",
     "text": [
      "187\r\n"
     ]
    }
   ],
   "source": [
    "! cat ./Dados/genesis.txt | grep 'God' | wc -l #quantidade de linhas em que a palavra aparece"
   ]
  },
  {
   "cell_type": "code",
   "execution_count": 20,
   "metadata": {},
   "outputs": [
    {
     "name": "stdout",
     "output_type": "stream",
     "text": [
      "233\r\n"
     ]
    }
   ],
   "source": [
    "! cat ./Dados/genesis.txt | grep -o 'God' | wc -l #quantidade de vezes q a palavra aparece"
   ]
  },
  {
   "cell_type": "code",
   "execution_count": 21,
   "metadata": {},
   "outputs": [
    {
     "name": "stdout",
     "output_type": "stream",
     "text": [
      "238\r\n"
     ]
    }
   ],
   "source": [
    "! cat ./Dados/genesis.txt | grep -io 'God' | wc -l"
   ]
  },
  {
   "cell_type": "code",
   "execution_count": 22,
   "metadata": {},
   "outputs": [
    {
     "name": "stdout",
     "output_type": "stream",
     "text": [
      "238\r\n"
     ]
    }
   ],
   "source": [
    "! cat ./Dados/genesis.txt | tr '[A-Z]' '[a-z]' | tr -sc '[a-z]' '[\\012*]' | grep 'god' | wc -l"
   ]
  },
  {
   "cell_type": "markdown",
   "metadata": {},
   "source": [
    "#### Retirando os números e encontrando a palavra God"
   ]
  },
  {
   "cell_type": "code",
   "execution_count": 79,
   "metadata": {},
   "outputs": [
    {
     "name": "stdout",
     "output_type": "stream",
     "text": [
      " In the beginning God created the heaven and the earth. \n",
      " And the earth was without form, and void; and darkness was upon the face of the deep. And the Spirit of God moved upon the face of the waters. \n",
      " And God said, Let there be light and there was light. \n",
      " And God saw the light, that it was good and God divided the light from the darkness. \n",
      " And God called the light Day, and the darkness he called Night. And the evening and the morning were the first day. \n",
      " And God said, Let there be a firmament in the midst of the waters, and let it divide the waters from the waters. \n",
      " And God made the firmament, and divided the waters which were under the firmament from the waters which were above the firmament and it was so. \n",
      " And God called the firmament Heaven. And the evening and the morning were the second day. \n",
      " And God said, Let the waters under the heaven be gathered together unto one place, and let the dry land appear and it was so. \n",
      " And God called the dry land Earth; and the gathering together of the waters called he Seas and God saw that it was good. \n"
     ]
    }
   ],
   "source": [
    "! cat ./Dados/genesis.txt | tr -d '[0-9:]' | grep 'God' | sed 10q"
   ]
  },
  {
   "cell_type": "markdown",
   "metadata": {},
   "source": [
    "#### Linhas que não começam por \"And\""
   ]
  },
  {
   "cell_type": "code",
   "execution_count": 23,
   "metadata": {},
   "outputs": [
    {
     "name": "stdout",
     "output_type": "stream",
     "text": [
      "The First Book of Moses  Called Genesis \r\n",
      "\r\n",
      " In the beginning God created the heaven and the earth. \r\n",
      " So God created man in his own image, in the image of God created he him; male and female created he them. \r\n",
      " Thus the heavens and the earth were finished, and all the host of them. \r\n",
      " These are the generations of the heavens and of the earth when they were created, in the day that the LORD God made the earth and the heavens,  And every plant of the field before it was in the earth, and every herb of the field before it grew for the LORD God had not caused it to rain upon the earth, and there was not a man to till the ground. \r\n",
      " But there went up a mist from the earth, and watered the whole face of the ground. \r\n",
      " The name of the first is Pison that is it which compasseth the whole land of Havilah, where there is gold;  And the gold of that land is good there is bdellium and the onyx stone. \r\n",
      " Therefore shall a man leave his father and his mother, and shall cleave unto his wife and they shall be one flesh. \r\n",
      " Now the serpent was more subtil than any beast of the field which the LORD God had made. And he said unto the woman, Yea, hath God said, Ye shall not eat of every tree of the garden?   And the woman said unto the serpent, We may eat of the fruit of the trees of the garden  But of the fruit of the tree which is in the midst of the garden, God hath said, Ye shall not eat of it, neither shall ye touch it, lest ye die. \r\n",
      "grep: write error: Broken pipe\r\n",
      "tr: write error: Broken pipe\r\n",
      "tr: write error\r\n",
      "cat: write error: Broken pipe\r\n"
     ]
    }
   ],
   "source": [
    "! cat ./Dados/genesis.txt | tr -d '[0-9:]' | grep -v '^ And' | sed 10q  # -d deleta qualquer coisa de 0 a 9 seguido \n",
    "#que dois pontos"
   ]
  },
  {
   "cell_type": "markdown",
   "metadata": {},
   "source": [
    "#### Exercícios com grep / egrep\n",
    "\n",
    "1) Quantas palavras maiúsculas há no Genesis?  \n",
    "2) Quantas palavras de 4 letras?  \n",
    "3) Há palavras sem vogais?  \n",
    "4) Há palavras com apenas uma sílaba (somente uma vogal)?  \n",
    "5) Encontre as palavras com exatemente duas sílabas (duas vogais não adjacentes)  \n",
    "6) Algumas palavras contêm duas vogais que soam como uma apenas. Retire da lista de palavras com duas vogais aquelas que contem um \"e\" mudo.  \n",
    "7) Retire da lista de palavras com duas vogais os ditongos (vogais adjacentes)  \n",
    "8) Encontre versículos do Genesis com a palavra \"light.\"  "
   ]
  },
  {
   "cell_type": "code",
   "execution_count": null,
   "metadata": {},
   "outputs": [],
   "source": []
  }
 ],
 "metadata": {
  "kernelspec": {
   "display_name": "Python 3",
   "language": "python",
   "name": "python3"
  },
  "language_info": {
   "codemirror_mode": {
    "name": "ipython",
    "version": 3
   },
   "file_extension": ".py",
   "mimetype": "text/x-python",
   "name": "python",
   "nbconvert_exporter": "python",
   "pygments_lexer": "ipython3",
   "version": "3.5.2"
  }
 },
 "nbformat": 4,
 "nbformat_minor": 2
}
